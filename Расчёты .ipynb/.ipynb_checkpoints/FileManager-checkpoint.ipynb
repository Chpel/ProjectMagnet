{
 "cells": [
  {
   "cell_type": "code",
   "execution_count": 15,
   "id": "deluxe-visit",
   "metadata": {},
   "outputs": [],
   "source": [
    "from pathlib import Path\n",
    "import numpy as np"
   ]
  },
  {
   "cell_type": "code",
   "execution_count": 23,
   "id": "interior-administration",
   "metadata": {},
   "outputs": [
    {
     "data": {
      "text/plain": [
       "[WindowsPath('C:/Users/user/Documents/GitHub/ProjectMagnet/Simulation Results/Geo_Is_4D_All/Geometry_Ising_hypercubic 0.000000_0.000000_100in55.txt'),\n",
       " WindowsPath('C:/Users/user/Documents/GitHub/ProjectMagnet/Simulation Results/Geo_Is_4D_All/Geometry_Ising_hypercubic 0.000000_0.000000_1200in212.txt'),\n",
       " WindowsPath('C:/Users/user/Documents/GitHub/ProjectMagnet/Simulation Results/Geo_Is_4D_All/Geometry_Ising_hypercubic 0.000000_0.000000_200.txt'),\n",
       " WindowsPath('C:/Users/user/Documents/GitHub/ProjectMagnet/Simulation Results/Geo_Is_4D_All/Geometry_Ising_hypercubic 0.000000_0.000000_300in91.txt'),\n",
       " WindowsPath('C:/Users/user/Documents/GitHub/ProjectMagnet/Simulation Results/Geo_Is_4D_All/Geometry_Ising_hypercubic 0.000000_0.000000_600in127.txt'),\n",
       " WindowsPath('C:/Users/user/Documents/GitHub/ProjectMagnet/Simulation Results/Geo_Is_4D_All/Geometry_Ising_hypercubic 0.000000_0.000000_900in155.txt')]"
      ]
     },
     "execution_count": 23,
     "metadata": {},
     "output_type": "execute_result"
    }
   ],
   "source": [
    "DIR = Path.cwd().parent / \"Simulation Results\" / \"Geo_Is_4D_All\"\n",
    "list(DIR.glob('*'))"
   ]
  },
  {
   "cell_type": "code",
   "execution_count": 26,
   "id": "excellent-occasions",
   "metadata": {},
   "outputs": [
    {
     "data": {
      "text/plain": [
       "'Geo_Is_4D_All.txt'"
      ]
     },
     "execution_count": 26,
     "metadata": {},
     "output_type": "execute_result"
    }
   ],
   "source": [
    "DIR.stem+\".txt\""
   ]
  },
  {
   "cell_type": "code",
   "execution_count": 31,
   "id": "front-austria",
   "metadata": {},
   "outputs": [],
   "source": [
    "output = DIR.parent / (DIR.stem+\".txt\")\n",
    "fout = open(output,'w')\n",
    "for name in DIR.glob('*'):\n",
    "    with open(name, 'r') as f:\n",
    "        i = 0\n",
    "        for line in f:\n",
    "            i += 1\n",
    "            if (i == 2):\n",
    "                fout.write(line)\n",
    "fout.close()\n"
   ]
  },
  {
   "cell_type": "code",
   "execution_count": 30,
   "id": "educational-andrews",
   "metadata": {},
   "outputs": [],
   "source": []
  },
  {
   "cell_type": "code",
   "execution_count": null,
   "id": "increased-typing",
   "metadata": {},
   "outputs": [],
   "source": []
  }
 ],
 "metadata": {
  "kernelspec": {
   "display_name": "Python 3",
   "language": "python",
   "name": "python3"
  },
  "language_info": {
   "codemirror_mode": {
    "name": "ipython",
    "version": 3
   },
   "file_extension": ".py",
   "mimetype": "text/x-python",
   "name": "python",
   "nbconvert_exporter": "python",
   "pygments_lexer": "ipython3",
   "version": "3.8.5"
  }
 },
 "nbformat": 4,
 "nbformat_minor": 5
}
