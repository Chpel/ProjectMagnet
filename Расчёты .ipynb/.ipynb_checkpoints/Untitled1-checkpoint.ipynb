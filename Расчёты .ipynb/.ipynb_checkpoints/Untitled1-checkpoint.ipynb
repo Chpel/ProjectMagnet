{
 "cells": [
  {
   "cell_type": "code",
   "execution_count": 1,
   "id": "3a33d80f",
   "metadata": {},
   "outputs": [],
   "source": [
    "import numpy as np\n",
    "from sympy import *"
   ]
  },
  {
   "cell_type": "markdown",
   "id": "9f86b27f",
   "metadata": {},
   "source": [
    "# Теор. подсчёт"
   ]
  },
  {
   "cell_type": "code",
   "execution_count": 2,
   "id": "36bb46eb",
   "metadata": {},
   "outputs": [],
   "source": [
    "p = np.pi"
   ]
  },
  {
   "cell_type": "code",
   "execution_count": 3,
   "id": "4555b744",
   "metadata": {},
   "outputs": [],
   "source": [
    "A = np.array([[0, 1, 4 - 8/p, 4/p, 4/p],\n",
    "              [1, 0,       1,   1,   1],\n",
    "              [4 - 8/p, 1, 0, 4/p, 4/p],\n",
    "              [4/p, 1, 4/p, 0, 4 - 8/p],\n",
    "              [4/p, 1, 4/p, 4 - 8/p, 0]])"
   ]
  },
  {
   "cell_type": "code",
   "execution_count": 4,
   "id": "f9cfc334",
   "metadata": {},
   "outputs": [
    {
     "data": {
      "text/latex": [
       "$\\displaystyle \\left[\\begin{matrix}0 & 1.0 & 1.45352091052967 & 1.27323954473516 & 1.27323954473516\\\\1.0 & 0 & 1.0 & 1.0 & 1.0\\\\1.45352091052967 & 1.0 & 0 & 1.27323954473516 & 1.27323954473516\\\\1.27323954473516 & 1.0 & 1.27323954473516 & 0 & 1.45352091052967\\\\1.27323954473516 & 1.0 & 1.27323954473516 & 1.45352091052967 & 0\\end{matrix}\\right]$"
      ],
      "text/plain": [
       "Matrix([\n",
       "[               0, 1.0, 1.45352091052967, 1.27323954473516, 1.27323954473516],\n",
       "[             1.0,   0,              1.0,              1.0,              1.0],\n",
       "[1.45352091052967, 1.0,                0, 1.27323954473516, 1.27323954473516],\n",
       "[1.27323954473516, 1.0, 1.27323954473516,                0, 1.45352091052967],\n",
       "[1.27323954473516, 1.0, 1.27323954473516, 1.45352091052967,                0]])"
      ]
     },
     "execution_count": 4,
     "metadata": {},
     "output_type": "execute_result"
    }
   ],
   "source": [
    "Matrix(A)"
   ]
  },
  {
   "cell_type": "code",
   "execution_count": 5,
   "id": "02aea9b3",
   "metadata": {},
   "outputs": [
    {
     "data": {
      "text/latex": [
       "$\\displaystyle \\left[\\begin{matrix}-0.572729322130857 & 0.25 & 0.115255276340171 & 0.228737022895343 & 0.228737022895343\\\\0.25 & -1.0 & 0.25 & 0.25 & 0.25\\\\0.115255276340171 & 0.25 & -0.572729322130856 & 0.228737022895343 & 0.228737022895343\\\\0.228737022895343 & 0.25 & 0.228737022895343 & -0.572729322130856 & 0.115255276340171\\\\0.228737022895343 & 0.25 & 0.228737022895343 & 0.115255276340171 & -0.572729322130857\\end{matrix}\\right]$"
      ],
      "text/plain": [
       "Matrix([\n",
       "[-0.572729322130857, 0.25,  0.115255276340171,  0.228737022895343,  0.228737022895343],\n",
       "[              0.25, -1.0,               0.25,               0.25,               0.25],\n",
       "[ 0.115255276340171, 0.25, -0.572729322130856,  0.228737022895343,  0.228737022895343],\n",
       "[ 0.228737022895343, 0.25,  0.228737022895343, -0.572729322130856,  0.115255276340171],\n",
       "[ 0.228737022895343, 0.25,  0.228737022895343,  0.115255276340171, -0.572729322130857]])"
      ]
     },
     "execution_count": 5,
     "metadata": {},
     "output_type": "execute_result"
    }
   ],
   "source": [
    "Kb = np.linalg.inv(A)\n",
    "Matrix(Kb)"
   ]
  },
  {
   "cell_type": "code",
   "execution_count": 6,
   "id": "b0be4ccb",
   "metadata": {},
   "outputs": [
    {
     "data": {
      "text/latex": [
       "$\\displaystyle \\left[\\begin{matrix}0.25\\\\0\\\\0.25\\\\0.25\\\\0.25\\end{matrix}\\right]$"
      ],
      "text/plain": [
       "Matrix([\n",
       "[0.25],\n",
       "[   0],\n",
       "[0.25],\n",
       "[0.25],\n",
       "[0.25]])"
      ]
     },
     "execution_count": 6,
     "metadata": {},
     "output_type": "execute_result"
    }
   ],
   "source": [
    "Kb_dx = Kb.sum(axis=0)\n",
    "Matrix(Kb_dx)"
   ]
  },
  {
   "cell_type": "code",
   "execution_count": 7,
   "id": "36c47664",
   "metadata": {},
   "outputs": [
    {
     "data": {
      "text/plain": [
       "1.0000000000000004"
      ]
     },
     "execution_count": 7,
     "metadata": {},
     "output_type": "execute_result"
    }
   ],
   "source": [
    "Kb_dd = Kb.sum()\n",
    "Kb_dd"
   ]
  },
  {
   "cell_type": "code",
   "execution_count": 8,
   "id": "fb495b88",
   "metadata": {},
   "outputs": [
    {
     "data": {
      "text/latex": [
       "$\\displaystyle \\left[\\begin{matrix}0.25\\\\0\\\\0.25\\\\0.25\\\\0.25\\end{matrix}\\right]$"
      ],
      "text/plain": [
       "Matrix([\n",
       "[0.25],\n",
       "[   0],\n",
       "[0.25],\n",
       "[0.25],\n",
       "[0.25]])"
      ]
     },
     "execution_count": 8,
     "metadata": {},
     "output_type": "execute_result"
    }
   ],
   "source": [
    "H_inf = Kb_dx / Kb_dd\n",
    "Matrix(H_inf)"
   ]
  },
  {
   "cell_type": "code",
   "execution_count": 9,
   "id": "7b646d90",
   "metadata": {},
   "outputs": [
    {
     "data": {
      "text/latex": [
       "$\\displaystyle \\left[\\begin{matrix}0.177270677869144 & 1.11022302462516 \\cdot 10^{-16} & -0.134744723659829 & -0.021262977104657 & -0.021262977104657\\\\1.11022302462516 \\cdot 10^{-16} & -0.25 & 1.11022302462516 \\cdot 10^{-16} & 8.32667268468867 \\cdot 10^{-17} & 2.22044604925031 \\cdot 10^{-16}\\\\-0.134744723659829 & 1.11022302462516 \\cdot 10^{-16} & 0.177270677869144 & -0.021262977104657 & -0.021262977104657\\\\-0.021262977104657 & 1.11022302462516 \\cdot 10^{-16} & -0.021262977104657 & 0.177270677869144 & -0.134744723659829\\\\-0.021262977104657 & 1.11022302462516 \\cdot 10^{-16} & -0.021262977104657 & -0.134744723659829 & 0.177270677869144\\end{matrix}\\right]$"
      ],
      "text/plain": [
       "Matrix([\n",
       "[   0.177270677869144, 1.11022302462516e-16,   -0.134744723659829,   -0.021262977104657,   -0.021262977104657],\n",
       "[1.11022302462516e-16,                -0.25, 1.11022302462516e-16, 8.32667268468867e-17, 2.22044604925031e-16],\n",
       "[  -0.134744723659829, 1.11022302462516e-16,    0.177270677869144,   -0.021262977104657,   -0.021262977104657],\n",
       "[  -0.021262977104657, 1.11022302462516e-16,   -0.021262977104657,    0.177270677869144,   -0.134744723659829],\n",
       "[  -0.021262977104657, 1.11022302462516e-16,   -0.021262977104657,   -0.134744723659829,    0.177270677869144]])"
      ]
     },
     "execution_count": 9,
     "metadata": {},
     "output_type": "execute_result"
    }
   ],
   "source": [
    "Pb = Kb - Kb.sum(axis=1) @ Kb.sum(axis=0) / Kb_dd + np.eye(5)\n",
    "Matrix(Pb)"
   ]
  },
  {
   "cell_type": "code",
   "execution_count": 10,
   "id": "974803c6",
   "metadata": {},
   "outputs": [
    {
     "data": {
      "text/plain": [
       "1"
      ]
     },
     "execution_count": 10,
     "metadata": {},
     "output_type": "execute_result"
    }
   ],
   "source": [
    "1 + (1!=1)"
   ]
  },
  {
   "cell_type": "code",
   "execution_count": 11,
   "id": "67135c33",
   "metadata": {},
   "outputs": [
    {
     "data": {
      "text/plain": [
       "array([2.50000000e-01, 1.11022302e-16, 2.50000000e-01, 2.50000000e-01,\n",
       "       2.50000000e-01])"
      ]
     },
     "execution_count": 11,
     "metadata": {},
     "output_type": "execute_result"
    }
   ],
   "source": [
    "Kb.sum(axis=1)"
   ]
  },
  {
   "cell_type": "code",
   "execution_count": 12,
   "id": "e856cdb7",
   "metadata": {},
   "outputs": [],
   "source": [
    "def P_b(x,y):\n",
    "    d = {'-1': 0, '0': 1, '1':2, 'i': 3, '-i': 4}\n",
    "    i, j = d[x], d[y]\n",
    "    return Kb[i,j] - Kb[i,:].sum() * Kb[:,j].sum() / Kb_dd + (i == j)"
   ]
  },
  {
   "cell_type": "code",
   "execution_count": 13,
   "id": "4b0721b5",
   "metadata": {},
   "outputs": [
    {
     "data": {
      "text/latex": [
       "$\\displaystyle \\left[\\begin{matrix}0.364770677869144 & 0.25 & 0.0527552763401708 & 0.166237022895343 & 0.166237022895343\\\\0.25 & 0 & 0.25 & 0.25 & 0.25\\\\0.0527552763401707 & 0.25 & 0.364770677869144 & 0.166237022895343 & 0.166237022895343\\\\0.166237022895343 & 0.25 & 0.166237022895343 & 0.364770677869144 & 0.0527552763401707\\\\0.166237022895343 & 0.25 & 0.166237022895343 & 0.0527552763401708 & 0.364770677869143\\end{matrix}\\right]$"
      ],
      "text/plain": [
       "Matrix([\n",
       "[ 0.364770677869144, 0.25, 0.0527552763401708,  0.166237022895343,  0.166237022895343],\n",
       "[              0.25,    0,               0.25,               0.25,               0.25],\n",
       "[0.0527552763401707, 0.25,  0.364770677869144,  0.166237022895343,  0.166237022895343],\n",
       "[ 0.166237022895343, 0.25,  0.166237022895343,  0.364770677869144, 0.0527552763401707],\n",
       "[ 0.166237022895343, 0.25,  0.166237022895343, 0.0527552763401708,  0.364770677869143]])"
      ]
     },
     "execution_count": 13,
     "metadata": {},
     "output_type": "execute_result"
    }
   ],
   "source": [
    "Pb = np.empty((5,5))\n",
    "B = ['-1', '0', '1', 'i', '-i']\n",
    "for i in range(5):\n",
    "    x = B[i]\n",
    "    for j in range(5):\n",
    "        y = B[j]\n",
    "        Pb[i,j] = P_b(x,y)\n",
    "Matrix(Pb)"
   ]
  },
  {
   "cell_type": "code",
   "execution_count": 14,
   "id": "5205bcd9",
   "metadata": {},
   "outputs": [
    {
     "data": {
      "text/plain": [
       "0.3935586587240384"
      ]
     },
     "execution_count": 14,
     "metadata": {},
     "output_type": "execute_result"
    }
   ],
   "source": [
    "P1 = 0.25 * 1/(1-Pb[0,0])\n",
    "P1"
   ]
  },
  {
   "cell_type": "code",
   "execution_count": 15,
   "id": "0c8c4f76",
   "metadata": {},
   "outputs": [
    {
     "data": {
      "text/plain": [
       "0.314643283184469"
      ]
     },
     "execution_count": 15,
     "metadata": {},
     "output_type": "execute_result"
    }
   ],
   "source": [
    "P2 = 0.25 * 1/(1 - Pb[0,0] - Pb[0,2]) + 0.5 * 1/(1 - Pb[0,0] - Pb[0,3]) - 3 * P1\n",
    "P2"
   ]
  },
  {
   "cell_type": "code",
   "execution_count": 108,
   "id": "c23f9e2f",
   "metadata": {},
   "outputs": [],
   "source": [
    "P = (Pb[[0,2,3,4]])[:,[0,2,3,4]]"
   ]
  },
  {
   "cell_type": "code",
   "execution_count": 109,
   "id": "a9dda8bc",
   "metadata": {},
   "outputs": [
    {
     "data": {
      "text/latex": [
       "$\\displaystyle \\left[\\begin{matrix}0.364770677869144 & 0.0527552763401708 & 0.166237022895343 & 0.166237022895343\\\\0.0527552763401707 & 0.364770677869144 & 0.166237022895343 & 0.166237022895343\\\\0.166237022895343 & 0.166237022895343 & 0.364770677869144 & 0.0527552763401707\\\\0.166237022895343 & 0.166237022895343 & 0.0527552763401708 & 0.364770677869143\\end{matrix}\\right]$"
      ],
      "text/plain": [
       "Matrix([\n",
       "[ 0.364770677869144, 0.0527552763401708,  0.166237022895343,  0.166237022895343],\n",
       "[0.0527552763401707,  0.364770677869144,  0.166237022895343,  0.166237022895343],\n",
       "[ 0.166237022895343,  0.166237022895343,  0.364770677869144, 0.0527552763401707],\n",
       "[ 0.166237022895343,  0.166237022895343, 0.0527552763401708,  0.364770677869143]])"
      ]
     },
     "execution_count": 109,
     "metadata": {},
     "output_type": "execute_result"
    }
   ],
   "source": [
    "Matrix(P)"
   ]
  },
  {
   "cell_type": "code",
   "execution_count": 110,
   "id": "7b3e8465",
   "metadata": {},
   "outputs": [
    {
     "data": {
      "text/plain": [
       "array([[0.4863609 , 0.22164936, 0.22164936, 0.07034037],\n",
       "       [0.22164936, 0.4863609 , 0.07034037, 0.22164936],\n",
       "       [0.22164936, 0.07034037, 0.4863609 , 0.22164936],\n",
       "       [0.07034037, 0.22164936, 0.22164936, 0.4863609 ]])"
      ]
     },
     "execution_count": 110,
     "metadata": {},
     "output_type": "execute_result"
    }
   ],
   "source": [
    "x = np.array(P[1])\n",
    "P[1] = P[3]\n",
    "P[3] = x\n",
    "x = np.array(P[:,1]) \n",
    "P[:,1] = P[:,3]\n",
    "P[:,3] = x\n",
    "P = P / 0.75\n",
    "P"
   ]
  },
  {
   "cell_type": "code",
   "execution_count": 66,
   "id": "c1b7b049",
   "metadata": {},
   "outputs": [
    {
     "data": {
      "text/plain": [
       "array([-0., -0.,  0.,  0.])"
      ]
     },
     "execution_count": 66,
     "metadata": {},
     "output_type": "execute_result"
    }
   ],
   "source": [
    "np.linalg.solve(,[0,0,0,0])"
   ]
  },
  {
   "cell_type": "code",
   "execution_count": 73,
   "id": "39d62e17",
   "metadata": {},
   "outputs": [
    {
     "data": {
      "text/plain": [
       "3"
      ]
     },
     "execution_count": 73,
     "metadata": {},
     "output_type": "execute_result"
    }
   ],
   "source": [
    "np.linalg.matrix_rank(P.T - np.eye(4))"
   ]
  },
  {
   "cell_type": "code",
   "execution_count": 87,
   "id": "a6544325",
   "metadata": {},
   "outputs": [],
   "source": [
    "P_calc = (P-np.eye(4)).copy()"
   ]
  },
  {
   "cell_type": "code",
   "execution_count": 88,
   "id": "6bd6bde3",
   "metadata": {},
   "outputs": [
    {
     "data": {
      "text/latex": [
       "$\\displaystyle \\left[\\begin{matrix}1.0 & -0.431527439229755 & -0.431527439229755 & -0.13694512154049\\\\0 & -0.417991313780868 & 0.165988150847168 & 0.2520031629337\\\\0 & 0.165988150847168 & -0.417991313780868 & 0.2520031629337\\\\0 & 0.2520031629337 & 0.2520031629337 & -0.504006325867399\\end{matrix}\\right]$"
      ],
      "text/plain": [
       "Matrix([\n",
       "[1.0, -0.431527439229755, -0.431527439229755,  -0.13694512154049],\n",
       "[  0, -0.417991313780868,  0.165988150847168,    0.2520031629337],\n",
       "[  0,  0.165988150847168, -0.417991313780868,    0.2520031629337],\n",
       "[  0,    0.2520031629337,    0.2520031629337, -0.504006325867399]])"
      ]
     },
     "execution_count": 88,
     "metadata": {},
     "output_type": "execute_result"
    }
   ],
   "source": [
    "for i in [1,2,3]:\n",
    "    P_calc[i] = P_calc[i] - P_calc[0] * P_calc[i,0] / P_calc[0,0]\n",
    "P_calc[0] /= P_calc[0,0]\n",
    "Matrix(P_calc)"
   ]
  },
  {
   "cell_type": "code",
   "execution_count": 89,
   "id": "7d64a7b6",
   "metadata": {},
   "outputs": [
    {
     "data": {
      "text/latex": [
       "$\\displaystyle \\left[\\begin{matrix}1.0 & 0 & -0.602890908555608 & -0.397109091444392\\\\0 & 1.0 & -0.397109091444392 & -0.602890908555608\\\\0 & 0 & -0.352075910007414 & 0.352075910007414\\\\0 & 0 & 0.352075910007415 & -0.352075910007414\\end{matrix}\\right]$"
      ],
      "text/plain": [
       "Matrix([\n",
       "[1.0,   0, -0.602890908555608, -0.397109091444392],\n",
       "[  0, 1.0, -0.397109091444392, -0.602890908555608],\n",
       "[  0,   0, -0.352075910007414,  0.352075910007414],\n",
       "[  0,   0,  0.352075910007415, -0.352075910007414]])"
      ]
     },
     "execution_count": 89,
     "metadata": {},
     "output_type": "execute_result"
    }
   ],
   "source": [
    "for i in [0,2,3]:\n",
    "    P_calc[i] = P_calc[i] - P_calc[1] * P_calc[i,1] / P_calc[1,1]\n",
    "P_calc[1] /= P_calc[1,1]\n",
    "Matrix(P_calc)"
   ]
  },
  {
   "cell_type": "code",
   "execution_count": 90,
   "id": "fd141c74",
   "metadata": {},
   "outputs": [
    {
     "data": {
      "text/latex": [
       "$\\displaystyle \\left[\\begin{matrix}1.0 & 0 & 0 & -1.0\\\\0 & 1.0 & 5.55111512312578 \\cdot 10^{-17} & -1.0\\\\0 & 0 & 1.0 & -1.0\\\\0 & 0 & 0 & 6.66133814775094 \\cdot 10^{-16}\\end{matrix}\\right]$"
      ],
      "text/plain": [
       "Matrix([\n",
       "[1.0,   0,                    0,                 -1.0],\n",
       "[  0, 1.0, 5.55111512312578e-17,                 -1.0],\n",
       "[  0,   0,                  1.0,                 -1.0],\n",
       "[  0,   0,                    0, 6.66133814775094e-16]])"
      ]
     },
     "execution_count": 90,
     "metadata": {},
     "output_type": "execute_result"
    }
   ],
   "source": [
    "for i in [0,1,3]:\n",
    "    P_calc[i] = P_calc[i] - P_calc[2] * P_calc[i,2] / P_calc[2,2]\n",
    "P_calc[2] /= P_calc[2,2]\n",
    "Matrix(P_calc)"
   ]
  },
  {
   "cell_type": "code",
   "execution_count": 91,
   "id": "83872812",
   "metadata": {},
   "outputs": [
    {
     "data": {
      "text/plain": [
       "0.5625"
      ]
     },
     "execution_count": 91,
     "metadata": {},
     "output_type": "execute_result"
    }
   ],
   "source": [
    "0.75 ** 2"
   ]
  },
  {
   "cell_type": "code",
   "execution_count": 118,
   "id": "5a44c238",
   "metadata": {},
   "outputs": [
    {
     "data": {
      "text/plain": [
       "0.21896645492913014"
      ]
     },
     "execution_count": 118,
     "metadata": {},
     "output_type": "execute_result"
    }
   ],
   "source": [
    "P3 = 3 * 0.25 / (1 - 0.5625) - 3 * P1 - 1 * P2\n",
    "P3"
   ]
  },
  {
   "cell_type": "code",
   "execution_count": 111,
   "id": "75566428",
   "metadata": {},
   "outputs": [
    {
     "data": {
      "text/plain": [
       "array([0.25      , 0.25000001, 0.24999999, 0.25      ])"
      ]
     },
     "execution_count": 111,
     "metadata": {},
     "output_type": "execute_result"
    }
   ],
   "source": [
    "p0 = np.array([0,1,0,0])\n",
    "for i in range(20):\n",
    "    p0 = p0 @ P\n",
    "p0"
   ]
  },
  {
   "cell_type": "code",
   "execution_count": 115,
   "id": "49a10dfd",
   "metadata": {},
   "outputs": [],
   "source": [
    "P4 = 1 - P1 - P2 - P3"
   ]
  },
  {
   "cell_type": "code",
   "execution_count": 116,
   "id": "53a08552",
   "metadata": {},
   "outputs": [
    {
     "data": {
      "text/plain": [
       "0.07283160316236248"
      ]
     },
     "execution_count": 116,
     "metadata": {},
     "output_type": "execute_result"
    }
   ],
   "source": [
    "P4"
   ]
  },
  {
   "cell_type": "markdown",
   "id": "a957de26",
   "metadata": {},
   "source": [
    "# Моделирование"
   ]
  },
  {
   "cell_type": "code",
   "execution_count": 54,
   "id": "84edf6e8",
   "metadata": {},
   "outputs": [],
   "source": [
    "from numba import njit\n",
    "from time import time\n",
    "\n",
    "@njit\n",
    "def experiment(phi, R, N):\n",
    "    x = np.array([round(R * np.cos(phi)), round(R * np.sin(phi))], dtype=np.int_)\n",
    "    neig = np.zeros(9, dtype=np.short)\n",
    "    steps = np.array([[1,0],[-1,0],[0,1],[0,-1]], dtype=np.int_)\n",
    "    k = 0\n",
    "    while True:\n",
    "        walk_directions = np.random.randint(0,4, size=N)\n",
    "        for i in range(1,N):\n",
    "            x = x + steps[walk_directions[i]]\n",
    "            if (np.abs(x) <= 1).all():\n",
    "                if (x == 0).all():\n",
    "                    return neig[1] + neig[3] + neig[5] + neig[7], k\n",
    "                else:\n",
    "                    neig[4 + 3 * x[1] + x[0]] = 1\n",
    "        k += N\n",
    "        if k > 1e6:\n",
    "            return 0, 0\n",
    "        \n",
    "@njit            \n",
    "def complex_experiment(R, N, Ni):\n",
    "    res_log = np.zeros(6, dtype=np.int_)\n",
    "    for i in range(Ni):\n",
    "        phi = 2 * np.pi * np.random.rand()\n",
    "        res = experiment(phi, R, N)\n",
    "        res_log[res[0]] += 1\n",
    "    res_log[5] = Ni\n",
    "    return res_log"
   ]
  },
  {
   "cell_type": "code",
   "execution_count": 74,
   "id": "8470a865",
   "metadata": {},
   "outputs": [],
   "source": [
    "def write_out(res, R):\n",
    "    res_float = np.array([R, 0, 0, 0, 0, 0, res[-1]], dtype=np.float_)\n",
    "    res_float[1:-1] = res[:-1] / res[-1]\n",
    "    np.savetxt('Spitser_R_' + str(R) + '.txt', \n",
    "               [res_float], \n",
    "               delimiter=' ', \n",
    "               fmt=['%d', '%1.6f', '%1.6f', '%1.6f', '%1.6f', '%1.6f','%d'], \n",
    "               newline=' ', \n",
    "               header=' R  pError  p_N1  p_N2  p_N3  p_N4  steps\\n',\n",
    "               comments='')\n",
    "\n",
    "def main_func(R, Nmem, Ntime):\n",
    "    result_log = np.zeros(6, dtype=np.ulonglong)\n",
    "    k = 0\n",
    "    while True:\n",
    "        result_log = result_log + complex_experiment(R, Nmem, Ntime)\n",
    "        write_out(result_log, R)\n",
    "        k += 1\n",
    "        if k > 3:\n",
    "            return 0"
   ]
  },
  {
   "cell_type": "code",
   "execution_count": 75,
   "id": "774409bb",
   "metadata": {},
   "outputs": [
    {
     "data": {
      "text/plain": [
       "0"
      ]
     },
     "execution_count": 75,
     "metadata": {},
     "output_type": "execute_result"
    }
   ],
   "source": [
    "main_func(10, 100000, 100)"
   ]
  },
  {
   "cell_type": "code",
   "execution_count": 33,
   "id": "49fad450",
   "metadata": {},
   "outputs": [
    {
     "name": "stdout",
     "output_type": "stream",
     "text": [
      "CPU times: total: 406 ms\n",
      "Wall time: 409 ms\n"
     ]
    },
    {
     "data": {
      "text/plain": [
       "(0, 0)"
      ]
     },
     "execution_count": 33,
     "metadata": {},
     "output_type": "execute_result"
    }
   ],
   "source": [
    "%time experiment(0,100, int(1e5))"
   ]
  },
  {
   "cell_type": "code",
   "execution_count": 154,
   "id": "78a3613e",
   "metadata": {},
   "outputs": [
    {
     "data": {
      "text/plain": [
       "True"
      ]
     },
     "execution_count": 154,
     "metadata": {},
     "output_type": "execute_result"
    }
   ],
   "source": [
    "((np.abs(x) != 1).any())"
   ]
  },
  {
   "cell_type": "code",
   "execution_count": 161,
   "id": "601947d0",
   "metadata": {},
   "outputs": [
    {
     "data": {
      "text/plain": [
       "3"
      ]
     },
     "execution_count": 161,
     "metadata": {},
     "output_type": "execute_result"
    }
   ],
   "source": [
    "a = np.zeros(9, dtype=np.bool_)\n",
    "a[[1,3,4]] = True\n",
    "a.sum()"
   ]
  },
  {
   "cell_type": "code",
   "execution_count": 61,
   "id": "485d59dd",
   "metadata": {},
   "outputs": [],
   "source": [
    "a = np.array([1,3,4,5], dtype=np.ulonglong)"
   ]
  },
  {
   "cell_type": "code",
   "execution_count": 62,
   "id": "2eca7d0f",
   "metadata": {},
   "outputs": [
    {
     "data": {
      "text/plain": [
       "array([1, 3, 4, 5], dtype=uint64)"
      ]
     },
     "execution_count": 62,
     "metadata": {},
     "output_type": "execute_result"
    }
   ],
   "source": [
    "a"
   ]
  },
  {
   "cell_type": "code",
   "execution_count": 63,
   "id": "74ca8ce6",
   "metadata": {},
   "outputs": [
    {
     "data": {
      "text/plain": [
       "array([0.6, 0.8, 1. ])"
      ]
     },
     "execution_count": 63,
     "metadata": {},
     "output_type": "execute_result"
    }
   ],
   "source": [
    "a[1:] / a[3]"
   ]
  },
  {
   "cell_type": "code",
   "execution_count": null,
   "id": "04851174",
   "metadata": {},
   "outputs": [],
   "source": []
  }
 ],
 "metadata": {
  "kernelspec": {
   "display_name": "Python 3 (ipykernel)",
   "language": "python",
   "name": "python3"
  },
  "language_info": {
   "codemirror_mode": {
    "name": "ipython",
    "version": 3
   },
   "file_extension": ".py",
   "mimetype": "text/x-python",
   "name": "python",
   "nbconvert_exporter": "python",
   "pygments_lexer": "ipython3",
   "version": "3.9.12"
  }
 },
 "nbformat": 4,
 "nbformat_minor": 5
}
