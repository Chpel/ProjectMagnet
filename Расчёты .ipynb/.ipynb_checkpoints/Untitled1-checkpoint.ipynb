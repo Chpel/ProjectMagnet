{
 "cells": [
  {
   "cell_type": "code",
   "execution_count": 5,
   "id": "3a33d80f",
   "metadata": {},
   "outputs": [],
   "source": [
    "import numpy as np\n",
    "from sympy import *"
   ]
  },
  {
   "cell_type": "code",
   "execution_count": 2,
   "id": "36bb46eb",
   "metadata": {},
   "outputs": [],
   "source": [
    "p = np.pi"
   ]
  },
  {
   "cell_type": "code",
   "execution_count": 20,
   "id": "4555b744",
   "metadata": {},
   "outputs": [],
   "source": [
    "A = np.array([[0, 1, 4 - 8/p, 4/p, 4/p],\n",
    "              [1, 0,       1,   1,   1],\n",
    "              [4 - 8/p, 1, 0, 4/p, 4/p],\n",
    "              [4/p, 1, 4/p, 0, 4 - 8/p],\n",
    "              [4/p, 1, 4/p, 4 - 8/p, 0]])"
   ]
  },
  {
   "cell_type": "code",
   "execution_count": 21,
   "id": "f9cfc334",
   "metadata": {},
   "outputs": [
    {
     "data": {
      "text/latex": [
       "$\\displaystyle \\left[\\begin{matrix}0 & 1.0 & 1.45352091052967 & 1.27323954473516 & 1.27323954473516\\\\1.0 & 0 & 1.0 & 1.0 & 1.0\\\\1.45352091052967 & 1.0 & 0 & 1.27323954473516 & 1.27323954473516\\\\1.27323954473516 & 1.0 & 1.27323954473516 & 0 & 1.45352091052967\\\\1.27323954473516 & 1.0 & 1.27323954473516 & 1.45352091052967 & 0\\end{matrix}\\right]$"
      ],
      "text/plain": [
       "Matrix([\n",
       "[               0, 1.0, 1.45352091052967, 1.27323954473516, 1.27323954473516],\n",
       "[             1.0,   0,              1.0,              1.0,              1.0],\n",
       "[1.45352091052967, 1.0,                0, 1.27323954473516, 1.27323954473516],\n",
       "[1.27323954473516, 1.0, 1.27323954473516,                0, 1.45352091052967],\n",
       "[1.27323954473516, 1.0, 1.27323954473516, 1.45352091052967,                0]])"
      ]
     },
     "execution_count": 21,
     "metadata": {},
     "output_type": "execute_result"
    }
   ],
   "source": [
    "Matrix(A)"
   ]
  },
  {
   "cell_type": "code",
   "execution_count": 30,
   "id": "02aea9b3",
   "metadata": {},
   "outputs": [
    {
     "data": {
      "text/latex": [
       "$\\displaystyle \\left[\\begin{matrix}-0.572729322130857 & 0.25 & 0.115255276340171 & 0.228737022895343 & 0.228737022895343\\\\0.25 & -1.0 & 0.25 & 0.25 & 0.25\\\\0.115255276340171 & 0.25 & -0.572729322130856 & 0.228737022895343 & 0.228737022895343\\\\0.228737022895343 & 0.25 & 0.228737022895343 & -0.572729322130856 & 0.115255276340171\\\\0.228737022895343 & 0.25 & 0.228737022895343 & 0.115255276340171 & -0.572729322130857\\end{matrix}\\right]$"
      ],
      "text/plain": [
       "Matrix([\n",
       "[-0.572729322130857, 0.25,  0.115255276340171,  0.228737022895343,  0.228737022895343],\n",
       "[              0.25, -1.0,               0.25,               0.25,               0.25],\n",
       "[ 0.115255276340171, 0.25, -0.572729322130856,  0.228737022895343,  0.228737022895343],\n",
       "[ 0.228737022895343, 0.25,  0.228737022895343, -0.572729322130856,  0.115255276340171],\n",
       "[ 0.228737022895343, 0.25,  0.228737022895343,  0.115255276340171, -0.572729322130857]])"
      ]
     },
     "execution_count": 30,
     "metadata": {},
     "output_type": "execute_result"
    }
   ],
   "source": [
    "Kb = np.linalg.inv(A)\n",
    "Matrix(Kb)"
   ]
  },
  {
   "cell_type": "code",
   "execution_count": 31,
   "id": "b0be4ccb",
   "metadata": {},
   "outputs": [
    {
     "data": {
      "text/latex": [
       "$\\displaystyle \\left[\\begin{matrix}0.25\\\\0\\\\0.25\\\\0.25\\\\0.25\\end{matrix}\\right]$"
      ],
      "text/plain": [
       "Matrix([\n",
       "[0.25],\n",
       "[   0],\n",
       "[0.25],\n",
       "[0.25],\n",
       "[0.25]])"
      ]
     },
     "execution_count": 31,
     "metadata": {},
     "output_type": "execute_result"
    }
   ],
   "source": [
    "Kb_dx = Kb.sum(axis=0)\n",
    "Matrix(Kb_dx)"
   ]
  },
  {
   "cell_type": "code",
   "execution_count": 32,
   "id": "36c47664",
   "metadata": {},
   "outputs": [
    {
     "data": {
      "text/plain": [
       "1.0000000000000004"
      ]
     },
     "execution_count": 32,
     "metadata": {},
     "output_type": "execute_result"
    }
   ],
   "source": [
    "Kb_dd = Kb.sum()\n",
    "Kb_dd"
   ]
  },
  {
   "cell_type": "code",
   "execution_count": 34,
   "id": "fb495b88",
   "metadata": {},
   "outputs": [
    {
     "data": {
      "text/latex": [
       "$\\displaystyle \\left[\\begin{matrix}0.25\\\\0\\\\0.25\\\\0.25\\\\0.25\\end{matrix}\\right]$"
      ],
      "text/plain": [
       "Matrix([\n",
       "[0.25],\n",
       "[   0],\n",
       "[0.25],\n",
       "[0.25],\n",
       "[0.25]])"
      ]
     },
     "execution_count": 34,
     "metadata": {},
     "output_type": "execute_result"
    }
   ],
   "source": [
    "H_inf = Kb_dx / Kb_dd\n",
    "Matrix(H_inf)"
   ]
  },
  {
   "cell_type": "code",
   "execution_count": 38,
   "id": "7b646d90",
   "metadata": {},
   "outputs": [
    {
     "data": {
      "text/latex": [
       "$\\displaystyle \\left[\\begin{matrix}0.177270677869144 & 1.11022302462516 \\cdot 10^{-16} & -0.134744723659829 & -0.021262977104657 & -0.021262977104657\\\\1.11022302462516 \\cdot 10^{-16} & -0.25 & 1.11022302462516 \\cdot 10^{-16} & 8.32667268468867 \\cdot 10^{-17} & 2.22044604925031 \\cdot 10^{-16}\\\\-0.134744723659829 & 1.11022302462516 \\cdot 10^{-16} & 0.177270677869144 & -0.021262977104657 & -0.021262977104657\\\\-0.021262977104657 & 1.11022302462516 \\cdot 10^{-16} & -0.021262977104657 & 0.177270677869144 & -0.134744723659829\\\\-0.021262977104657 & 1.11022302462516 \\cdot 10^{-16} & -0.021262977104657 & -0.134744723659829 & 0.177270677869144\\end{matrix}\\right]$"
      ],
      "text/plain": [
       "Matrix([\n",
       "[   0.177270677869144, 1.11022302462516e-16,   -0.134744723659829,   -0.021262977104657,   -0.021262977104657],\n",
       "[1.11022302462516e-16,                -0.25, 1.11022302462516e-16, 8.32667268468867e-17, 2.22044604925031e-16],\n",
       "[  -0.134744723659829, 1.11022302462516e-16,    0.177270677869144,   -0.021262977104657,   -0.021262977104657],\n",
       "[  -0.021262977104657, 1.11022302462516e-16,   -0.021262977104657,    0.177270677869144,   -0.134744723659829],\n",
       "[  -0.021262977104657, 1.11022302462516e-16,   -0.021262977104657,   -0.134744723659829,    0.177270677869144]])"
      ]
     },
     "execution_count": 38,
     "metadata": {},
     "output_type": "execute_result"
    }
   ],
   "source": [
    "Pb = Kb - Kb.sum(axis=1) @ Kb.sum(axis=0) / Kb_dd + np.eye(5)\n",
    "Matrix(Pb)"
   ]
  },
  {
   "cell_type": "code",
   "execution_count": 36,
   "id": "974803c6",
   "metadata": {},
   "outputs": [
    {
     "data": {
      "text/plain": [
       "1"
      ]
     },
     "execution_count": 36,
     "metadata": {},
     "output_type": "execute_result"
    }
   ],
   "source": [
    "1 + (1!=1)"
   ]
  },
  {
   "cell_type": "code",
   "execution_count": 42,
   "id": "67135c33",
   "metadata": {},
   "outputs": [
    {
     "data": {
      "text/plain": [
       "array([2.50000000e-01, 1.11022302e-16, 2.50000000e-01, 2.50000000e-01,\n",
       "       2.50000000e-01])"
      ]
     },
     "execution_count": 42,
     "metadata": {},
     "output_type": "execute_result"
    }
   ],
   "source": [
    "Kb.sum(axis=1)"
   ]
  },
  {
   "cell_type": "code",
   "execution_count": 43,
   "id": "e856cdb7",
   "metadata": {},
   "outputs": [],
   "source": [
    "def P_b(x,y):\n",
    "    d = {'-1': 0, '0': 1, '1':2, 'i': 3, '-i': 4}\n",
    "    i, j = d[x], d[y]\n",
    "    return Kb[i,j] - Kb[i,:].sum() * Kb[:,j].sum() / Kb_dd + (i == j)"
   ]
  },
  {
   "cell_type": "code",
   "execution_count": 46,
   "id": "4b0721b5",
   "metadata": {},
   "outputs": [
    {
     "data": {
      "text/latex": [
       "$\\displaystyle \\left[\\begin{matrix}0.364770677869144 & 0.25 & 0.0527552763401708 & 0.166237022895343 & 0.166237022895343\\\\0.25 & 0 & 0.25 & 0.25 & 0.25\\\\0.0527552763401707 & 0.25 & 0.364770677869144 & 0.166237022895343 & 0.166237022895343\\\\0.166237022895343 & 0.25 & 0.166237022895343 & 0.364770677869144 & 0.0527552763401707\\\\0.166237022895343 & 0.25 & 0.166237022895343 & 0.0527552763401708 & 0.364770677869143\\end{matrix}\\right]$"
      ],
      "text/plain": [
       "Matrix([\n",
       "[ 0.364770677869144, 0.25, 0.0527552763401708,  0.166237022895343,  0.166237022895343],\n",
       "[              0.25,    0,               0.25,               0.25,               0.25],\n",
       "[0.0527552763401707, 0.25,  0.364770677869144,  0.166237022895343,  0.166237022895343],\n",
       "[ 0.166237022895343, 0.25,  0.166237022895343,  0.364770677869144, 0.0527552763401707],\n",
       "[ 0.166237022895343, 0.25,  0.166237022895343, 0.0527552763401708,  0.364770677869143]])"
      ]
     },
     "execution_count": 46,
     "metadata": {},
     "output_type": "execute_result"
    }
   ],
   "source": [
    "Pb = np.empty((5,5))\n",
    "B = ['-1', '0', '1', 'i', '-i']\n",
    "for i in range(5):\n",
    "    x = B[i]\n",
    "    for j in range(5):\n",
    "        y = B[j]\n",
    "        Pb[i,j] = P_b(x,y)\n",
    "Matrix(Pb)"
   ]
  },
  {
   "cell_type": "code",
   "execution_count": 47,
   "id": "5205bcd9",
   "metadata": {},
   "outputs": [
    {
     "data": {
      "text/plain": [
       "0.3935586587240384"
      ]
     },
     "execution_count": 47,
     "metadata": {},
     "output_type": "execute_result"
    }
   ],
   "source": [
    "0.25 * 1/(1-Pb[0,0])"
   ]
  },
  {
   "cell_type": "code",
   "execution_count": 51,
   "id": "0c8c4f76",
   "metadata": {},
   "outputs": [
    {
     "data": {
      "text/plain": [
       "0.31464328318446877"
      ]
     },
     "execution_count": 51,
     "metadata": {},
     "output_type": "execute_result"
    }
   ],
   "source": [
    "0.25 * 1/(1 - Pb[0,0] - Pb[0,2]) + 0.5 * 1/(1 - Pb[0,0] - Pb[0,3]) - 3 * 0.25 * 1/(1-Pb[0,0])"
   ]
  },
  {
   "cell_type": "code",
   "execution_count": null,
   "id": "c23f9e2f",
   "metadata": {},
   "outputs": [],
   "source": []
  }
 ],
 "metadata": {
  "kernelspec": {
   "display_name": "Python 3 (ipykernel)",
   "language": "python",
   "name": "python3"
  },
  "language_info": {
   "codemirror_mode": {
    "name": "ipython",
    "version": 3
   },
   "file_extension": ".py",
   "mimetype": "text/x-python",
   "name": "python",
   "nbconvert_exporter": "python",
   "pygments_lexer": "ipython3",
   "version": "3.9.12"
  }
 },
 "nbformat": 4,
 "nbformat_minor": 5
}
