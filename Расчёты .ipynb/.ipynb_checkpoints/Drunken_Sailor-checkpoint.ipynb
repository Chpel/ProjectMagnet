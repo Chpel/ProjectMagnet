{
 "cells": [
  {
   "cell_type": "code",
   "execution_count": 9,
   "id": "reflected-belly",
   "metadata": {},
   "outputs": [],
   "source": [
    "import numpy as np\n",
    "import matplotlib.pyplot as plt"
   ]
  },
  {
   "cell_type": "markdown",
   "id": "conceptual-quantum",
   "metadata": {},
   "source": [
    "# Прототип генерации блуждания и подсчёта соседей по нему"
   ]
  },
  {
   "cell_type": "code",
   "execution_count": 4,
   "id": "brutal-rocket",
   "metadata": {},
   "outputs": [
    {
     "data": {
      "text/plain": [
       "array([2, 2, 2, 1, 3, 3, 2, 1, 2, 0])"
      ]
     },
     "execution_count": 4,
     "metadata": {},
     "output_type": "execute_result"
    }
   ],
   "source": [
    "np.random.randint(0,4, size=10)"
   ]
  },
  {
   "cell_type": "markdown",
   "id": "fifteen-james",
   "metadata": {},
   "source": [
    "Основные константы - начальная точка и шаги блуждания"
   ]
  },
  {
   "cell_type": "code",
   "execution_count": 5,
   "id": "parliamentary-reach",
   "metadata": {},
   "outputs": [],
   "source": [
    "x0 = np.array([0,0])\n",
    "steps = np.array([[1,0],[-1,0],[0,1],[0,-1]])"
   ]
  },
  {
   "cell_type": "markdown",
   "id": "indonesian-quarterly",
   "metadata": {},
   "source": [
    "Генерация блужданий и определение уникальных узлов"
   ]
  },
  {
   "cell_type": "code",
   "execution_count": 25,
   "id": "enclosed-treat",
   "metadata": {},
   "outputs": [],
   "source": [
    "N=100\n",
    "walk_directions = np.random.randint(0,4, size=N)\n",
    "walk_dots = np.zeros((N, 2), dtype=np.int16)\n",
    "walk_dots[0] = x0\n",
    "\n",
    "for i in range(1,N):\n",
    "    walk_dots[i] = walk_dots[i-1] + steps[walk_directions[i]]\n",
    "\n",
    "walk_dots_new = np.unique(walk_dots, axis=0)\n",
    "N_new = len(walk_dots_new)"
   ]
  },
  {
   "cell_type": "code",
   "execution_count": 26,
   "id": "experienced-sacrifice",
   "metadata": {},
   "outputs": [
    {
     "data": {
      "text/plain": [
       "<matplotlib.collections.PathCollection at 0x1dc176ce8b0>"
      ]
     },
     "execution_count": 26,
     "metadata": {},
     "output_type": "execute_result"
    },
    {
     "data": {
      "image/png": "[encoded data removed]",
      "text/plain": [
       "<Figure size 432x288 with 1 Axes>"
      ]
     },
     "metadata": {
      "needs_background": "light"
     },
     "output_type": "display_data"
    }
   ],
   "source": [
    "plt.plot(walk_dots[:,0], walk_dots[:,1])\n",
    "plt.scatter(walk_dots[(0,-1),0], walk_dots[(0, -1),1])"
   ]
  },
  {
   "cell_type": "code",
   "execution_count": 28,
   "id": "japanese-direction",
   "metadata": {},
   "outputs": [
    {
     "data": {
      "text/plain": [
       "<matplotlib.collections.PathCollection at 0x1dc1778c3a0>"
      ]
     },
     "execution_count": 28,
     "metadata": {},
     "output_type": "execute_result"
    },
    {
     "data": {
      "image/png": "[encoded data removed]",
      "text/plain": [
       "<Figure size 432x288 with 1 Axes>"
      ]
     },
     "metadata": {
      "needs_background": "light"
     },
     "output_type": "display_data"
    }
   ],
   "source": [
    "plt.scatter(walk_dots_new[:,0], walk_dots_new[:,1])"
   ]
  },
  {
   "cell_type": "markdown",
   "id": "established-calibration",
   "metadata": {},
   "source": [
    "Подсчёт соседей среди уникальных узлов"
   ]
  },
  {
   "cell_type": "code",
   "execution_count": 37,
   "id": "unknown-sport",
   "metadata": {},
   "outputs": [],
   "source": [
    "walk_neighbors = np.zeros((N_new,), dtype=np.int8)\n",
    "for i in range(N_new):\n",
    "    for step in steps:\n",
    "        potential_n = walk_dots_new[i] + step\n",
    "        for j in range(N_new):\n",
    "            if (walk_dots_new[j] == potential_n).all():\n",
    "                walk_neighbors[i] += 1\n",
    "                break"
   ]
  },
  {
   "cell_type": "code",
   "execution_count": 39,
   "id": "fitting-harassment",
   "metadata": {},
   "outputs": [
    {
     "data": {
      "text/plain": [
       "array([1, 1, 1, 3, 3, 4, 2, 4, 1, 3, 3, 2, 1, 2, 3, 3, 1, 2, 3, 4, 3, 2,\n",
       "       4, 4, 3, 2, 4, 4, 3, 2, 3, 4, 4, 4, 2, 2, 4, 3, 4, 3, 2, 3, 2, 3,\n",
       "       3, 2, 2, 3, 1], dtype=int8)"
      ]
     },
     "execution_count": 39,
     "metadata": {},
     "output_type": "execute_result"
    }
   ],
   "source": [
    "walk_neighbors"
   ]
  },
  {
   "cell_type": "code",
   "execution_count": 47,
   "id": "hearing-institution",
   "metadata": {},
   "outputs": [
    {
     "data": {
      "text/plain": [
       "array([[0.14285714, 0.26530612, 0.34693878, 0.24489796]])"
      ]
     },
     "execution_count": 47,
     "metadata": {},
     "output_type": "execute_result"
    }
   ],
   "source": [
    "neigh_fract = np.zeros((1,4), dtype=np.float)\n",
    "for i in range(1,4+1):\n",
    "    neigh_fract[0][i-1] = (walk_neighbors == i).sum()\n",
    "neigh_fract / N_new"
   ]
  },
  {
   "cell_type": "markdown",
   "id": "signed-conservation",
   "metadata": {},
   "source": [
    "# Распараллеленный алгоритм"
   ]
  },
  {
   "cell_type": "code",
   "execution_count": 73,
   "id": "powerful-transportation",
   "metadata": {},
   "outputs": [],
   "source": [
    "from numba import njit, jit, prange\n",
    "\n",
    "@jit\n",
    "def experiment(N: int):\n",
    "    x0 = np.array([0,0])\n",
    "    steps = np.array([[1,0],[-1,0],[0,1],[0,-1]])\n",
    "    walk_directions = np.random.randint(0,4, size=N)\n",
    "    walk_dots = np.zeros((N, 2), dtype=np.int16)\n",
    "    walk_dots[0] = x0\n",
    "    for i in range(1,N):\n",
    "        walk_dots[i] = walk_dots[i-1] + steps[walk_directions[i]]\n",
    "        \n",
    "    walk_dots_new = np.unique(walk_dots, axis=0)\n",
    "    N_new = len(walk_dots_new)\n",
    "    walk_neighbors = np.zeros((N_new,), dtype=np.int8)\n",
    "    \n",
    "    for i in range(N_new):\n",
    "        for step in steps:\n",
    "            potential_n = walk_dots_new[i] + step\n",
    "            for j in range(N_new):\n",
    "                if (walk_dots_new[j] == potential_n).all():\n",
    "                    walk_neighbors[i] += 1\n",
    "                    break    \n",
    "    \n",
    "    neigh_fract_0 = np.zeros((4,), dtype=np.float)\n",
    "    for i in range(1,4+1):\n",
    "        neigh_fract_0[i-1] = (walk_neighbors == i).sum()\n",
    "    return neigh_fract_0 / N_new\n",
    "\n",
    "@jit(parallel=True)\n",
    "def complex_experiment(K, N):\n",
    "    neigh_fract = np.zeros((K,4), dtype=np.float)\n",
    "    for i in prange(K):\n",
    "        neigh_fract[i] = experiment(N)\n",
    "    return neigh_fract.mean(axis=0)"
   ]
  },
  {
   "cell_type": "code",
   "execution_count": 74,
   "id": "gross-topic",
   "metadata": {},
   "outputs": [
    {
     "name": "stderr",
     "output_type": "stream",
     "text": [
      "<ipython-input-73-e433e02739cb>:30: NumbaWarning: \u001b[1m\n",
      "Compilation is falling back to object mode WITH looplifting enabled because Function \"complex_experiment\" failed type inference due to: \u001b[1m\u001b[1m\u001b[1mNo implementation of function Function(<built-in function zeros>) found for signature:\n",
      " \n",
      " >>> zeros(Tuple(int64, Literal[int](4)), dtype=Function(<class 'float'>))\n",
      " \n",
      "There are 4 candidate implementations:\n",
      "\u001b[1m      - Of which 2 did not match due to:\n",
      "      Overload in function '_OverloadWrapper._build.<locals>.ol_generated': File: numba\\core\\overload_glue.py: Line 131.\n",
      "        With argument(s): '(UniTuple(int64 x 2), dtype=Function(<class 'float'>))':\u001b[0m\n",
      "\u001b[1m       Rejected as the implementation raised a specific error:\n",
      "         TypingError: Failed in nopython mode pipeline (step: nopython frontend)\n",
      "       \u001b[1m\u001b[1m\u001b[1mNo implementation of function Function(<intrinsic stub>) found for signature:\n",
      "        \n",
      "        >>> stub(UniTuple(int64 x 2), Function(<class 'float'>))\n",
      "        \n",
      "       There are 2 candidate implementations:\n",
      "       \u001b[1m  - Of which 2 did not match due to:\n",
      "         Intrinsic of function 'stub': File: numba\\core\\overload_glue.py: Line 35.\n",
      "           With argument(s): '(UniTuple(int64 x 2), Function(<class 'float'>))':\u001b[0m\n",
      "       \u001b[1m   No match.\u001b[0m\n",
      "       \u001b[0m\n",
      "       \u001b[0m\u001b[1mDuring: resolving callee type: Function(<intrinsic stub>)\u001b[0m\n",
      "       \u001b[0m\u001b[1mDuring: typing of call at <string> (3)\n",
      "       \u001b[0m\n",
      "       \u001b[1m\n",
      "       File \"<string>\", line 3:\u001b[0m\n",
      "       \u001b[1m<source missing, REPL/exec in use?>\u001b[0m\n",
      "\u001b[0m\n",
      "  raised from C:\\Users\\user\\miniconda3\\lib\\site-packages\\numba\\core\\typeinfer.py:1074\n",
      "\u001b[1m      - Of which 2 did not match due to:\n",
      "      Overload in function '_OverloadWrapper._build.<locals>.ol_generated': File: numba\\core\\overload_glue.py: Line 131.\n",
      "        With argument(s): '(Tuple(int64, Literal[int](4)), dtype=Function(<class 'float'>))':\u001b[0m\n",
      "\u001b[1m       Rejected as the implementation raised a specific error:\n",
      "         TypingError: Failed in nopython mode pipeline (step: nopython frontend)\n",
      "       \u001b[1m\u001b[1m\u001b[1mNo implementation of function Function(<intrinsic stub>) found for signature:\n",
      "        \n",
      "        >>> stub(Tuple(int64, Literal[int](4)), Function(<class 'float'>))\n",
      "        \n",
      "       There are 2 candidate implementations:\n",
      "       \u001b[1m  - Of which 2 did not match due to:\n",
      "         Intrinsic of function 'stub': File: numba\\core\\overload_glue.py: Line 35.\n",
      "           With argument(s): '(UniTuple(int64 x 2), Function(<class 'float'>))':\u001b[0m\n",
      "       \u001b[1m   No match.\u001b[0m\n",
      "       \u001b[0m\n",
      "       \u001b[0m\u001b[1mDuring: resolving callee type: Function(<intrinsic stub>)\u001b[0m\n",
      "       \u001b[0m\u001b[1mDuring: typing of call at <string> (3)\n",
      "       \u001b[0m\n",
      "       \u001b[1m\n",
      "       File \"<string>\", line 3:\u001b[0m\n",
      "       \u001b[1m<source missing, REPL/exec in use?>\u001b[0m\n",
      "\u001b[0m\n",
      "  raised from C:\\Users\\user\\miniconda3\\lib\\site-packages\\numba\\core\\typeinfer.py:1074\n",
      "\u001b[0m\n",
      "\u001b[0m\u001b[1mDuring: resolving callee type: Function(<built-in function zeros>)\u001b[0m\n",
      "\u001b[0m\u001b[1mDuring: typing of call at <ipython-input-73-e433e02739cb> (32)\n",
      "\u001b[0m\n",
      "\u001b[1m\n",
      "File \"<ipython-input-73-e433e02739cb>\", line 32:\u001b[0m\n",
      "\u001b[1mdef complex_experiment(K, N):\n",
      "\u001b[1m    neigh_fract = np.zeros((K,4), dtype=np.float)\n",
      "\u001b[0m    \u001b[1m^\u001b[0m\u001b[0m\n",
      "\u001b[0m\n",
      "  @jit(parallel=True)\n",
      "<ipython-input-73-e433e02739cb>:30: NumbaWarning: \u001b[1m\n",
      "Compilation is falling back to object mode WITHOUT looplifting enabled because Function \"complex_experiment\" failed type inference due to: \u001b[1m\u001b[1mCannot determine Numba type of <class 'numba.core.dispatcher.LiftedLoop'>\u001b[0m\n",
      "\u001b[1m\n",
      "File \"<ipython-input-73-e433e02739cb>\", line 33:\u001b[0m\n",
      "\u001b[1mdef complex_experiment(K, N):\n",
      "    <source elided>\n",
      "    neigh_fract = np.zeros((K,4), dtype=np.float)\n",
      "\u001b[1m    for i in prange(K):\n",
      "\u001b[0m    \u001b[1m^\u001b[0m\u001b[0m\n",
      "\u001b[0m\u001b[0m\n",
      "  @jit(parallel=True)\n",
      "C:\\Users\\user\\miniconda3\\lib\\site-packages\\numba\\core\\object_mode_passes.py:151: NumbaWarning: \u001b[1mFunction \"complex_experiment\" was compiled in object mode without forceobj=True, but has lifted loops.\n",
      "\u001b[1m\n",
      "File \"<ipython-input-73-e433e02739cb>\", line 32:\u001b[0m\n",
      "\u001b[1mdef complex_experiment(K, N):\n",
      "\u001b[1m    neigh_fract = np.zeros((K,4), dtype=np.float)\n",
      "\u001b[0m    \u001b[1m^\u001b[0m\u001b[0m\n",
      "\u001b[0m\n",
      "  warnings.warn(errors.NumbaWarning(warn_msg,\n",
      "C:\\Users\\user\\miniconda3\\lib\\site-packages\\numba\\core\\object_mode_passes.py:161: NumbaDeprecationWarning: \u001b[1m\n",
      "Fall-back from the nopython compilation path to the object mode compilation path has been detected, this is deprecated behaviour.\n",
      "\n",
      "For more information visit https://numba.pydata.org/numba-doc/latest/reference/deprecation.html#deprecation-of-object-mode-fall-back-behaviour-when-using-jit\n",
      "\u001b[1m\n",
      "File \"<ipython-input-73-e433e02739cb>\", line 32:\u001b[0m\n",
      "\u001b[1mdef complex_experiment(K, N):\n",
      "\u001b[1m    neigh_fract = np.zeros((K,4), dtype=np.float)\n",
      "\u001b[0m    \u001b[1m^\u001b[0m\u001b[0m\n",
      "\u001b[0m\n",
      "  warnings.warn(errors.NumbaDeprecationWarning(msg,\n",
      "<ipython-input-73-e433e02739cb>:30: NumbaWarning: \u001b[1m\n",
      "Compilation is falling back to object mode WITHOUT looplifting enabled because Function \"complex_experiment\" failed type inference due to: \u001b[1m\u001b[1mnon-precise type pyobject\u001b[0m\n",
      "\u001b[0m\u001b[1mDuring: typing of argument at <ipython-input-73-e433e02739cb> (33)\u001b[0m\n",
      "\u001b[1m\n",
      "File \"<ipython-input-73-e433e02739cb>\", line 33:\u001b[0m\n",
      "\u001b[1mdef complex_experiment(K, N):\n",
      "    <source elided>\n",
      "    neigh_fract = np.zeros((K,4), dtype=np.float)\n",
      "\u001b[1m    for i in prange(K):\n",
      "\u001b[0m    \u001b[1m^\u001b[0m\u001b[0m\n",
      "\u001b[0m\n",
      "  @jit(parallel=True)\n",
      "C:\\Users\\user\\miniconda3\\lib\\site-packages\\numba\\core\\object_mode_passes.py:151: NumbaWarning: \u001b[1mFunction \"complex_experiment\" was compiled in object mode without forceobj=True.\n",
      "\u001b[1m\n",
      "File \"<ipython-input-73-e433e02739cb>\", line 33:\u001b[0m\n",
      "\u001b[1mdef complex_experiment(K, N):\n",
      "    <source elided>\n",
      "    neigh_fract = np.zeros((K,4), dtype=np.float)\n",
      "\u001b[1m    for i in prange(K):\n",
      "\u001b[0m    \u001b[1m^\u001b[0m\u001b[0m\n",
      "\u001b[0m\n",
      "  warnings.warn(errors.NumbaWarning(warn_msg,\n",
      "C:\\Users\\user\\miniconda3\\lib\\site-packages\\numba\\core\\object_mode_passes.py:161: NumbaDeprecationWarning: \u001b[1m\n",
      "Fall-back from the nopython compilation path to the object mode compilation path has been detected, this is deprecated behaviour.\n",
      "\n",
      "For more information visit https://numba.pydata.org/numba-doc/latest/reference/deprecation.html#deprecation-of-object-mode-fall-back-behaviour-when-using-jit\n",
      "\u001b[1m\n",
      "File \"<ipython-input-73-e433e02739cb>\", line 33:\u001b[0m\n",
      "\u001b[1mdef complex_experiment(K, N):\n",
      "    <source elided>\n",
      "    neigh_fract = np.zeros((K,4), dtype=np.float)\n",
      "\u001b[1m    for i in prange(K):\n",
      "\u001b[0m    \u001b[1m^\u001b[0m\u001b[0m\n",
      "\u001b[0m\n",
      "  warnings.warn(errors.NumbaDeprecationWarning(msg,\n",
      "<ipython-input-73-e433e02739cb>:3: NumbaWarning: \u001b[1m\n",
      "Compilation is falling back to object mode WITHOUT looplifting enabled because Function \"experiment\" failed type inference due to: \u001b[1m\u001b[1m\u001b[1mNo implementation of function Function(<function unique at 0x000001DC15539820>) found for signature:\n",
      " \n",
      " >>> unique(array(int16, 2d, C), axis=Literal[int](0))\n",
      " \n",
      "There are 2 candidate implementations:\n",
      "\u001b[1m      - Of which 2 did not match due to:\n",
      "      Overload in function 'np_unique': File: numba\\np\\arrayobj.py: Line 1993.\n",
      "        With argument(s): '(array(int16, 2d, C), axis=int64)':\u001b[0m\n",
      "\u001b[1m       Rejected as the implementation raised a specific error:\n",
      "         TypeError: np_unique() got an unexpected keyword argument 'axis'\u001b[0m\n",
      "  raised from C:\\Users\\user\\miniconda3\\lib\\site-packages\\numba\\core\\typing\\templates.py:775\n",
      "\u001b[0m\n",
      "\u001b[0m\u001b[1mDuring: resolving callee type: Function(<function unique at 0x000001DC15539820>)\u001b[0m\n",
      "\u001b[0m\u001b[1mDuring: typing of call at <ipython-input-73-e433e02739cb> (13)\n",
      "\u001b[0m\n",
      "\u001b[1m\n",
      "File \"<ipython-input-73-e433e02739cb>\", line 13:\u001b[0m\n",
      "\u001b[1mdef experiment(N: int):\n",
      "    <source elided>\n",
      "        \n",
      "\u001b[1m    walk_dots_new = np.unique(walk_dots, axis=0)\n",
      "\u001b[0m    \u001b[1m^\u001b[0m\u001b[0m\n",
      "\u001b[0m\n",
      "  @jit\n",
      "C:\\Users\\user\\miniconda3\\lib\\site-packages\\numba\\core\\object_mode_passes.py:151: NumbaWarning: \u001b[1mFunction \"experiment\" was compiled in object mode without forceobj=True.\n",
      "\u001b[1m\n",
      "File \"<ipython-input-73-e433e02739cb>\", line 13:\u001b[0m\n",
      "\u001b[1mdef experiment(N: int):\n",
      "    <source elided>\n",
      "        \n",
      "\u001b[1m    walk_dots_new = np.unique(walk_dots, axis=0)\n",
      "\u001b[0m    \u001b[1m^\u001b[0m\u001b[0m\n",
      "\u001b[0m\n",
      "  warnings.warn(errors.NumbaWarning(warn_msg,\n",
      "C:\\Users\\user\\miniconda3\\lib\\site-packages\\numba\\core\\object_mode_passes.py:161: NumbaDeprecationWarning: \u001b[1m\n",
      "Fall-back from the nopython compilation path to the object mode compilation path has been detected, this is deprecated behaviour.\n",
      "\n",
      "For more information visit https://numba.pydata.org/numba-doc/latest/reference/deprecation.html#deprecation-of-object-mode-fall-back-behaviour-when-using-jit\n",
      "\u001b[1m\n",
      "File \"<ipython-input-73-e433e02739cb>\", line 13:\u001b[0m\n",
      "\u001b[1mdef experiment(N: int):\n",
      "    <source elided>\n",
      "        \n",
      "\u001b[1m    walk_dots_new = np.unique(walk_dots, axis=0)\n",
      "\u001b[0m    \u001b[1m^\u001b[0m\u001b[0m\n",
      "\u001b[0m\n",
      "  warnings.warn(errors.NumbaDeprecationWarning(msg,\n",
      "<ipython-input-73-e433e02739cb>:3: NumbaWarning: \u001b[1m\n",
      "Compilation is falling back to object mode WITHOUT looplifting enabled because Function \"experiment\" failed type inference due to: \u001b[1m\u001b[1m\u001b[1mNo implementation of function Function(<built-in function zeros>) found for signature:\n",
      " \n",
      " >>> zeros(UniTuple(Literal[int](4) x 1), dtype=Function(<class 'float'>))\n",
      " \n",
      "There are 4 candidate implementations:\n",
      "\u001b[1m      - Of which 2 did not match due to:\n",
      "      Overload in function '_OverloadWrapper._build.<locals>.ol_generated': File: numba\\core\\overload_glue.py: Line 131.\n",
      "        With argument(s): '(UniTuple(int64 x 1), dtype=Function(<class 'float'>))':\u001b[0m\n",
      "\u001b[1m       Rejected as the implementation raised a specific error:\n",
      "         TypingError: Failed in nopython mode pipeline (step: nopython frontend)\n",
      "       \u001b[1m\u001b[1m\u001b[1mNo implementation of function Function(<intrinsic stub>) found for signature:\n",
      "        \n",
      "        >>> stub(UniTuple(int64 x 1), Function(<class 'float'>))\n",
      "        \n",
      "       There are 2 candidate implementations:\n",
      "       \u001b[1m  - Of which 2 did not match due to:\n",
      "         Intrinsic of function 'stub': File: numba\\core\\overload_glue.py: Line 35.\n",
      "           With argument(s): '(UniTuple(int64 x 1), Function(<class 'float'>))':\u001b[0m\n",
      "       \u001b[1m   No match.\u001b[0m\n",
      "       \u001b[0m\n",
      "       \u001b[0m\u001b[1mDuring: resolving callee type: Function(<intrinsic stub>)\u001b[0m\n",
      "       \u001b[0m\u001b[1mDuring: typing of call at <string> (3)\n",
      "       \u001b[0m\n",
      "       \u001b[1m\n",
      "       File \"<string>\", line 3:\u001b[0m\n",
      "       \u001b[1m<source missing, REPL/exec in use?>\u001b[0m\n",
      "\u001b[0m\n",
      "  raised from C:\\Users\\user\\miniconda3\\lib\\site-packages\\numba\\core\\typeinfer.py:1074\n",
      "\u001b[1m      - Of which 2 did not match due to:\n",
      "      Overload in function '_OverloadWrapper._build.<locals>.ol_generated': File: numba\\core\\overload_glue.py: Line 131.\n",
      "        With argument(s): '(UniTuple(Literal[int](4) x 1), dtype=Function(<class 'float'>))':\u001b[0m\n",
      "\u001b[1m       Rejected as the implementation raised a specific error:\n",
      "         TypingError: Failed in nopython mode pipeline (step: nopython frontend)\n",
      "       \u001b[1m\u001b[1m\u001b[1mNo implementation of function Function(<intrinsic stub>) found for signature:\n",
      "        \n",
      "        >>> stub(UniTuple(Literal[int](4) x 1), Function(<class 'float'>))\n",
      "        \n",
      "       There are 2 candidate implementations:\n",
      "       \u001b[1m  - Of which 2 did not match due to:\n",
      "         Intrinsic of function 'stub': File: numba\\core\\overload_glue.py: Line 35.\n",
      "           With argument(s): '(UniTuple(int64 x 1), Function(<class 'float'>))':\u001b[0m\n",
      "       \u001b[1m   No match.\u001b[0m\n",
      "       \u001b[0m\n",
      "       \u001b[0m\u001b[1mDuring: resolving callee type: Function(<intrinsic stub>)\u001b[0m\n",
      "       \u001b[0m\u001b[1mDuring: typing of call at <string> (3)\n",
      "       \u001b[0m\n",
      "       \u001b[1m\n",
      "       File \"<string>\", line 3:\u001b[0m\n",
      "       \u001b[1m<source missing, REPL/exec in use?>\u001b[0m\n",
      "\u001b[0m\n",
      "  raised from C:\\Users\\user\\miniconda3\\lib\\site-packages\\numba\\core\\typeinfer.py:1074\n",
      "\u001b[0m\n",
      "\u001b[0m\u001b[1mDuring: resolving callee type: Function(<built-in function zeros>)\u001b[0m\n",
      "\u001b[0m\u001b[1mDuring: typing of call at <ipython-input-73-e433e02739cb> (25)\n",
      "\u001b[0m\n",
      "\u001b[1m\n",
      "File \"<ipython-input-73-e433e02739cb>\", line 25:\u001b[0m\n",
      "\u001b[1mdef experiment(N: int):\n",
      "    <source elided>\n",
      "    \n",
      "\u001b[1m    neigh_fract_0 = np.zeros((4,), dtype=np.float)\n",
      "\u001b[0m    \u001b[1m^\u001b[0m\u001b[0m\n",
      "\u001b[0m\n",
      "  @jit\n",
      "C:\\Users\\user\\miniconda3\\lib\\site-packages\\numba\\core\\object_mode_passes.py:151: NumbaWarning: \u001b[1mFunction \"experiment\" was compiled in object mode without forceobj=True.\n",
      "\u001b[1m\n",
      "File \"<ipython-input-73-e433e02739cb>\", line 25:\u001b[0m\n",
      "\u001b[1mdef experiment(N: int):\n",
      "    <source elided>\n",
      "    \n",
      "\u001b[1m    neigh_fract_0 = np.zeros((4,), dtype=np.float)\n",
      "\u001b[0m    \u001b[1m^\u001b[0m\u001b[0m\n",
      "\u001b[0m\n",
      "  warnings.warn(errors.NumbaWarning(warn_msg,\n",
      "C:\\Users\\user\\miniconda3\\lib\\site-packages\\numba\\core\\object_mode_passes.py:161: NumbaDeprecationWarning: \u001b[1m\n",
      "Fall-back from the nopython compilation path to the object mode compilation path has been detected, this is deprecated behaviour.\n",
      "\n",
      "For more information visit https://numba.pydata.org/numba-doc/latest/reference/deprecation.html#deprecation-of-object-mode-fall-back-behaviour-when-using-jit\n",
      "\u001b[1m\n",
      "File \"<ipython-input-73-e433e02739cb>\", line 25:\u001b[0m\n",
      "\u001b[1mdef experiment(N: int):\n",
      "    <source elided>\n",
      "    \n",
      "\u001b[1m    neigh_fract_0 = np.zeros((4,), dtype=np.float)\n",
      "\u001b[0m    \u001b[1m^\u001b[0m\u001b[0m\n",
      "\u001b[0m\n",
      "  warnings.warn(errors.NumbaDeprecationWarning(msg,\n"
     ]
    },
    {
     "name": "stdout",
     "output_type": "stream",
     "text": [
      "Wall time: 6.02 s\n"
     ]
    },
    {
     "data": {
      "text/plain": [
       "array([0.0625, 0.25  , 0.3375, 0.35  ])"
      ]
     },
     "execution_count": 74,
     "metadata": {},
     "output_type": "execute_result"
    }
   ],
   "source": [
    "%%time \n",
    "\n",
    "complex_experiment(2, 100)"
   ]
  },
  {
   "cell_type": "code",
   "execution_count": null,
   "id": "alone-professor",
   "metadata": {},
   "outputs": [],
   "source": [
    "K = 10\n",
    "N = 100\n",
    "\n",
    "\n"
   ]
  }
 ],
 "metadata": {
  "kernelspec": {
   "display_name": "Python 3",
   "language": "python",
   "name": "python3"
  },
  "language_info": {
   "codemirror_mode": {
    "name": "ipython",
    "version": 3
   },
   "file_extension": ".py",
   "mimetype": "text/x-python",
   "name": "python",
   "nbconvert_exporter": "python",
   "pygments_lexer": "ipython3",
   "version": "3.8.5"
  }
 },
 "nbformat": 4,
 "nbformat_minor": 5
}
