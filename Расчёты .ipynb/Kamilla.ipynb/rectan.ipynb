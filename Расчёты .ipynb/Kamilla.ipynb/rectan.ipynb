{
 "cells": [
  {
   "cell_type": "code",
   "execution_count": 1,
   "id": "celtic-brief",
   "metadata": {},
   "outputs": [],
   "source": [
    "import matplotlib.pyplot as plt\n",
    "import random\n",
    "import numpy as np\n",
    "\n",
    "import pandas as pd\n",
    "from matplotlib.ticker import LogFormatter \n",
    "from scipy.optimize import curve_fit\n",
    "from pathlib import Path\n",
    "import matplotlib.colors\n",
    "from matplotlib import ticker, cm\n",
    "import pickle\n",
    "\n",
    "from scipy.stats import norm\n",
    "#%matplotlib notebook"
   ]
  },
  {
   "cell_type": "code",
   "execution_count": 2,
   "id": "warming-geneva",
   "metadata": {},
   "outputs": [],
   "source": [
    "from scipy.optimize import fsolve"
   ]
  },
  {
   "cell_type": "code",
   "execution_count": 3,
   "id": "excellent-theater",
   "metadata": {},
   "outputs": [],
   "source": [
    "def center_of_mass(a,b):\n",
    "    \"\"\"Функция для нахождения координат центра масс.\n",
    " \n",
    "    \"\"\"\n",
    "        \n",
    "    return ((a-1)*0.5, (b-1)*0.5) \n",
    "\n",
    "def square_radius_of_gyration(conformation):\n",
    "    \"\"\"Функция возвращает радиус вращения для данной конформации \"\"\"\n",
    "    cent_mass=center_of_mass(conformation[0], conformation[1])\n",
    "    summa=0\n",
    "    A = 0\n",
    "    BC = 0\n",
    "    D = 0\n",
    "    #print(cent_mass)\n",
    "    for i in range(conformation[0]):\n",
    "        for j in range(conformation[1]):\n",
    "            dist = (i-cent_mass[0],  j-cent_mass[1])\n",
    "            #print(dist)\n",
    "            summa=summa+dist[0]*dist[0]+dist[1]*dist[1]\n",
    "            A+=dist[0]*dist[0]\n",
    "            D+=dist[1]*dist[1]\n",
    "            BC+=dist[0]*dist[1]\n",
    "        \n",
    "    A/=len(conformation)\n",
    "    D/=len(conformation)\n",
    "    BC/=len(conformation)\n",
    "    equ = lambda x: x*x-(A+D)*x+(A*D-BC*BC)\n",
    "    \n",
    "    #lambda1 = fsolve(equ, 10)[0]\n",
    "    #lambda2 = fsolve(equ, 0)[0]\n",
    "    \n",
    "    Di = (A+D)*(A+D)-4*(A*D - BC*BC)\n",
    "    \n",
    "    lambda1 = ((A+D) + np.sqrt(Di))*0.5\n",
    "    lambda2 = ((A+D) - np.sqrt(Di))*0.5;\n",
    "    \n",
    "    aratio = (lambda1-lambda2)**2/(lambda1+lambda2)**2\n",
    "    #print(A, D, BC)\n",
    "    #print(A+D, summa/len(conformation)  )\n",
    "    #print(lambda1, lambda2, aratio)\n",
    "    \n",
    "    return summa/len(conformation),lambda1,lambda2,aratio"
   ]
  },
  {
   "cell_type": "markdown",
   "id": "junior-intellectual",
   "metadata": {},
   "source": [
    "***Значения отношения сторон прямоугольника для заданной асферичности***"
   ]
  },
  {
   "cell_type": "code",
   "execution_count": 8,
   "id": "athletic-dietary",
   "metadata": {},
   "outputs": [
    {
     "name": "stdout",
     "output_type": "stream",
     "text": [
      "0.5  --  0.3600011520027648 . s1 =  20833312500.0 . s2 =  5208312499.999999\n"
     ]
    }
   ],
   "source": [
    "sides = np.array([[500,1000]])\n",
    "ratios = []\n",
    "\n",
    "aspherical_results = []\n",
    "\n",
    "\n",
    "for pairs in sides:\n",
    "    \n",
    "    r,lambda1,lambda2,aratio = square_radius_of_gyration(pairs)\n",
    "    \n",
    "    ratios.append(pairs[0]/pairs[1])\n",
    "    \n",
    "    aspherical_results.append(aratio)\n",
    "    print(pairs[0]/pairs[1], \" -- \", aratio, \". s1 = \", lambda1, \". s2 = \", lambda2)"
   ]
  },
  {
   "cell_type": "markdown",
   "id": "parliamentary-graphics",
   "metadata": {},
   "source": [
    "**Диапазон для J=0.83**"
   ]
  },
  {
   "cell_type": "code",
   "execution_count": 19,
   "id": "cognitive-exclusive",
   "metadata": {},
   "outputs": [
    {
     "name": "stdout",
     "output_type": "stream",
     "text": [
      "0.451  --  0.438187738910445\n",
      "0.452  --  0.4365394877689782\n",
      "0.453  --  0.4348931732504075\n",
      "0.454  --  0.4332488127809994\n",
      "0.455  --  0.43160642368895075\n",
      "0.456  --  0.4299660232043442\n",
      "0.457  --  0.42832762845910805\n",
      "0.458  --  0.42669125648697953\n"
     ]
    }
   ],
   "source": [
    "sides = np.array([[451,1000], [452,1000], [453, 1000], [454,1000], [455,1000], [456,1000],[457,1000], [458,1000] ])\n",
    "ratios = []\n",
    "\n",
    "aspherical_results = []\n",
    "\n",
    "\n",
    "for pairs in sides:\n",
    "    \n",
    "    r,lambda1,lambda2,aratio = square_radius_of_gyration(pairs)\n",
    "    \n",
    "    ratios.append(pairs[0]/pairs[1])\n",
    "    \n",
    "    aspherical_results.append(aratio)\n",
    "    print(pairs[0]/pairs[1], \" -- \", aratio)"
   ]
  },
  {
   "cell_type": "code",
   "execution_count": 20,
   "id": "underlying-belgium",
   "metadata": {},
   "outputs": [
    {
     "name": "stdout",
     "output_type": "stream",
     "text": [
      "0.459  --  0.4250569242234718\n",
      "0.46  --  0.4234246485058452\n",
      "0.461  --  0.4217944460730819\n",
      "0.462  --  0.42016633356586447\n",
      "0.463  --  0.41854032752655784\n",
      "0.464  --  0.4169164443991956\n",
      "0.465  --  0.4152947005294697\n",
      "0.466  --  0.4136751121647232\n"
     ]
    }
   ],
   "source": [
    "sides = np.array([[459,1000], [460,1000], [461, 1000], [462,1000], [463,1000], [464,1000],[465,1000], [466,1000] ])\n",
    "ratios = []\n",
    "\n",
    "aspherical_results = []\n",
    "\n",
    "\n",
    "for pairs in sides:\n",
    "    \n",
    "    r,lambda1,lambda2,aratio = square_radius_of_gyration(pairs)\n",
    "    \n",
    "    ratios.append(pairs[0]/pairs[1])\n",
    "    \n",
    "    aspherical_results.append(aratio)\n",
    "    print(pairs[0]/pairs[1], \" -- \", aratio)"
   ]
  },
  {
   "cell_type": "markdown",
   "id": "pleased-brick",
   "metadata": {},
   "source": [
    "**Диапазон для J=0.84**"
   ]
  },
  {
   "cell_type": "code",
   "execution_count": 5,
   "id": "empty-morgan",
   "metadata": {},
   "outputs": [
    {
     "name": "stdout",
     "output_type": "stream",
     "text": [
      "0.48  --  0.3912360675640236\n",
      "0.485  --  0.38333336898440856\n",
      "0.486  --  0.3817601512970105\n",
      "0.487  --  0.38018940761616904\n",
      "0.488  --  0.37862115203099883\n",
      "0.489  --  0.3770553985330722\n",
      "0.49  --  0.3754921610164932\n",
      "0.506  --  0.35083349533910263\n",
      "0.507  --  0.34931506127996814\n",
      "0.508  --  0.34779937673211575\n",
      "0.523  --  0.325402024834986\n",
      "0.524  --  0.3239319081719217\n",
      "0.525  --  0.32246473317568686\n",
      "0.53  --  0.3151733460334617\n",
      "0.531  --  0.3137240374459651\n",
      "0.532  --  0.3122777417999741\n"
     ]
    }
   ],
   "source": [
    "sides = np.array([[480,1000], [485,1000], [486,1000], [487, 1000], [488,1000], [489,1000], [490,1000],[506,1000], [507,1000], [508,1000],[523,1000],[524,1000],[525,1000], [530,1000],[531,1000],[532,1000]   ])\n",
    "ratios = []\n",
    "\n",
    "aspherical_results = []\n",
    "\n",
    "\n",
    "for pairs in sides:\n",
    "    \n",
    "    r,lambda1,lambda2,aratio = square_radius_of_gyration(pairs)\n",
    "    \n",
    "    ratios.append(pairs[0]/pairs[1])\n",
    "    \n",
    "    aspherical_results.append(aratio)\n",
    "    print(pairs[0]/pairs[1], \" -- \", aratio)"
   ]
  },
  {
   "cell_type": "markdown",
   "id": "tropical-confidence",
   "metadata": {},
   "source": [
    "**Диапазон вблизи точки перехода PolIsing**"
   ]
  },
  {
   "cell_type": "code",
   "execution_count": 4,
   "id": "enormous-request",
   "metadata": {},
   "outputs": [
    {
     "name": "stdout",
     "output_type": "stream",
     "text": [
      "0.465  --  0.4152947005294697\n",
      "0.466  --  0.4136751121647232\n",
      "0.467  --  0.4120576954539477\n",
      "0.468  --  0.4104424664477839\n",
      "0.469  --  0.40882944109852537\n",
      "0.47  --  0.4072186352601266\n",
      "0.471  --  0.40561006468821426\n",
      "0.472  --  0.40400374504010167\n",
      "0.473  --  0.4023996918748078\n",
      "0.474  --  0.40079792065307845\n",
      "0.475  --  0.39919844673741167\n",
      "0.476  --  0.39760128539208683\n",
      "0.477  --  0.39600645178319643\n",
      "0.478  --  0.39441396097868153\n",
      "0.479  --  0.39282382794837106\n"
     ]
    }
   ],
   "source": [
    "sides = np.array([[465,1000], [466,1000], [467, 1000], [468,1000], [469,1000], [470,1000]])\n",
    "ratios = []\n",
    "\n",
    "aspherical_results = []\n",
    "\n",
    "\n",
    "for side in range(465,480):\n",
    "    pairs = [side, 1000]\n",
    "    r,lambda1,lambda2,aratio = square_radius_of_gyration(pairs)\n",
    "    \n",
    "    ratios.append(pairs[0]/pairs[1])\n",
    "    \n",
    "    aspherical_results.append(aratio)\n",
    "    print(pairs[0]/pairs[1], \" -- \", aratio)\n",
    "    \n"
   ]
  },
  {
   "cell_type": "code",
   "execution_count": 6,
   "id": "mounted-matter",
   "metadata": {},
   "outputs": [
    {
     "name": "stdout",
     "output_type": "stream",
     "text": [
      "0.46  --  0.4234246485058452\n",
      "0.49  --  0.3754921610164932\n"
     ]
    }
   ],
   "source": [
    "for side in [460, 490]:\n",
    "    pairs = [side, 1000]\n",
    "    r,lambda1,lambda2,aratio = square_radius_of_gyration(pairs)\n",
    "    \n",
    "    ratios.append(pairs[0]/pairs[1])\n",
    "    \n",
    "    aspherical_results.append(aratio)\n",
    "    print(pairs[0]/pairs[1], \" -- \", aratio)"
   ]
  },
  {
   "cell_type": "markdown",
   "id": "damaged-bahrain",
   "metadata": {},
   "source": [
    "**Диапазон вблизи точки перехода ISAW**"
   ]
  },
  {
   "cell_type": "code",
   "execution_count": 6,
   "id": "major-console",
   "metadata": {},
   "outputs": [
    {
     "name": "stdout",
     "output_type": "stream",
     "text": [
      "0.49  --  0.3754921610164932\n",
      "0.491  --  0.3739314532779756\n",
      "0.492  --  0.3723732890169239\n",
      "0.493  --  0.3708176818355164\n",
      "0.494  --  0.3692646452387925\n",
      "0.495  --  0.3677141926347427\n",
      "0.496  --  0.36616633733440074\n",
      "0.497  --  0.36462109255194003\n",
      "0.498  --  0.36307847140477223\n",
      "0.499  --  0.36153848691364865\n",
      "0.5  --  0.3600011520027648\n"
     ]
    }
   ],
   "source": [
    "sides = np.array([[490,1000],[506,1000], [507,1000], [508,1000],[523,1000],[524,1000],[525,1000], [530,1000],[531,1000],[532,1000]   ])\n",
    "ratios = []\n",
    "\n",
    "aspherical_results = []\n",
    "\n",
    "\n",
    "for side in range(490,501):\n",
    "    pairs = [side, 1000]\n",
    "    \n",
    "    r,lambda1,lambda2,aratio = square_radius_of_gyration(pairs)\n",
    "    \n",
    "    ratios.append(pairs[0]/pairs[1])\n",
    "    \n",
    "    aspherical_results.append(aratio)\n",
    "    print(pairs[0]/pairs[1], \" -- \", aratio)"
   ]
  },
  {
   "cell_type": "code",
   "execution_count": null,
   "id": "spoken-policy",
   "metadata": {},
   "outputs": [],
   "source": []
  }
 ],
 "metadata": {
  "kernelspec": {
   "display_name": "Python 3",
   "language": "python",
   "name": "python3"
  },
  "language_info": {
   "codemirror_mode": {
    "name": "ipython",
    "version": 3
   },
   "file_extension": ".py",
   "mimetype": "text/x-python",
   "name": "python",
   "nbconvert_exporter": "python",
   "pygments_lexer": "ipython3",
   "version": "3.8.5"
  }
 },
 "nbformat": 4,
 "nbformat_minor": 5
}
