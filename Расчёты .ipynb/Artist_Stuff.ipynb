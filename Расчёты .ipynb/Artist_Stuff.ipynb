{
 "cells": [
  {
   "cell_type": "code",
   "execution_count": 57,
   "id": "regulation-evidence",
   "metadata": {},
   "outputs": [],
   "source": [
    "import matplotlib.pyplot as plt\n",
    "import numpy as np\n",
    "from pathlib import Path"
   ]
  },
  {
   "cell_type": "code",
   "execution_count": 80,
   "id": "sudden-karen",
   "metadata": {},
   "outputs": [
    {
     "data": {
      "image/png": "[encoded data removed]",
      "text/plain": [
       "<Figure size 1008x360 with 2 Axes>"
      ]
     },
     "metadata": {
      "needs_background": "light"
     },
     "output_type": "display_data"
    }
   ],
   "source": [
    "def calc_neighs_234(x,y,ax):\n",
    "    nei_mons_X = [[] for i in range(3)]\n",
    "    nei_mons_Y = [[] for i in range(3)]\n",
    "    dot = np.zeros(2)\n",
    "    dotj = np.zeros(2)\n",
    "    for i in range(len(x)):\n",
    "        dot[0], dot[1] = x[i], y[i]\n",
    "        k_n = 0\n",
    "        for j in range(len(x)):\n",
    "            dotj = x[j], y[j]\n",
    "            if np.any(np.all(dot - dotj == step, axis=1)):\n",
    "                k_n += 1\n",
    "        if k_n != 1:\n",
    "            nei_mons_X[k_n-2].append(dot[0])\n",
    "            nei_mons_Y[k_n-2].append(dot[1])\n",
    "    form = ['ko', 'b^', 'rs']\n",
    "    for i in range(3):\n",
    "        ax.plot(nei_mons_X[i], nei_mons_Y[i],form[i],ms=10, label='k_neighbors='+str(i+2))\n",
    "\n",
    "step = [[1,0],[-1,0],[0,1],[0,-1]]\n",
    "directions = [1,1,3,2,3,3,3,1,1,4,2,4,1,1]\n",
    "walk_X=[0]\n",
    "walk_Y=[0]\n",
    "for d in directions:\n",
    "    walk_X.append(walk_X[-1] + step[d-1][0])\n",
    "    walk_Y.append(walk_Y[-1] + step[d-1][1])\n",
    "fig, ax = plt.subplots(1,2, figsize=(14,5))\n",
    "left = ax[0]\n",
    "left.plot(walk_X, walk_Y, '-', label='conformation')\n",
    "calc_neighs_234(walk_X, walk_Y, left)\n",
    "\n",
    "left.axis(False);\n",
    "left.set_xlim(-0.5, 6)\n",
    "left.plot([4,4,5],[3,1,2], 'o', ms=10, label='possible ways')\n",
    "\n",
    "d=1\n",
    "walk_X.append(walk_X[-1] + step[d-1][0])\n",
    "walk_Y.append(walk_Y[-1] + step[d-1][1])\n",
    "left = ax[1]\n",
    "left.plot(walk_X, walk_Y, '-', label='conformation')\n",
    "calc_neighs_234(walk_X, walk_Y, left)\n",
    "\n",
    "left.axis(False);\n",
    "left.set_xlim(-0.5, 6.5)\n",
    "plt.savefig(Path.cwd() / \"Images\" / \"Atmos_to_neibors_p3.png\")"
   ]
  },
  {
   "cell_type": "code",
   "execution_count": 81,
   "id": "waiting-exhibition",
   "metadata": {},
   "outputs": [
    {
     "data": {
      "image/png": "[encoded data removed]",
      "text/plain": [
       "<Figure size 1008x360 with 2 Axes>"
      ]
     },
     "metadata": {
      "needs_background": "light"
     },
     "output_type": "display_data"
    }
   ],
   "source": [
    "step = [[1,0],[-1,0],[0,1],[0,-1]]\n",
    "directions = [1,1,3,2,3,3,3,1,1,4,2,4,1,4]\n",
    "walk_X=[0]\n",
    "walk_Y=[0]\n",
    "for d in directions:\n",
    "    walk_X.append(walk_X[-1] + step[d-1][0])\n",
    "    walk_Y.append(walk_Y[-1] + step[d-1][1])\n",
    "fig, ax = plt.subplots(1,2, figsize=(14,5))\n",
    "left = ax[0]\n",
    "left.plot(walk_X, walk_Y, '-', label='conformation')\n",
    "calc_neighs_234(walk_X, walk_Y, left)\n",
    "\n",
    "left.axis(False);\n",
    "left.set_xlim(-0.5, 6)\n",
    "left.plot([3,4],[0,1], 'o', ms=10, label='possible ways')\n",
    "\n",
    "d=1\n",
    "walk_X.append(walk_X[-1] + step[d-1][0])\n",
    "walk_Y.append(walk_Y[-1] + step[d-1][1])\n",
    "left = ax[1]\n",
    "left.plot(walk_X, walk_Y, '-', label='conformation')\n",
    "calc_neighs_234(walk_X, walk_Y, left)\n",
    "\n",
    "left.axis(False);\n",
    "left.set_xlim(-0.5, 6.5)\n",
    "plt.savefig(Path.cwd() / \"Images\" / \"Atmos_to_neibors_p2.png\")"
   ]
  },
  {
   "cell_type": "code",
   "execution_count": 82,
   "id": "aging-indonesian",
   "metadata": {},
   "outputs": [
    {
     "data": {
      "image/png": "[encoded data removed]",
      "text/plain": [
       "<Figure size 1008x360 with 2 Axes>"
      ]
     },
     "metadata": {
      "needs_background": "light"
     },
     "output_type": "display_data"
    }
   ],
   "source": [
    "step = [[1,0],[-1,0],[0,1],[0,-1]]\n",
    "directions = [1,1,3,2,3,3,3,1,1,4,2,4]\n",
    "walk_X=[0]\n",
    "walk_Y=[0]\n",
    "for d in directions:\n",
    "    walk_X.append(walk_X[-1] + step[d-1][0])\n",
    "    walk_Y.append(walk_Y[-1] + step[d-1][1])\n",
    "fig, ax = plt.subplots(1,2, figsize=(14,5))\n",
    "left = ax[0]\n",
    "left.plot(walk_X, walk_Y, '-', label='conformation')\n",
    "calc_neighs_234(walk_X, walk_Y, left)\n",
    "\n",
    "left.axis(False);\n",
    "left.set_xlim(-0.5, 6)\n",
    "left.plot([3],[2], 'o', ms=10, label='possible ways')\n",
    "\n",
    "d=1\n",
    "walk_X.append(walk_X[-1] + step[d-1][0])\n",
    "walk_Y.append(walk_Y[-1] + step[d-1][1])\n",
    "left = ax[1]\n",
    "left.plot(walk_X, walk_Y, '-', label='conformation')\n",
    "calc_neighs_234(walk_X, walk_Y, left)\n",
    "\n",
    "left.axis(False);\n",
    "left.set_xlim(-0.5, 6)\n",
    "plt.savefig(Path.cwd() / \"Images\" / \"Atmos_to_neibors_p1.png\")"
   ]
  },
  {
   "cell_type": "code",
   "execution_count": null,
   "id": "final-biodiversity",
   "metadata": {},
   "outputs": [],
   "source": []
  }
 ],
 "metadata": {
  "kernelspec": {
   "display_name": "Python 3",
   "language": "python",
   "name": "python3"
  },
  "language_info": {
   "codemirror_mode": {
    "name": "ipython",
    "version": 3
   },
   "file_extension": ".py",
   "mimetype": "text/x-python",
   "name": "python",
   "nbconvert_exporter": "python",
   "pygments_lexer": "ipython3",
   "version": "3.8.5"
  }
 },
 "nbformat": 4,
 "nbformat_minor": 5
}
