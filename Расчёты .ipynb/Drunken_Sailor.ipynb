{
 "cells": [
  {
   "cell_type": "code",
   "execution_count": 46,
   "id": "aquatic-bronze",
   "metadata": {
    "id": "reflected-belly"
   },
   "outputs": [],
   "source": [
    "import numpy as np\n",
    "import matplotlib.pyplot as plt"
   ]
  },
  {
   "cell_type": "markdown",
   "id": "several-addiction",
   "metadata": {
    "id": "conceptual-quantum"
   },
   "source": [
    "# Прототип генерации блуждания и подсчёта соседей по нему"
   ]
  },
  {
   "cell_type": "code",
   "execution_count": null,
   "id": "coral-workshop",
   "metadata": {
    "id": "brutal-rocket",
    "outputId": "43f35c04-c85b-4c43-c638-cda11eb7ef07"
   },
   "outputs": [
    {
     "data": {
      "text/plain": [
       "array([2, 2, 2, 1, 3, 3, 2, 1, 2, 0])"
      ]
     },
     "execution_count": 4,
     "metadata": {},
     "output_type": "execute_result"
    }
   ],
   "source": [
    "np.random.randint(0,4, size=10)"
   ]
  },
  {
   "cell_type": "markdown",
   "id": "motivated-leeds",
   "metadata": {
    "id": "fifteen-james"
   },
   "source": [
    "Основные константы - начальная точка и шаги блуждания"
   ]
  },
  {
   "cell_type": "code",
   "execution_count": null,
   "id": "higher-burns",
   "metadata": {
    "id": "parliamentary-reach"
   },
   "outputs": [],
   "source": [
    "x0 = np.array([0,0])\n",
    "steps = np.array([[1,0],[-1,0],[0,1],[0,-1]])"
   ]
  },
  {
   "cell_type": "markdown",
   "id": "infectious-terrorism",
   "metadata": {
    "id": "indonesian-quarterly"
   },
   "source": [
    "Генерация блужданий и определение уникальных узлов"
   ]
  },
  {
   "cell_type": "code",
   "execution_count": null,
   "id": "silver-lambda",
   "metadata": {
    "id": "enclosed-treat"
   },
   "outputs": [],
   "source": [
    "N=100\n",
    "walk_directions = np.random.randint(0,4, size=N)\n",
    "walk_dots = np.zeros((N, 2), dtype=np.int16)\n",
    "walk_dots[0] = x0\n",
    "\n",
    "for i in range(1,N):\n",
    "    walk_dots[i] = walk_dots[i-1] + steps[walk_directions[i]]\n",
    "\n",
    "walk_dots_new = np.unique(walk_dots, axis=0)\n",
    "N_new = len(walk_dots_new)"
   ]
  },
  {
   "cell_type": "code",
   "execution_count": null,
   "id": "declared-motion",
   "metadata": {
    "id": "experienced-sacrifice",
    "outputId": "25ceba78-28e1-42eb-d9a8-a9fad5417524"
   },
   "outputs": [
    {
     "data": {
      "text/plain": [
       "<matplotlib.collections.PathCollection at 0x1dc176ce8b0>"
      ]
     },
     "execution_count": 26,
     "metadata": {},
     "output_type": "execute_result"
    },
    {
     "data": {
      "image/png": "[encoded data removed]",
      "text/plain": [
       "<Figure size 432x288 with 1 Axes>"
      ]
     },
     "metadata": {
      "needs_background": "light"
     },
     "output_type": "display_data"
    }
   ],
   "source": [
    "plt.plot(walk_dots[:,0], walk_dots[:,1])\n",
    "plt.scatter(walk_dots[(0,-1),0], walk_dots[(0, -1),1])"
   ]
  },
  {
   "cell_type": "code",
   "execution_count": null,
   "id": "vietnamese-thomas",
   "metadata": {
    "id": "japanese-direction",
    "outputId": "5ea79554-5f3f-4c23-ab95-3a8922692c0f"
   },
   "outputs": [
    {
     "data": {
      "text/plain": [
       "<matplotlib.collections.PathCollection at 0x1dc1778c3a0>"
      ]
     },
     "execution_count": 28,
     "metadata": {},
     "output_type": "execute_result"
    },
    {
     "data": {
      "image/png": "[encoded data removed]",
      "text/plain": [
       "<Figure size 432x288 with 1 Axes>"
      ]
     },
     "metadata": {
      "needs_background": "light"
     },
     "output_type": "display_data"
    }
   ],
   "source": [
    "plt.scatter(walk_dots_new[:,0], walk_dots_new[:,1])"
   ]
  },
  {
   "cell_type": "markdown",
   "id": "foster-memory",
   "metadata": {
    "id": "established-calibration"
   },
   "source": [
    "Подсчёт соседей среди уникальных узлов"
   ]
  },
  {
   "cell_type": "code",
   "execution_count": null,
   "id": "worse-helicopter",
   "metadata": {
    "id": "unknown-sport"
   },
   "outputs": [],
   "source": [
    "walk_neighbors = np.zeros((N_new,), dtype=np.int8)\n",
    "for i in range(N_new):\n",
    "    for step in steps:\n",
    "        potential_n = walk_dots_new[i] + step\n",
    "        for j in range(N_new):\n",
    "            if (walk_dots_new[j] == potential_n).all():\n",
    "                walk_neighbors[i] += 1\n",
    "                break"
   ]
  },
  {
   "cell_type": "code",
   "execution_count": null,
   "id": "looking-pollution",
   "metadata": {
    "id": "fitting-harassment",
    "outputId": "0fabd344-396f-460d-f340-1abc751fda26"
   },
   "outputs": [
    {
     "data": {
      "text/plain": [
       "array([1, 1, 1, 3, 3, 4, 2, 4, 1, 3, 3, 2, 1, 2, 3, 3, 1, 2, 3, 4, 3, 2,\n",
       "       4, 4, 3, 2, 4, 4, 3, 2, 3, 4, 4, 4, 2, 2, 4, 3, 4, 3, 2, 3, 2, 3,\n",
       "       3, 2, 2, 3, 1], dtype=int8)"
      ]
     },
     "execution_count": 39,
     "metadata": {},
     "output_type": "execute_result"
    }
   ],
   "source": [
    "walk_neighbors"
   ]
  },
  {
   "cell_type": "code",
   "execution_count": null,
   "id": "lonely-dakota",
   "metadata": {
    "id": "hearing-institution",
    "outputId": "bf6f7971-c6f1-42bf-a102-47e5e9a4b967"
   },
   "outputs": [
    {
     "data": {
      "text/plain": [
       "array([[0.14285714, 0.26530612, 0.34693878, 0.24489796]])"
      ]
     },
     "execution_count": 47,
     "metadata": {},
     "output_type": "execute_result"
    }
   ],
   "source": [
    "neigh_fract = np.zeros((1,4), dtype=np.float)\n",
    "for i in range(1,4+1):\n",
    "    neigh_fract[0][i-1] = (walk_neighbors == i).sum()\n",
    "neigh_fract / N_new"
   ]
  },
  {
   "cell_type": "markdown",
   "id": "jewish-namibia",
   "metadata": {
    "id": "signed-conservation"
   },
   "source": [
    "# Распараллеленный алгоритм"
   ]
  },
  {
   "cell_type": "code",
   "execution_count": null,
   "id": "disturbed-assessment",
   "metadata": {
    "id": "powerful-transportation"
   },
   "outputs": [],
   "source": [
    "from numba import njit, jit, prange\n",
    "from tqdm import trange\n",
    "\n",
    "@jit\n",
    "def experiment(N: int):\n",
    "    x0 = np.array([0,0])\n",
    "    steps = np.array([[1,0],[-1,0],[0,1],[0,-1]])\n",
    "    walk_directions = np.random.randint(0,4, size=N)\n",
    "    walk_dots = np.zeros((N, 2), dtype=np.int16)\n",
    "    walk_dots[0] = x0\n",
    "    for i in range(1,N):\n",
    "        walk_dots[i] = walk_dots[i-1] + steps[walk_directions[i]]\n",
    "        \n",
    "    walk_dots_new = np.unique(walk_dots, axis=0)\n",
    "    N_new = len(walk_dots_new)\n",
    "    walk_neighbors = np.zeros((N_new,), dtype=np.int8)\n",
    "    \n",
    "    for i in range(N_new):\n",
    "        for step in steps:\n",
    "            potential_n = walk_dots_new[i] + step\n",
    "            for j in range(N_new):\n",
    "                if (walk_dots_new[j] == potential_n).all():\n",
    "                    walk_neighbors[i] += 1\n",
    "                    break    \n",
    "    \n",
    "    neigh_fract_0 = np.zeros((4,), dtype=float)\n",
    "    for i in range(1,4+1):\n",
    "        neigh_fract_0[i-1] = (walk_neighbors == i).sum()\n",
    "    return neigh_fract_0 / N_new\n",
    "\n",
    "def complex_experiment(K, N):\n",
    "    neigh_fract = np.zeros((K,4), dtype=float)\n",
    "    for i in trange(K):\n",
    "        neigh_fract[i] = experiment(N)\n",
    "    return neigh_fract.mean(axis=0), neigh_fract.std(axis=0)"
   ]
  },
  {
   "cell_type": "code",
   "execution_count": null,
   "id": "pharmaceutical-favorite",
   "metadata": {
    "colab": {
     "base_uri": "https://localhost:8080/"
    },
    "id": "gross-topic",
    "outputId": "3c145025-9c7a-4243-ba87-82c7a4f50c8e"
   },
   "outputs": [
    {
     "name": "stderr",
     "output_type": "stream",
     "text": [
      "100%|██████████| 10/10 [00:01<00:00,  8.12it/s]"
     ]
    },
    {
     "name": "stdout",
     "output_type": "stream",
     "text": [
      "\n",
      " [0.03908428 0.22713298 0.32627724 0.4075055 ] [0.01144989 0.03751134 0.02890285 0.05406275]\n",
      "CPU times: user 907 ms, sys: 12.6 ms, total: 920 ms\n",
      "Wall time: 1.25 s\n"
     ]
    },
    {
     "name": "stderr",
     "output_type": "stream",
     "text": [
      "\n"
     ]
    }
   ],
   "source": [
    "%%time \n",
    "\n",
    "print('\\n',*complex_experiment(10, 1000))"
   ]
  },
  {
   "cell_type": "code",
   "execution_count": null,
   "id": "signal-hormone",
   "metadata": {
    "colab": {
     "base_uri": "https://localhost:8080/"
    },
    "id": "alone-professor",
    "outputId": "94bbdf08-4921-4532-ef68-01af7eccba31"
   },
   "outputs": [
    {
     "name": "stderr",
     "output_type": "stream",
     "text": [
      "100%|██████████| 10000/10000 [00:12<00:00, 784.47it/s]\n"
     ]
    },
    {
     "name": "stdout",
     "output_type": "stream",
     "text": [
      "100 (array([0.06784209, 0.33472285, 0.35761886, 0.2398162 ]), array([0.03329051, 0.08660281, 0.06659357, 0.09192897]))\n"
     ]
    },
    {
     "name": "stderr",
     "output_type": "stream",
     "text": [
      "100%|██████████| 10000/10000 [00:30<00:00, 323.09it/s]\n"
     ]
    },
    {
     "name": "stdout",
     "output_type": "stream",
     "text": [
      "200 (array([0.05252419, 0.29084858, 0.35422398, 0.30240324]), array([0.02219834, 0.07080206, 0.05464862, 0.08984867]))\n"
     ]
    },
    {
     "name": "stderr",
     "output_type": "stream",
     "text": [
      "100%|██████████| 10000/10000 [01:58<00:00, 84.62it/s]\n"
     ]
    },
    {
     "name": "stdout",
     "output_type": "stream",
     "text": [
      "500 (array([0.03945975, 0.24373265, 0.33940513, 0.37740246]), array([0.01402355, 0.0539927 , 0.04393788, 0.08208375]))\n"
     ]
    },
    {
     "name": "stderr",
     "output_type": "stream",
     "text": [
      "100%|██████████| 10000/10000 [03:32<00:00, 47.12it/s]\n"
     ]
    },
    {
     "name": "stdout",
     "output_type": "stream",
     "text": [
      "750 (array([0.03568031, 0.22677461, 0.33144464, 0.40610044]), array([0.01157634, 0.04805729, 0.04056382, 0.07818883]))\n"
     ]
    },
    {
     "name": "stderr",
     "output_type": "stream",
     "text": [
      "100%|██████████| 10000/10000 [05:32<00:00, 30.11it/s]\n"
     ]
    },
    {
     "name": "stdout",
     "output_type": "stream",
     "text": [
      "1000 (array([0.03326473, 0.21687621, 0.3263666 , 0.42349246]), array([0.01010491, 0.04449639, 0.03842001, 0.07505321]))\n"
     ]
    },
    {
     "name": "stderr",
     "output_type": "stream",
     "text": [
      "100%|██████████| 10000/10000 [16:59<00:00,  9.81it/s]"
     ]
    },
    {
     "name": "stdout",
     "output_type": "stream",
     "text": [
      "2000 (array([0.02878497, 0.19461286, 0.31191969, 0.46468249]), array([0.007529  , 0.0360762 , 0.03342942, 0.06610401]))\n"
     ]
    },
    {
     "name": "stderr",
     "output_type": "stream",
     "text": [
      "\n"
     ]
    }
   ],
   "source": [
    "for N in [100, 200, 500, 750, 1000, 2000]:\n",
    "    print(N, complex_experiment(10000, N))"
   ]
  },
  {
   "cell_type": "code",
   "execution_count": null,
   "id": "median-upper",
   "metadata": {
    "colab": {
     "base_uri": "https://localhost:8080/"
    },
    "id": "ZFE4hVHPdLze",
    "outputId": "7dacafd9-33ad-4ca0-bf54-99f0bbdc94dc"
   },
   "outputs": [
    {
     "name": "stderr",
     "output_type": "stream",
     "text": [
      "100%|██████████| 10000/10000 [05:11<00:00, 32.10it/s]\n"
     ]
    },
    {
     "data": {
      "text/plain": [
       "array([0.0332595 , 0.21601091, 0.32574161, 0.42498798])"
      ]
     },
     "execution_count": 20,
     "metadata": {},
     "output_type": "execute_result"
    }
   ],
   "source": [
    "complex_experiment(10000, 10000)"
   ]
  },
  {
   "cell_type": "code",
   "execution_count": null,
   "id": "chronic-radiation",
   "metadata": {
    "colab": {
     "base_uri": "https://localhost:8080/"
    },
    "id": "FOfEWXXYSRd9",
    "outputId": "72b65f03-fab6-4ab0-8e53-93b91d2d5e26"
   },
   "outputs": [
    {
     "name": "stderr",
     "output_type": "stream",
     "text": [
      "100%|██████████| 10000/10000 [00:09<00:00, 1047.18it/s]\n"
     ]
    }
   ],
   "source": [
    "f = open('text.txt', 'w')\n",
    "values, errors = complex_experiment(10000, 100)\n",
    "f.write(str(values)+'\\n')\n",
    "f.write(str(errors))\n",
    "f.close()"
   ]
  },
  {
   "cell_type": "code",
   "execution_count": 47,
   "id": "completed-textbook",
   "metadata": {},
   "outputs": [],
   "source": [
    "y_100, dy_100 = np.array([0.06784209, 0.33472285, 0.35761886, 0.2398162 ]), np.array([0.03329051, 0.08660281, 0.06659357, 0.09192897])\n",
    "y_200, dy_200 = np.array([0.05252419, 0.29084858, 0.35422398, 0.30240324]), np.array([0.02219834, 0.07080206, 0.05464862, 0.08984867])\n",
    "y_500, dy_500 = np.array([0.03945975, 0.24373265, 0.33940513, 0.37740246]), np.array([0.01402355, 0.0539927 , 0.04393788, 0.08208375])\n",
    "y_750, dy_750 = np.array([0.03568031, 0.22677461, 0.33144464, 0.40610044]), np.array([0.01157634, 0.04805729, 0.04056382, 0.07818883])\n",
    "y_1000, dy_1000 = np.array([0.03326473, 0.21687621, 0.3263666 , 0.42349246]), np.array([0.01010491, 0.04449639, 0.03842001, 0.07505321])\n",
    "y_2000, dy_2000 = np.array([0.02878497, 0.19461286, 0.31191969, 0.46468249]), np.array([0.007529  , 0.0360762 , 0.03342942, 0.06610401])"
   ]
  },
  {
   "cell_type": "code",
   "execution_count": 51,
   "id": "private-monday",
   "metadata": {},
   "outputs": [],
   "source": [
    "y = np.array([y_100, y_200, y_500, y_750, y_1000, y_2000])\n",
    "dy = np.array([dy_100, dy_200,dy_500, dy_750, dy_1000, dy_2000])\n",
    "x = 1/np.array([100, 200, 500, 750, 1000, 2000])"
   ]
  },
  {
   "cell_type": "code",
   "execution_count": 66,
   "id": "painted-hampton",
   "metadata": {},
   "outputs": [
    {
     "data": {
      "image/png": "[encoded data removed]",
      "text/plain": [
       "<Figure size 936x1440 with 4 Axes>"
      ]
     },
     "metadata": {
      "needs_background": "light"
     },
     "output_type": "display_data"
    }
   ],
   "source": [
    "fig, ax = plt.subplots(4,1, figsize=(13,20))\n",
    "for i in range(4):\n",
    "    ax[i].errorbar(x, y[:,i], dy[:,i], fmt='o--')\n",
    "    ax[i].set_ylabel(fr'$\\langle n_{i+1} \\rangle$', fontsize=20)\n",
    "ax[-1].set_xlabel('1/N', fontsize=20)\n",
    "plt.savefig(DIR / 'Images' / 'Rand_Path_N1-4.png')"
   ]
  },
  {
   "cell_type": "code",
   "execution_count": null,
   "id": "finished-providence",
   "metadata": {},
   "outputs": [],
   "source": []
  }
 ],
 "metadata": {
  "colab": {
   "collapsed_sections": [],
   "name": "Drunken_Sailor.ipynb",
   "provenance": []
  },
  "kernelspec": {
   "display_name": "Python 3",
   "language": "python",
   "name": "python3"
  },
  "language_info": {
   "codemirror_mode": {
    "name": "ipython",
    "version": 3
   },
   "file_extension": ".py",
   "mimetype": "text/x-python",
   "name": "python",
   "nbconvert_exporter": "python",
   "pygments_lexer": "ipython3",
   "version": "3.8.5"
  }
 },
 "nbformat": 4,
 "nbformat_minor": 5
}
