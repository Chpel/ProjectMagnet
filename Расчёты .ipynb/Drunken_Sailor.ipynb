{
 "cells": [
  {
   "cell_type": "code",
   "execution_count": 1,
   "id": "artificial-wiring",
   "metadata": {
    "id": "reflected-belly"
   },
   "outputs": [],
   "source": [
    "import numpy as np\n",
    "import pandas as pd\n",
    "import matplotlib.pyplot as plt\n",
    "from pathlib import Path"
   ]
  },
  {
   "cell_type": "markdown",
   "id": "proud-palmer",
   "metadata": {
    "id": "conceptual-quantum"
   },
   "source": [
    "# Прототип генерации блуждания и подсчёта соседей по нему"
   ]
  },
  {
   "cell_type": "code",
   "execution_count": null,
   "id": "comparable-training",
   "metadata": {
    "id": "brutal-rocket",
    "outputId": "43f35c04-c85b-4c43-c638-cda11eb7ef07"
   },
   "outputs": [
    {
     "data": {
      "text/plain": [
       "array([2, 2, 2, 1, 3, 3, 2, 1, 2, 0])"
      ]
     },
     "execution_count": 4,
     "metadata": {},
     "output_type": "execute_result"
    }
   ],
   "source": [
    "np.random.randint(0,4, size=10)"
   ]
  },
  {
   "cell_type": "markdown",
   "id": "painful-pitch",
   "metadata": {
    "id": "fifteen-james"
   },
   "source": [
    "Основные константы - начальная точка и шаги блуждания"
   ]
  },
  {
   "cell_type": "code",
   "execution_count": null,
   "id": "academic-newcastle",
   "metadata": {
    "id": "parliamentary-reach"
   },
   "outputs": [],
   "source": [
    "x0 = np.array([0,0])\n",
    "steps = np.array([[1,0],[-1,0],[0,1],[0,-1]])"
   ]
  },
  {
   "cell_type": "markdown",
   "id": "frozen-bronze",
   "metadata": {
    "id": "indonesian-quarterly"
   },
   "source": [
    "Генерация блужданий и определение уникальных узлов"
   ]
  },
  {
   "cell_type": "code",
   "execution_count": null,
   "id": "analyzed-galaxy",
   "metadata": {
    "id": "enclosed-treat"
   },
   "outputs": [],
   "source": [
    "N=100\n",
    "walk_directions = np.random.randint(0,4, size=N)\n",
    "walk_dots = np.zeros((N, 2), dtype=np.int16)\n",
    "walk_dots[0] = x0\n",
    "\n",
    "for i in range(1,N):\n",
    "    walk_dots[i] = walk_dots[i-1] + steps[walk_directions[i]]\n",
    "\n",
    "walk_dots_new = np.unique(walk_dots, axis=0)\n",
    "N_new = len(walk_dots_new)"
   ]
  },
  {
   "cell_type": "code",
   "execution_count": null,
   "id": "commercial-israeli",
   "metadata": {
    "id": "experienced-sacrifice",
    "outputId": "25ceba78-28e1-42eb-d9a8-a9fad5417524"
   },
   "outputs": [
    {
     "data": {
      "text/plain": [
       "<matplotlib.collections.PathCollection at 0x1dc176ce8b0>"
      ]
     },
     "execution_count": 26,
     "metadata": {},
     "output_type": "execute_result"
    },
    {
     "data": {
      "image/png": "[encoded data removed]",
      "text/plain": [
       "<Figure size 432x288 with 1 Axes>"
      ]
     },
     "metadata": {
      "needs_background": "light"
     },
     "output_type": "display_data"
    }
   ],
   "source": [
    "plt.plot(walk_dots[:,0], walk_dots[:,1])\n",
    "plt.scatter(walk_dots[(0,-1),0], walk_dots[(0, -1),1])"
   ]
  },
  {
   "cell_type": "code",
   "execution_count": null,
   "id": "japanese-benefit",
   "metadata": {
    "id": "japanese-direction",
    "outputId": "5ea79554-5f3f-4c23-ab95-3a8922692c0f"
   },
   "outputs": [
    {
     "data": {
      "text/plain": [
       "<matplotlib.collections.PathCollection at 0x1dc1778c3a0>"
      ]
     },
     "execution_count": 28,
     "metadata": {},
     "output_type": "execute_result"
    },
    {
     "data": {
      "image/png": "[encoded data removed]",
      "text/plain": [
       "<Figure size 432x288 with 1 Axes>"
      ]
     },
     "metadata": {
      "needs_background": "light"
     },
     "output_type": "display_data"
    }
   ],
   "source": [
    "plt.scatter(walk_dots_new[:,0], walk_dots_new[:,1])"
   ]
  },
  {
   "cell_type": "markdown",
   "id": "theoretical-washington",
   "metadata": {
    "id": "established-calibration"
   },
   "source": [
    "Подсчёт соседей среди уникальных узлов"
   ]
  },
  {
   "cell_type": "code",
   "execution_count": null,
   "id": "billion-enzyme",
   "metadata": {
    "id": "unknown-sport"
   },
   "outputs": [],
   "source": [
    "walk_neighbors = np.zeros((N_new,), dtype=np.int8)\n",
    "for i in range(N_new):\n",
    "    for step in steps:\n",
    "        potential_n = walk_dots_new[i] + step\n",
    "        for j in range(N_new):\n",
    "            if (walk_dots_new[j] == potential_n).all():\n",
    "                walk_neighbors[i] += 1\n",
    "                break"
   ]
  },
  {
   "cell_type": "code",
   "execution_count": null,
   "id": "iraqi-malawi",
   "metadata": {
    "id": "fitting-harassment",
    "outputId": "0fabd344-396f-460d-f340-1abc751fda26"
   },
   "outputs": [
    {
     "data": {
      "text/plain": [
       "array([1, 1, 1, 3, 3, 4, 2, 4, 1, 3, 3, 2, 1, 2, 3, 3, 1, 2, 3, 4, 3, 2,\n",
       "       4, 4, 3, 2, 4, 4, 3, 2, 3, 4, 4, 4, 2, 2, 4, 3, 4, 3, 2, 3, 2, 3,\n",
       "       3, 2, 2, 3, 1], dtype=int8)"
      ]
     },
     "execution_count": 39,
     "metadata": {},
     "output_type": "execute_result"
    }
   ],
   "source": [
    "walk_neighbors"
   ]
  },
  {
   "cell_type": "code",
   "execution_count": null,
   "id": "heavy-princeton",
   "metadata": {
    "id": "hearing-institution",
    "outputId": "bf6f7971-c6f1-42bf-a102-47e5e9a4b967"
   },
   "outputs": [
    {
     "data": {
      "text/plain": [
       "array([[0.14285714, 0.26530612, 0.34693878, 0.24489796]])"
      ]
     },
     "execution_count": 47,
     "metadata": {},
     "output_type": "execute_result"
    }
   ],
   "source": [
    "neigh_fract = np.zeros((1,4), dtype=np.float)\n",
    "for i in range(1,4+1):\n",
    "    neigh_fract[0][i-1] = (walk_neighbors == i).sum()\n",
    "neigh_fract / N_new"
   ]
  },
  {
   "cell_type": "markdown",
   "id": "subjective-avenue",
   "metadata": {
    "id": "signed-conservation"
   },
   "source": [
    "# Распараллеленный алгоритм"
   ]
  },
  {
   "cell_type": "code",
   "execution_count": null,
   "id": "applied-danish",
   "metadata": {
    "id": "powerful-transportation"
   },
   "outputs": [],
   "source": [
    "from numba import njit, jit\n",
    "from tqdm import trange\n",
    "\n",
    "@jit\n",
    "def experiment(N: int):\n",
    "    x0 = np.array([0,0])\n",
    "    steps = np.array([[1,0],[-1,0],[0,1],[0,-1]])\n",
    "    walk_directions = np.random.randint(0,4, size=N)\n",
    "    walk_dots = np.zeros((N, 2), dtype=np.int16)\n",
    "    walk_dots[0] = x0\n",
    "    for i in range(1,N):\n",
    "        walk_dots[i] = walk_dots[i-1] + steps[walk_directions[i]]\n",
    "        \n",
    "    walk_dots_new = np.unique(walk_dots, axis=0)\n",
    "    N_new = len(walk_dots_new)\n",
    "    walk_neighbors = np.zeros((N_new,), dtype=np.int8)\n",
    "    \n",
    "    for i in range(N_new):\n",
    "        for step in steps:\n",
    "            potential_n = walk_dots_new[i] + step\n",
    "            for j in range(N_new):\n",
    "                if (walk_dots_new[j] == potential_n).all():\n",
    "                    walk_neighbors[i] += 1\n",
    "                    break    \n",
    "    \n",
    "    neigh_fract_0 = np.zeros((4,), dtype=float)\n",
    "    for i in range(1,4+1):\n",
    "        neigh_fract_0[i-1] = (walk_neighbors == i).sum()\n",
    "    return neigh_fract_0 / N_new\n",
    "\n",
    "def complex_experiment(K, N):\n",
    "    neigh_fract = np.zeros((K,4), dtype=float)\n",
    "    for i in trange(K):\n",
    "        neigh_fract[i] = experiment(N)\n",
    "    return neigh_fract.mean(axis=0), neigh_fract.std(axis=0)"
   ]
  },
  {
   "cell_type": "code",
   "execution_count": null,
   "id": "purple-scientist",
   "metadata": {
    "colab": {
     "base_uri": "https://localhost:8080/"
    },
    "id": "gross-topic",
    "outputId": "3c145025-9c7a-4243-ba87-82c7a4f50c8e"
   },
   "outputs": [
    {
     "name": "stderr",
     "output_type": "stream",
     "text": [
      "100%|██████████| 10/10 [00:01<00:00,  8.12it/s]"
     ]
    },
    {
     "name": "stdout",
     "output_type": "stream",
     "text": [
      "\n",
      " [0.03908428 0.22713298 0.32627724 0.4075055 ] [0.01144989 0.03751134 0.02890285 0.05406275]\n",
      "CPU times: user 907 ms, sys: 12.6 ms, total: 920 ms\n",
      "Wall time: 1.25 s\n"
     ]
    },
    {
     "name": "stderr",
     "output_type": "stream",
     "text": [
      "\n"
     ]
    }
   ],
   "source": [
    "%%time \n",
    "\n",
    "print('\\n',*complex_experiment(10, 1000))"
   ]
  },
  {
   "cell_type": "code",
   "execution_count": null,
   "id": "funny-julian",
   "metadata": {
    "colab": {
     "base_uri": "https://localhost:8080/"
    },
    "id": "alone-professor",
    "outputId": "94bbdf08-4921-4532-ef68-01af7eccba31"
   },
   "outputs": [
    {
     "name": "stderr",
     "output_type": "stream",
     "text": [
      "100%|██████████| 10000/10000 [00:12<00:00, 784.47it/s]\n"
     ]
    },
    {
     "name": "stdout",
     "output_type": "stream",
     "text": [
      "100 (array([0.06784209, 0.33472285, 0.35761886, 0.2398162 ]), array([0.03329051, 0.08660281, 0.06659357, 0.09192897]))\n"
     ]
    },
    {
     "name": "stderr",
     "output_type": "stream",
     "text": [
      "100%|██████████| 10000/10000 [00:30<00:00, 323.09it/s]\n"
     ]
    },
    {
     "name": "stdout",
     "output_type": "stream",
     "text": [
      "200 (array([0.05252419, 0.29084858, 0.35422398, 0.30240324]), array([0.02219834, 0.07080206, 0.05464862, 0.08984867]))\n"
     ]
    },
    {
     "name": "stderr",
     "output_type": "stream",
     "text": [
      "100%|██████████| 10000/10000 [01:58<00:00, 84.62it/s]\n"
     ]
    },
    {
     "name": "stdout",
     "output_type": "stream",
     "text": [
      "500 (array([0.03945975, 0.24373265, 0.33940513, 0.37740246]), array([0.01402355, 0.0539927 , 0.04393788, 0.08208375]))\n"
     ]
    },
    {
     "name": "stderr",
     "output_type": "stream",
     "text": [
      "100%|██████████| 10000/10000 [03:32<00:00, 47.12it/s]\n"
     ]
    },
    {
     "name": "stdout",
     "output_type": "stream",
     "text": [
      "750 (array([0.03568031, 0.22677461, 0.33144464, 0.40610044]), array([0.01157634, 0.04805729, 0.04056382, 0.07818883]))\n"
     ]
    },
    {
     "name": "stderr",
     "output_type": "stream",
     "text": [
      "100%|██████████| 10000/10000 [05:32<00:00, 30.11it/s]\n"
     ]
    },
    {
     "name": "stdout",
     "output_type": "stream",
     "text": [
      "1000 (array([0.03326473, 0.21687621, 0.3263666 , 0.42349246]), array([0.01010491, 0.04449639, 0.03842001, 0.07505321]))\n"
     ]
    },
    {
     "name": "stderr",
     "output_type": "stream",
     "text": [
      "100%|██████████| 10000/10000 [16:59<00:00,  9.81it/s]"
     ]
    },
    {
     "name": "stdout",
     "output_type": "stream",
     "text": [
      "2000 (array([0.02878497, 0.19461286, 0.31191969, 0.46468249]), array([0.007529  , 0.0360762 , 0.03342942, 0.06610401]))\n"
     ]
    },
    {
     "name": "stderr",
     "output_type": "stream",
     "text": [
      "\n"
     ]
    }
   ],
   "source": [
    "for N in [100, 200, 500, 750, 1000, 2000]:\n",
    "    print(N, complex_experiment(10000, N))"
   ]
  },
  {
   "cell_type": "code",
   "execution_count": null,
   "id": "variable-memphis",
   "metadata": {
    "colab": {
     "base_uri": "https://localhost:8080/"
    },
    "id": "ZFE4hVHPdLze",
    "outputId": "7dacafd9-33ad-4ca0-bf54-99f0bbdc94dc"
   },
   "outputs": [
    {
     "name": "stderr",
     "output_type": "stream",
     "text": [
      "100%|██████████| 10000/10000 [05:11<00:00, 32.10it/s]\n"
     ]
    },
    {
     "data": {
      "text/plain": [
       "array([0.0332595 , 0.21601091, 0.32574161, 0.42498798])"
      ]
     },
     "execution_count": 20,
     "metadata": {},
     "output_type": "execute_result"
    }
   ],
   "source": [
    "complex_experiment(10000, 10000)"
   ]
  },
  {
   "cell_type": "code",
   "execution_count": null,
   "id": "adjacent-nickel",
   "metadata": {
    "colab": {
     "base_uri": "https://localhost:8080/"
    },
    "id": "FOfEWXXYSRd9",
    "outputId": "72b65f03-fab6-4ab0-8e53-93b91d2d5e26"
   },
   "outputs": [
    {
     "name": "stderr",
     "output_type": "stream",
     "text": [
      "100%|██████████| 10000/10000 [00:09<00:00, 1047.18it/s]\n"
     ]
    }
   ],
   "source": [
    "f = open('text.txt', 'w')\n",
    "values, errors = complex_experiment(10000, 100)\n",
    "f.write(str(values)+'\\n')\n",
    "f.write(str(errors))\n",
    "f.close()"
   ]
  },
  {
   "cell_type": "markdown",
   "id": "understanding-moldova",
   "metadata": {},
   "source": [
    "# Обработка данных"
   ]
  },
  {
   "cell_type": "code",
   "execution_count": 22,
   "id": "exempt-roommate",
   "metadata": {},
   "outputs": [
    {
     "data": {
      "text/html": [
       "<div>\n",
       "<style scoped>\n",
       "    .dataframe tbody tr th:only-of-type {\n",
       "        vertical-align: middle;\n",
       "    }\n",
       "\n",
       "    .dataframe tbody tr th {\n",
       "        vertical-align: top;\n",
       "    }\n",
       "\n",
       "    .dataframe thead th {\n",
       "        text-align: right;\n",
       "    }\n",
       "</style>\n",
       "<table border=\"1\" class=\"dataframe\">\n",
       "  <thead>\n",
       "    <tr style=\"text-align: right;\">\n",
       "      <th></th>\n",
       "      <th>N</th>\n",
       "      <th>n1_mean</th>\n",
       "      <th>n2_mean</th>\n",
       "      <th>n3_mean</th>\n",
       "      <th>n4_mean</th>\n",
       "      <th>uni_mean</th>\n",
       "      <th>n1_std</th>\n",
       "      <th>n2_std</th>\n",
       "      <th>n3_std</th>\n",
       "      <th>n4_std</th>\n",
       "      <th>uni_std</th>\n",
       "      <th>steps</th>\n",
       "    </tr>\n",
       "  </thead>\n",
       "  <tbody>\n",
       "    <tr>\n",
       "      <th>0</th>\n",
       "      <td>100</td>\n",
       "      <td>0.067665</td>\n",
       "      <td>0.335235</td>\n",
       "      <td>0.357256</td>\n",
       "      <td>0.239844</td>\n",
       "      <td>0.490890</td>\n",
       "      <td>0.033152</td>\n",
       "      <td>0.087316</td>\n",
       "      <td>0.066924</td>\n",
       "      <td>0.092123</td>\n",
       "      <td>0.082536</td>\n",
       "      <td>8472000</td>\n",
       "    </tr>\n",
       "    <tr>\n",
       "      <th>1</th>\n",
       "      <td>200</td>\n",
       "      <td>0.052231</td>\n",
       "      <td>0.290401</td>\n",
       "      <td>0.353731</td>\n",
       "      <td>0.303637</td>\n",
       "      <td>0.444336</td>\n",
       "      <td>0.022443</td>\n",
       "      <td>0.070376</td>\n",
       "      <td>0.054525</td>\n",
       "      <td>0.089505</td>\n",
       "      <td>0.069596</td>\n",
       "      <td>8426000</td>\n",
       "    </tr>\n",
       "    <tr>\n",
       "      <th>2</th>\n",
       "      <td>500</td>\n",
       "      <td>0.039595</td>\n",
       "      <td>0.244218</td>\n",
       "      <td>0.339652</td>\n",
       "      <td>0.376534</td>\n",
       "      <td>0.394385</td>\n",
       "      <td>0.013961</td>\n",
       "      <td>0.053665</td>\n",
       "      <td>0.043817</td>\n",
       "      <td>0.081703</td>\n",
       "      <td>0.056279</td>\n",
       "      <td>7992000</td>\n",
       "    </tr>\n",
       "    <tr>\n",
       "      <th>3</th>\n",
       "      <td>1000</td>\n",
       "      <td>0.033331</td>\n",
       "      <td>0.216908</td>\n",
       "      <td>0.326059</td>\n",
       "      <td>0.423702</td>\n",
       "      <td>0.363246</td>\n",
       "      <td>0.010103</td>\n",
       "      <td>0.044156</td>\n",
       "      <td>0.038171</td>\n",
       "      <td>0.074483</td>\n",
       "      <td>0.048394</td>\n",
       "      <td>6846000</td>\n",
       "    </tr>\n",
       "    <tr>\n",
       "      <th>4</th>\n",
       "      <td>2500</td>\n",
       "      <td>0.027529</td>\n",
       "      <td>0.188264</td>\n",
       "      <td>0.307217</td>\n",
       "      <td>0.476990</td>\n",
       "      <td>0.328812</td>\n",
       "      <td>0.006911</td>\n",
       "      <td>0.034551</td>\n",
       "      <td>0.032531</td>\n",
       "      <td>0.064819</td>\n",
       "      <td>0.040148</td>\n",
       "      <td>3430000</td>\n",
       "    </tr>\n",
       "    <tr>\n",
       "      <th>5</th>\n",
       "      <td>5000</td>\n",
       "      <td>0.024317</td>\n",
       "      <td>0.170852</td>\n",
       "      <td>0.293229</td>\n",
       "      <td>0.511602</td>\n",
       "      <td>0.306759</td>\n",
       "      <td>0.005370</td>\n",
       "      <td>0.029042</td>\n",
       "      <td>0.029183</td>\n",
       "      <td>0.058075</td>\n",
       "      <td>0.035205</td>\n",
       "      <td>1180000</td>\n",
       "    </tr>\n",
       "    <tr>\n",
       "      <th>6</th>\n",
       "      <td>10000</td>\n",
       "      <td>0.021778</td>\n",
       "      <td>0.156195</td>\n",
       "      <td>0.279780</td>\n",
       "      <td>0.542247</td>\n",
       "      <td>0.287379</td>\n",
       "      <td>0.004272</td>\n",
       "      <td>0.024617</td>\n",
       "      <td>0.026400</td>\n",
       "      <td>0.051970</td>\n",
       "      <td>0.031147</td>\n",
       "      <td>343000</td>\n",
       "    </tr>\n",
       "  </tbody>\n",
       "</table>\n",
       "</div>"
      ],
      "text/plain": [
       "       N   n1_mean   n2_mean   n3_mean   n4_mean  uni_mean    n1_std  \\\n",
       "0    100  0.067665  0.335235  0.357256  0.239844  0.490890  0.033152   \n",
       "1    200  0.052231  0.290401  0.353731  0.303637  0.444336  0.022443   \n",
       "2    500  0.039595  0.244218  0.339652  0.376534  0.394385  0.013961   \n",
       "3   1000  0.033331  0.216908  0.326059  0.423702  0.363246  0.010103   \n",
       "4   2500  0.027529  0.188264  0.307217  0.476990  0.328812  0.006911   \n",
       "5   5000  0.024317  0.170852  0.293229  0.511602  0.306759  0.005370   \n",
       "6  10000  0.021778  0.156195  0.279780  0.542247  0.287379  0.004272   \n",
       "\n",
       "     n2_std    n3_std    n4_std   uni_std    steps  \n",
       "0  0.087316  0.066924  0.092123  0.082536  8472000  \n",
       "1  0.070376  0.054525  0.089505  0.069596  8426000  \n",
       "2  0.053665  0.043817  0.081703  0.056279  7992000  \n",
       "3  0.044156  0.038171  0.074483  0.048394  6846000  \n",
       "4  0.034551  0.032531  0.064819  0.040148  3430000  \n",
       "5  0.029042  0.029183  0.058075  0.035205  1180000  \n",
       "6  0.024617  0.026400  0.051970  0.031147   343000  "
      ]
     },
     "execution_count": 22,
     "metadata": {},
     "output_type": "execute_result"
    }
   ],
   "source": [
    "DIR = Path.cwd().parent / 'Simulation Results' / 'Geo_Rand_Walk_2D'\n",
    "files = list(DIR.glob('*.*'))\n",
    "df = np.array([np.loadtxt(files[0], skiprows=1)])\n",
    "for f in files[1:]:\n",
    "    df_0 = np.loadtxt(f, skiprows=1)\n",
    "    df = np.append(df, [df_0], axis=0)\n",
    "df = df[np.argsort(df[:,0])]\n",
    "\n",
    "f = open(files[1], 'r')\n",
    "for line in f:\n",
    "    s = line.split()\n",
    "    break\n",
    "    \n",
    "data = pd.DataFrame(df, columns=s)\n",
    "data['N'] = data['N'].apply(lambda x: int(x))\n",
    "data['steps'] = data['steps'].apply(lambda x: int(x))\n",
    "data"
   ]
  },
  {
   "cell_type": "code",
   "execution_count": 6,
   "id": "revolutionary-funeral",
   "metadata": {},
   "outputs": [
    {
     "data": {
      "image/png": "[encoded data removed]",
      "text/plain": [
       "<Figure size 936x1440 with 5 Axes>"
      ]
     },
     "metadata": {
      "needs_background": "light"
     },
     "output_type": "display_data"
    }
   ],
   "source": [
    "fig, ax = plt.subplots(5,1, figsize=(13,20))\n",
    "x = 1/df[:,0]\n",
    "for i in range(5):\n",
    "    y = df[:,i+1]\n",
    "    dy = df[:,5+i+1]\n",
    "    ax[i].errorbar(x, y, dy, fmt='o--')\n",
    "    if i < 4:\n",
    "        ax[i].set_ylabel(fr'$\\langle n_{i+1} \\rangle$', fontsize=20)\n",
    "    else:\n",
    "        ax[i].set_ylabel(r'$\\langle n_{unique} \\rangle$', fontsize=20)\n",
    "ax[-1].set_xlabel('1/N', fontsize=20)\n",
    "plt.savefig(Path.cwd() / 'Images' / 'Rand_Path_N1-4_unique.png')"
   ]
  },
  {
   "cell_type": "code",
   "execution_count": null,
   "id": "genuine-andorra",
   "metadata": {},
   "outputs": [],
   "source": []
  }
 ],
 "metadata": {
  "colab": {
   "collapsed_sections": [],
   "name": "Drunken_Sailor.ipynb",
   "provenance": []
  },
  "kernelspec": {
   "display_name": "Python 3",
   "language": "python",
   "name": "python3"
  },
  "language_info": {
   "codemirror_mode": {
    "name": "ipython",
    "version": 3
   },
   "file_extension": ".py",
   "mimetype": "text/x-python",
   "name": "python",
   "nbconvert_exporter": "python",
   "pygments_lexer": "ipython3",
   "version": "3.8.5"
  }
 },
 "nbformat": 4,
 "nbformat_minor": 5
}
