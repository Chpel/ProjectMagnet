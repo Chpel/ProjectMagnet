{
 "cells": [
  {
   "cell_type": "code",
   "execution_count": 1,
   "id": "recognized-logan",
   "metadata": {},
   "outputs": [],
   "source": [
    "import numpy as np\n",
    "from sympy import *"
   ]
  },
  {
   "cell_type": "markdown",
   "id": "underlying-description",
   "metadata": {},
   "source": [
    "# Теор. подсчёт"
   ]
  },
  {
   "cell_type": "code",
   "execution_count": 2,
   "id": "polish-philadelphia",
   "metadata": {},
   "outputs": [],
   "source": [
    "p = np.pi"
   ]
  },
  {
   "cell_type": "code",
   "execution_count": 3,
   "id": "serial-observation",
   "metadata": {},
   "outputs": [],
   "source": [
    "A = np.array([[0, 1, 4 - 8/p, 4/p, 4/p],\n",
    "              [1, 0,       1,   1,   1],\n",
    "              [4 - 8/p, 1, 0, 4/p, 4/p],\n",
    "              [4/p, 1, 4/p, 0, 4 - 8/p],\n",
    "              [4/p, 1, 4/p, 4 - 8/p, 0]])"
   ]
  },
  {
   "cell_type": "code",
   "execution_count": 4,
   "id": "circular-declaration",
   "metadata": {},
   "outputs": [
    {
     "data": {
      "text/latex": [
       "$\\displaystyle \\left[\\begin{matrix}0 & 1.0 & 1.45352091052967 & 1.27323954473516 & 1.27323954473516\\\\1.0 & 0 & 1.0 & 1.0 & 1.0\\\\1.45352091052967 & 1.0 & 0 & 1.27323954473516 & 1.27323954473516\\\\1.27323954473516 & 1.0 & 1.27323954473516 & 0 & 1.45352091052967\\\\1.27323954473516 & 1.0 & 1.27323954473516 & 1.45352091052967 & 0\\end{matrix}\\right]$"
      ],
      "text/plain": [
       "Matrix([\n",
       "[               0, 1.0, 1.45352091052967, 1.27323954473516, 1.27323954473516],\n",
       "[             1.0,   0,              1.0,              1.0,              1.0],\n",
       "[1.45352091052967, 1.0,                0, 1.27323954473516, 1.27323954473516],\n",
       "[1.27323954473516, 1.0, 1.27323954473516,                0, 1.45352091052967],\n",
       "[1.27323954473516, 1.0, 1.27323954473516, 1.45352091052967,                0]])"
      ]
     },
     "execution_count": 4,
     "metadata": {},
     "output_type": "execute_result"
    }
   ],
   "source": [
    "Matrix(A)"
   ]
  },
  {
   "cell_type": "code",
   "execution_count": 5,
   "id": "fancy-wilderness",
   "metadata": {},
   "outputs": [
    {
     "data": {
      "text/latex": [
       "$\\displaystyle \\left[\\begin{matrix}-0.572729322130857 & 0.25 & 0.115255276340171 & 0.228737022895343 & 0.228737022895343\\\\0.25 & -1.0 & 0.25 & 0.25 & 0.25\\\\0.115255276340171 & 0.25 & -0.572729322130856 & 0.228737022895343 & 0.228737022895343\\\\0.228737022895343 & 0.25 & 0.228737022895343 & -0.572729322130856 & 0.115255276340171\\\\0.228737022895343 & 0.25 & 0.228737022895343 & 0.115255276340171 & -0.572729322130857\\end{matrix}\\right]$"
      ],
      "text/plain": [
       "Matrix([\n",
       "[-0.572729322130857, 0.25,  0.115255276340171,  0.228737022895343,  0.228737022895343],\n",
       "[              0.25, -1.0,               0.25,               0.25,               0.25],\n",
       "[ 0.115255276340171, 0.25, -0.572729322130856,  0.228737022895343,  0.228737022895343],\n",
       "[ 0.228737022895343, 0.25,  0.228737022895343, -0.572729322130856,  0.115255276340171],\n",
       "[ 0.228737022895343, 0.25,  0.228737022895343,  0.115255276340171, -0.572729322130857]])"
      ]
     },
     "execution_count": 5,
     "metadata": {},
     "output_type": "execute_result"
    }
   ],
   "source": [
    "Kb = np.linalg.inv(A)\n",
    "Matrix(Kb)"
   ]
  },
  {
   "cell_type": "code",
   "execution_count": 6,
   "id": "broadband-blake",
   "metadata": {},
   "outputs": [
    {
     "data": {
      "text/latex": [
       "$\\displaystyle \\left[\\begin{matrix}0.25\\\\0\\\\0.25\\\\0.25\\\\0.25\\end{matrix}\\right]$"
      ],
      "text/plain": [
       "Matrix([\n",
       "[0.25],\n",
       "[   0],\n",
       "[0.25],\n",
       "[0.25],\n",
       "[0.25]])"
      ]
     },
     "execution_count": 6,
     "metadata": {},
     "output_type": "execute_result"
    }
   ],
   "source": [
    "Kb_dx = Kb.sum(axis=0)\n",
    "Matrix(Kb_dx)"
   ]
  },
  {
   "cell_type": "code",
   "execution_count": 7,
   "id": "intellectual-prior",
   "metadata": {},
   "outputs": [
    {
     "data": {
      "text/plain": [
       "1.0000000000000004"
      ]
     },
     "execution_count": 7,
     "metadata": {},
     "output_type": "execute_result"
    }
   ],
   "source": [
    "Kb_dd = Kb.sum()\n",
    "Kb_dd"
   ]
  },
  {
   "cell_type": "code",
   "execution_count": 8,
   "id": "historic-board",
   "metadata": {},
   "outputs": [
    {
     "data": {
      "text/latex": [
       "$\\displaystyle \\left[\\begin{matrix}0.25\\\\0\\\\0.25\\\\0.25\\\\0.25\\end{matrix}\\right]$"
      ],
      "text/plain": [
       "Matrix([\n",
       "[0.25],\n",
       "[   0],\n",
       "[0.25],\n",
       "[0.25],\n",
       "[0.25]])"
      ]
     },
     "execution_count": 8,
     "metadata": {},
     "output_type": "execute_result"
    }
   ],
   "source": [
    "H_inf = Kb_dx / Kb_dd\n",
    "Matrix(H_inf)"
   ]
  },
  {
   "cell_type": "code",
   "execution_count": 9,
   "id": "ordinary-prediction",
   "metadata": {},
   "outputs": [
    {
     "data": {
      "text/latex": [
       "$\\displaystyle \\left[\\begin{matrix}0.177270677869144 & 1.11022302462516 \\cdot 10^{-16} & -0.134744723659829 & -0.021262977104657 & -0.021262977104657\\\\1.11022302462516 \\cdot 10^{-16} & -0.25 & 1.11022302462516 \\cdot 10^{-16} & 8.32667268468867 \\cdot 10^{-17} & 2.22044604925031 \\cdot 10^{-16}\\\\-0.134744723659829 & 1.11022302462516 \\cdot 10^{-16} & 0.177270677869144 & -0.021262977104657 & -0.021262977104657\\\\-0.021262977104657 & 1.11022302462516 \\cdot 10^{-16} & -0.021262977104657 & 0.177270677869144 & -0.134744723659829\\\\-0.021262977104657 & 1.11022302462516 \\cdot 10^{-16} & -0.021262977104657 & -0.134744723659829 & 0.177270677869144\\end{matrix}\\right]$"
      ],
      "text/plain": [
       "Matrix([\n",
       "[   0.177270677869144, 1.11022302462516e-16,   -0.134744723659829,   -0.021262977104657,   -0.021262977104657],\n",
       "[1.11022302462516e-16,                -0.25, 1.11022302462516e-16, 8.32667268468867e-17, 2.22044604925031e-16],\n",
       "[  -0.134744723659829, 1.11022302462516e-16,    0.177270677869144,   -0.021262977104657,   -0.021262977104657],\n",
       "[  -0.021262977104657, 1.11022302462516e-16,   -0.021262977104657,    0.177270677869144,   -0.134744723659829],\n",
       "[  -0.021262977104657, 1.11022302462516e-16,   -0.021262977104657,   -0.134744723659829,    0.177270677869144]])"
      ]
     },
     "execution_count": 9,
     "metadata": {},
     "output_type": "execute_result"
    }
   ],
   "source": [
    "Pb = Kb - Kb.sum(axis=1) @ Kb.sum(axis=0) / Kb_dd + np.eye(5)\n",
    "Matrix(Pb)"
   ]
  },
  {
   "cell_type": "code",
   "execution_count": 10,
   "id": "taken-pencil",
   "metadata": {},
   "outputs": [
    {
     "data": {
      "text/plain": [
       "1"
      ]
     },
     "execution_count": 10,
     "metadata": {},
     "output_type": "execute_result"
    }
   ],
   "source": [
    "1 + (1!=1)"
   ]
  },
  {
   "cell_type": "code",
   "execution_count": 11,
   "id": "common-abraham",
   "metadata": {},
   "outputs": [
    {
     "data": {
      "text/plain": [
       "array([2.50000000e-01, 1.11022302e-16, 2.50000000e-01, 2.50000000e-01,\n",
       "       2.50000000e-01])"
      ]
     },
     "execution_count": 11,
     "metadata": {},
     "output_type": "execute_result"
    }
   ],
   "source": [
    "Kb.sum(axis=1)"
   ]
  },
  {
   "cell_type": "code",
   "execution_count": 12,
   "id": "spread-parameter",
   "metadata": {},
   "outputs": [],
   "source": [
    "def P_b(x,y):\n",
    "    d = {'-1': 0, '0': 1, '1':2, 'i': 3, '-i': 4}\n",
    "    i, j = d[x], d[y]\n",
    "    return Kb[i,j] - Kb[i,:].sum() * Kb[:,j].sum() / Kb_dd + (i == j)"
   ]
  },
  {
   "cell_type": "code",
   "execution_count": 13,
   "id": "uniform-party",
   "metadata": {},
   "outputs": [
    {
     "data": {
      "text/latex": [
       "$\\displaystyle \\left[\\begin{matrix}0.364770677869144 & 0.25 & 0.0527552763401708 & 0.166237022895343 & 0.166237022895343\\\\0.25 & 0 & 0.25 & 0.25 & 0.25\\\\0.0527552763401707 & 0.25 & 0.364770677869144 & 0.166237022895343 & 0.166237022895343\\\\0.166237022895343 & 0.25 & 0.166237022895343 & 0.364770677869144 & 0.0527552763401707\\\\0.166237022895343 & 0.25 & 0.166237022895343 & 0.0527552763401708 & 0.364770677869143\\end{matrix}\\right]$"
      ],
      "text/plain": [
       "Matrix([\n",
       "[ 0.364770677869144, 0.25, 0.0527552763401708,  0.166237022895343,  0.166237022895343],\n",
       "[              0.25,    0,               0.25,               0.25,               0.25],\n",
       "[0.0527552763401707, 0.25,  0.364770677869144,  0.166237022895343,  0.166237022895343],\n",
       "[ 0.166237022895343, 0.25,  0.166237022895343,  0.364770677869144, 0.0527552763401707],\n",
       "[ 0.166237022895343, 0.25,  0.166237022895343, 0.0527552763401708,  0.364770677869143]])"
      ]
     },
     "execution_count": 13,
     "metadata": {},
     "output_type": "execute_result"
    }
   ],
   "source": [
    "Pb = np.empty((5,5))\n",
    "B = ['-1', '0', '1', 'i', '-i']\n",
    "for i in range(5):\n",
    "    x = B[i]\n",
    "    for j in range(5):\n",
    "        y = B[j]\n",
    "        Pb[i,j] = P_b(x,y)\n",
    "Matrix(Pb)"
   ]
  },
  {
   "cell_type": "code",
   "execution_count": 14,
   "id": "cathedral-modem",
   "metadata": {},
   "outputs": [
    {
     "data": {
      "text/plain": [
       "array([[0.36477068, 0.25      , 0.05275528, 0.16623702, 0.16623702],\n",
       "       [0.25      , 0.        , 0.25      , 0.25      , 0.25      ],\n",
       "       [0.05275528, 0.25      , 0.36477068, 0.16623702, 0.16623702],\n",
       "       [0.16623702, 0.25      , 0.16623702, 0.36477068, 0.05275528],\n",
       "       [0.16623702, 0.25      , 0.16623702, 0.05275528, 0.36477068]])"
      ]
     },
     "execution_count": 14,
     "metadata": {},
     "output_type": "execute_result"
    }
   ],
   "source": [
    "Pb"
   ]
  },
  {
   "cell_type": "code",
   "execution_count": 15,
   "id": "pregnant-sport",
   "metadata": {},
   "outputs": [
    {
     "data": {
      "text/plain": [
       "0.3935586587240384"
      ]
     },
     "execution_count": 15,
     "metadata": {},
     "output_type": "execute_result"
    }
   ],
   "source": [
    "P1 = 0.25 * 1/(1-Pb[0,0])\n",
    "P1"
   ]
  },
  {
   "cell_type": "code",
   "execution_count": 16,
   "id": "suburban-estonia",
   "metadata": {},
   "outputs": [
    {
     "data": {
      "text/plain": [
       "0.314643283184469"
      ]
     },
     "execution_count": 16,
     "metadata": {},
     "output_type": "execute_result"
    }
   ],
   "source": [
    "P2 = 0.25 * 1/(1 - Pb[0,0] - Pb[0,2]) + 0.5 * 1/(1 - Pb[0,0] - Pb[0,3]) - 3 * P1\n",
    "P2"
   ]
  },
  {
   "cell_type": "code",
   "execution_count": 17,
   "id": "brutal-seventh",
   "metadata": {},
   "outputs": [],
   "source": [
    "P = (Pb[[0,2,3,4]])[:,[0,2,3,4]]"
   ]
  },
  {
   "cell_type": "code",
   "execution_count": 18,
   "id": "realistic-favor",
   "metadata": {},
   "outputs": [
    {
     "data": {
      "text/latex": [
       "$\\displaystyle \\left[\\begin{matrix}0.364770677869144 & 0.0527552763401708 & 0.166237022895343 & 0.166237022895343\\\\0.0527552763401707 & 0.364770677869144 & 0.166237022895343 & 0.166237022895343\\\\0.166237022895343 & 0.166237022895343 & 0.364770677869144 & 0.0527552763401707\\\\0.166237022895343 & 0.166237022895343 & 0.0527552763401708 & 0.364770677869143\\end{matrix}\\right]$"
      ],
      "text/plain": [
       "Matrix([\n",
       "[ 0.364770677869144, 0.0527552763401708,  0.166237022895343,  0.166237022895343],\n",
       "[0.0527552763401707,  0.364770677869144,  0.166237022895343,  0.166237022895343],\n",
       "[ 0.166237022895343,  0.166237022895343,  0.364770677869144, 0.0527552763401707],\n",
       "[ 0.166237022895343,  0.166237022895343, 0.0527552763401708,  0.364770677869143]])"
      ]
     },
     "execution_count": 18,
     "metadata": {},
     "output_type": "execute_result"
    }
   ],
   "source": [
    "Matrix(P)"
   ]
  },
  {
   "cell_type": "code",
   "execution_count": 20,
   "id": "veterinary-tulsa",
   "metadata": {},
   "outputs": [
    {
     "data": {
      "text/plain": [
       "array([[0.4863609 , 0.22164936, 0.22164936, 0.07034037],\n",
       "       [0.22164936, 0.4863609 , 0.07034037, 0.22164936],\n",
       "       [0.22164936, 0.07034037, 0.4863609 , 0.22164936],\n",
       "       [0.07034037, 0.22164936, 0.22164936, 0.4863609 ]])"
      ]
     },
     "execution_count": 20,
     "metadata": {},
     "output_type": "execute_result"
    }
   ],
   "source": [
    "x = np.array(P[1])\n",
    "P[1] = P[3]\n",
    "P[3] = x\n",
    "x = np.array(P[:,1]) \n",
    "P[:,1] = P[:,3]\n",
    "P[:,3] = x\n",
    "P = P / 0.75\n",
    "P"
   ]
  },
  {
   "cell_type": "code",
   "execution_count": 21,
   "id": "julian-emerald",
   "metadata": {},
   "outputs": [
    {
     "ename": "SyntaxError",
     "evalue": "invalid syntax (3566482886.py, line 1)",
     "output_type": "error",
     "traceback": [
      "\u001b[1;36m  Input \u001b[1;32mIn [21]\u001b[1;36m\u001b[0m\n\u001b[1;33m    np.linalg.solve(,[0,0,0,0])\u001b[0m\n\u001b[1;37m                    ^\u001b[0m\n\u001b[1;31mSyntaxError\u001b[0m\u001b[1;31m:\u001b[0m invalid syntax\n"
     ]
    }
   ],
   "source": [
    "np.linalg.solve(,[0,0,0,0])"
   ]
  },
  {
   "cell_type": "code",
   "execution_count": 22,
   "id": "matched-authority",
   "metadata": {},
   "outputs": [
    {
     "data": {
      "text/plain": [
       "3"
      ]
     },
     "execution_count": 22,
     "metadata": {},
     "output_type": "execute_result"
    }
   ],
   "source": [
    "np.linalg.matrix_rank(P.T - np.eye(4))"
   ]
  },
  {
   "cell_type": "code",
   "execution_count": 24,
   "id": "close-greensboro",
   "metadata": {},
   "outputs": [],
   "source": [
    "P_calc = (P-np.eye(4)).copy()"
   ]
  },
  {
   "cell_type": "code",
   "execution_count": 25,
   "id": "continued-texture",
   "metadata": {},
   "outputs": [
    {
     "data": {
      "text/latex": [
       "$\\displaystyle \\left[\\begin{matrix}1.0 & -0.431527439229755 & -0.431527439229755 & -0.13694512154049\\\\0 & -0.417991313780868 & 0.165988150847168 & 0.2520031629337\\\\0 & 0.165988150847168 & -0.417991313780868 & 0.2520031629337\\\\0 & 0.2520031629337 & 0.2520031629337 & -0.504006325867399\\end{matrix}\\right]$"
      ],
      "text/plain": [
       "Matrix([\n",
       "[1.0, -0.431527439229755, -0.431527439229755,  -0.13694512154049],\n",
       "[  0, -0.417991313780868,  0.165988150847168,    0.2520031629337],\n",
       "[  0,  0.165988150847168, -0.417991313780868,    0.2520031629337],\n",
       "[  0,    0.2520031629337,    0.2520031629337, -0.504006325867399]])"
      ]
     },
     "execution_count": 25,
     "metadata": {},
     "output_type": "execute_result"
    }
   ],
   "source": [
    "for i in [1,2,3]:\n",
    "    P_calc[i] = P_calc[i] - P_calc[0] * P_calc[i,0] / P_calc[0,0]\n",
    "P_calc[0] /= P_calc[0,0]\n",
    "Matrix(P_calc)"
   ]
  },
  {
   "cell_type": "code",
   "execution_count": 26,
   "id": "center-capitol",
   "metadata": {},
   "outputs": [
    {
     "data": {
      "text/latex": [
       "$\\displaystyle \\left[\\begin{matrix}1.0 & 0 & -0.602890908555608 & -0.397109091444392\\\\0 & 1.0 & -0.397109091444392 & -0.602890908555608\\\\0 & 0 & -0.352075910007414 & 0.352075910007414\\\\0 & 0 & 0.352075910007415 & -0.352075910007414\\end{matrix}\\right]$"
      ],
      "text/plain": [
       "Matrix([\n",
       "[1.0,   0, -0.602890908555608, -0.397109091444392],\n",
       "[  0, 1.0, -0.397109091444392, -0.602890908555608],\n",
       "[  0,   0, -0.352075910007414,  0.352075910007414],\n",
       "[  0,   0,  0.352075910007415, -0.352075910007414]])"
      ]
     },
     "execution_count": 26,
     "metadata": {},
     "output_type": "execute_result"
    }
   ],
   "source": [
    "for i in [0,2,3]:\n",
    "    P_calc[i] = P_calc[i] - P_calc[1] * P_calc[i,1] / P_calc[1,1]\n",
    "P_calc[1] /= P_calc[1,1]\n",
    "Matrix(P_calc)"
   ]
  },
  {
   "cell_type": "code",
   "execution_count": 27,
   "id": "advisory-translation",
   "metadata": {
    "scrolled": true
   },
   "outputs": [
    {
     "data": {
      "text/latex": [
       "$\\displaystyle \\left[\\begin{matrix}1.0 & 0 & 0 & -1.0\\\\0 & 1.0 & 5.55111512312578 \\cdot 10^{-17} & -1.0\\\\0 & 0 & 1.0 & -1.0\\\\0 & 0 & 0 & 6.66133814775094 \\cdot 10^{-16}\\end{matrix}\\right]$"
      ],
      "text/plain": [
       "Matrix([\n",
       "[1.0,   0,                    0,                 -1.0],\n",
       "[  0, 1.0, 5.55111512312578e-17,                 -1.0],\n",
       "[  0,   0,                  1.0,                 -1.0],\n",
       "[  0,   0,                    0, 6.66133814775094e-16]])"
      ]
     },
     "execution_count": 27,
     "metadata": {},
     "output_type": "execute_result"
    }
   ],
   "source": [
    "for i in [0,1,3]:\n",
    "    P_calc[i] = P_calc[i] - P_calc[2] * P_calc[i,2] / P_calc[2,2]\n",
    "P_calc[2] /= P_calc[2,2]\n",
    "Matrix(P_calc)"
   ]
  },
  {
   "cell_type": "code",
   "execution_count": 28,
   "id": "absent-obligation",
   "metadata": {},
   "outputs": [
    {
     "data": {
      "text/plain": [
       "0.5625"
      ]
     },
     "execution_count": 28,
     "metadata": {},
     "output_type": "execute_result"
    }
   ],
   "source": [
    "0.75 ** 2"
   ]
  },
  {
   "cell_type": "code",
   "execution_count": 33,
   "id": "dominican-marine",
   "metadata": {},
   "outputs": [
    {
     "data": {
      "text/plain": [
       "-0.09567682825533885"
      ]
     },
     "execution_count": 33,
     "metadata": {},
     "output_type": "execute_result"
    }
   ],
   "source": [
    "P3 = 0.75 / (1 - 0.5625) - 3* P1 - 2 * P2\n",
    "P3"
   ]
  },
  {
   "cell_type": "code",
   "execution_count": 35,
   "id": "persistent-reader",
   "metadata": {},
   "outputs": [
    {
     "data": {
      "text/plain": [
       "0.9554333358998726"
      ]
     },
     "execution_count": 35,
     "metadata": {},
     "output_type": "execute_result"
    }
   ],
   "source": [
    "2 * (0.25 + 0.25 * (0.365 + 0.166+0.166) / (1 - 0.5625) + 0.5 + 0.5 * (0.365+0.166+0.053) / (1 - 0.5625)) - 6 * P1 - P2"
   ]
  },
  {
   "cell_type": "code",
   "execution_count": 20,
   "id": "stuck-washington",
   "metadata": {},
   "outputs": [
    {
     "data": {
      "text/plain": [
       "0.5850000000000001"
      ]
     },
     "execution_count": 20,
     "metadata": {},
     "output_type": "execute_result"
    }
   ],
   "source": [
    "0.366 + 0.166 + 0.053"
   ]
  },
  {
   "cell_type": "code",
   "execution_count": 111,
   "id": "dense-leeds",
   "metadata": {},
   "outputs": [
    {
     "data": {
      "text/plain": [
       "array([0.25      , 0.25000001, 0.24999999, 0.25      ])"
      ]
     },
     "execution_count": 111,
     "metadata": {},
     "output_type": "execute_result"
    }
   ],
   "source": [
    "p0 = np.array([0,1,0,0])\n",
    "for i in range(20):\n",
    "    p0 = p0 @ P\n",
    "p0"
   ]
  },
  {
   "cell_type": "code",
   "execution_count": 26,
   "id": "under-climb",
   "metadata": {},
   "outputs": [],
   "source": [
    "Px = P / 0.75"
   ]
  },
  {
   "cell_type": "code",
   "execution_count": 31,
   "id": "helpful-signature",
   "metadata": {},
   "outputs": [
    {
     "data": {
      "text/plain": [
       "array([[0.25623549, 0.24377389, 0.24999531, 0.24999531],\n",
       "       [0.24377389, 0.25623549, 0.24999531, 0.24999531],\n",
       "       [0.24999531, 0.24999531, 0.25623549, 0.24377389],\n",
       "       [0.24999531, 0.24999531, 0.24377389, 0.25623549]])"
      ]
     },
     "execution_count": 31,
     "metadata": {},
     "output_type": "execute_result"
    }
   ],
   "source": [
    "np.linalg.matrix_power(Px,5)"
   ]
  },
  {
   "cell_type": "code",
   "execution_count": 115,
   "id": "outdoor-ethics",
   "metadata": {},
   "outputs": [],
   "source": [
    "P4 = 1 - P1 - P2 - P3"
   ]
  },
  {
   "cell_type": "code",
   "execution_count": 116,
   "id": "polished-compression",
   "metadata": {},
   "outputs": [
    {
     "data": {
      "text/plain": [
       "0.07283160316236248"
      ]
     },
     "execution_count": 116,
     "metadata": {},
     "output_type": "execute_result"
    }
   ],
   "source": [
    "P4"
   ]
  },
  {
   "cell_type": "markdown",
   "id": "covered-logging",
   "metadata": {},
   "source": [
    "# Теор. расчёт N=3 через матрицу"
   ]
  },
  {
   "cell_type": "code",
   "execution_count": 36,
   "id": "absent-david",
   "metadata": {},
   "outputs": [
    {
     "data": {
      "text/plain": [
       "array([[0.36477068, 0.25      , 0.05275528, 0.16623702, 0.16623702],\n",
       "       [0.25      , 0.        , 0.25      , 0.25      , 0.25      ],\n",
       "       [0.05275528, 0.25      , 0.36477068, 0.16623702, 0.16623702],\n",
       "       [0.16623702, 0.25      , 0.16623702, 0.36477068, 0.05275528],\n",
       "       [0.16623702, 0.25      , 0.16623702, 0.05275528, 0.36477068]])"
      ]
     },
     "execution_count": 36,
     "metadata": {},
     "output_type": "execute_result"
    }
   ],
   "source": [
    "Pb"
   ]
  },
  {
   "cell_type": "code",
   "execution_count": 38,
   "id": "warming-potential",
   "metadata": {},
   "outputs": [
    {
     "data": {
      "text/plain": [
       "array([[0.36477068, 0.25      , 0.05275528, 0.16623702, 0.16623702],\n",
       "       [0.        , 1.        , 0.        , 0.        , 0.        ],\n",
       "       [0.05275528, 0.25      , 0.36477068, 0.16623702, 0.16623702],\n",
       "       [0.16623702, 0.25      , 0.16623702, 0.36477068, 0.05275528],\n",
       "       [0.16623702, 0.25      , 0.16623702, 0.05275528, 0.36477068]])"
      ]
     },
     "execution_count": 38,
     "metadata": {},
     "output_type": "execute_result"
    }
   ],
   "source": [
    "P_real = Pb.copy()\n",
    "P_real[1] = [0,1,0,0,0]\n",
    "P_real"
   ]
  },
  {
   "cell_type": "code",
   "execution_count": 39,
   "id": "legal-trainer",
   "metadata": {},
   "outputs": [
    {
     "data": {
      "text/plain": [
       "array([[0.01408275, 0.94368649, 0.01407401, 0.01407838, 0.01407838],\n",
       "       [0.        , 1.        , 0.        , 0.        , 0.        ],\n",
       "       [0.01407401, 0.94368649, 0.01408275, 0.01407838, 0.01407838],\n",
       "       [0.01407838, 0.94368649, 0.01407838, 0.01408275, 0.01407401],\n",
       "       [0.01407838, 0.94368649, 0.01407838, 0.01407401, 0.01408275]])"
      ]
     },
     "execution_count": 39,
     "metadata": {},
     "output_type": "execute_result"
    }
   ],
   "source": [
    "np.linalg.matrix_power(P_real, 10)"
   ]
  },
  {
   "cell_type": "code",
   "execution_count": 43,
   "id": "secret-equation",
   "metadata": {},
   "outputs": [],
   "source": [
    "H0 = np.array([0.25, 0, 0,0.25, 0.25])\n",
    "P_real[:,2] = 0"
   ]
  },
  {
   "cell_type": "code",
   "execution_count": 45,
   "id": "tough-management",
   "metadata": {},
   "outputs": [
    {
     "data": {
      "text/plain": [
       "array([0.00272352, 0.49527812, 0.        , 0.00215398, 0.00215398])"
      ]
     },
     "execution_count": 45,
     "metadata": {},
     "output_type": "execute_result"
    }
   ],
   "source": [
    "H0 @ np.linalg.matrix_power(P_real, 10)"
   ]
  },
  {
   "cell_type": "code",
   "execution_count": 89,
   "id": "attended-space",
   "metadata": {},
   "outputs": [
    {
     "data": {
      "text/plain": [
       "array([0.00215398, 0.49527812, 0.00215398, 0.        , 0.00272352])"
      ]
     },
     "execution_count": 89,
     "metadata": {},
     "output_type": "execute_result"
    }
   ],
   "source": [
    "P_real = Pb.copy()\n",
    "P_real[1] = [0,1,0,0,0]\n",
    "H0 = np.array([0.25, 0, 0.25,0.25, 0.25])\n",
    "P_real[:,3] = 0\n",
    "P_real[3] = 0\n",
    "H0[3] = 0\n",
    "H0 @ np.linalg.matrix_power(P_real, 10)"
   ]
  },
  {
   "cell_type": "code",
   "execution_count": 70,
   "id": "illegal-benjamin",
   "metadata": {},
   "outputs": [
    {
     "data": {
      "text/latex": [
       "$\\displaystyle \\left[\\begin{matrix}2.50693868341306 \\cdot 10^{-5} & 0.636564816230011 & 2.50693103589275 \\cdot 10^{-5} & 0 & 3.16979981646117 \\cdot 10^{-5}\\\\0 & 1.0 & 0 & 0 & 0\\\\2.50693103589275 \\cdot 10^{-5} & 0.636564816230011 & 2.50693868341306 \\cdot 10^{-5} & 0 & 3.16979981646117 \\cdot 10^{-5}\\\\0 & 0 & 0 & 0 & 0\\\\3.16979981646117 \\cdot 10^{-5} & 0.726690968036593 & 3.16979981646117 \\cdot 10^{-5} & 0 & 4.00793456510306 \\cdot 10^{-5}\\end{matrix}\\right]$"
      ],
      "text/plain": [
       "Matrix([\n",
       "[2.50693868341306e-5, 0.636564816230011, 2.50693103589275e-5, 0, 3.16979981646117e-5],\n",
       "[                  0,               1.0,                   0, 0,                   0],\n",
       "[2.50693103589275e-5, 0.636564816230011, 2.50693868341306e-5, 0, 3.16979981646117e-5],\n",
       "[                  0,                 0,                   0, 0,                   0],\n",
       "[3.16979981646117e-5, 0.726690968036593, 3.16979981646117e-5, 0, 4.00793456510306e-5]])"
      ]
     },
     "execution_count": 70,
     "metadata": {},
     "output_type": "execute_result"
    }
   ],
   "source": [
    "Matrix(np.linalg.matrix_power(P_real, 20))"
   ]
  },
  {
   "cell_type": "code",
   "execution_count": 77,
   "id": "lonely-telescope",
   "metadata": {},
   "outputs": [
    {
     "data": {
      "text/plain": [
       "array([[0.36477068, 0.25      , 0.05275528, 0.        , 0.16623702],\n",
       "       [0.        , 1.        , 0.        , 0.        , 0.        ],\n",
       "       [0.05275528, 0.25      , 0.36477068, 0.        , 0.16623702],\n",
       "       [0.        , 0.        , 0.        , 0.        , 0.        ],\n",
       "       [0.16623702, 0.25      , 0.16623702, 0.        , 0.36477068]])"
      ]
     },
     "execution_count": 77,
     "metadata": {},
     "output_type": "execute_result"
    }
   ],
   "source": [
    "P_real"
   ]
  },
  {
   "cell_type": "code",
   "execution_count": 75,
   "id": "lonely-mirror",
   "metadata": {},
   "outputs": [
    {
     "data": {
      "text/plain": [
       "array([[1.        , 0.        , 0.        , 0.        , 0.39814776],\n",
       "       [0.        , 1.        , 0.        , 0.        , 0.        ],\n",
       "       [0.        , 0.        , 1.        , 0.        , 0.39814776],\n",
       "       [0.        , 0.        , 0.        , 0.        , 0.        ],\n",
       "       [0.        , 0.        , 0.        , 0.        , 0.23239688]])"
      ]
     },
     "execution_count": 75,
     "metadata": {},
     "output_type": "execute_result"
    }
   ],
   "source": [
    "P_real"
   ]
  },
  {
   "cell_type": "code",
   "execution_count": 90,
   "id": "aggressive-kazakhstan",
   "metadata": {},
   "outputs": [
    {
     "data": {
      "text/latex": [
       "$\\displaystyle \\left[\\begin{matrix}1.0 & -0.393558658724038 & -0.0830491831882145 & 0 & -0.261696079043874\\\\0 & 0 & 0 & 0 & 0\\\\0 & 0.270762295797054 & -0.630848039521937 & 0 & 0.180042871862442\\\\0 & 0 & 0 & -1.0 & 0\\\\0 & 0.315424019760968 & 0.180042871862442 & 0 & -0.591725745047219\\end{matrix}\\right]$"
      ],
      "text/plain": [
       "Matrix([\n",
       "[1.0, -0.393558658724038, -0.0830491831882145,    0, -0.261696079043874],\n",
       "[  0,                  0,                   0,    0,                  0],\n",
       "[  0,  0.270762295797054,  -0.630848039521937,    0,  0.180042871862442],\n",
       "[  0,                  0,                   0, -1.0,                  0],\n",
       "[  0,  0.315424019760968,   0.180042871862442,    0, -0.591725745047219]])"
      ]
     },
     "execution_count": 90,
     "metadata": {},
     "output_type": "execute_result"
    }
   ],
   "source": [
    "P_calc = P_real - np.eye(5)\n",
    "for i in [2, 4]:\n",
    "    P_calc[i] = P_calc[i] - P_calc[0] * P_calc[i,0] / P_calc[0,0]\n",
    "P_calc[0] /= P_calc[0,0]\n",
    "Matrix(P_calc)"
   ]
  },
  {
   "cell_type": "code",
   "execution_count": 91,
   "id": "empty-teens",
   "metadata": {
    "scrolled": true
   },
   "outputs": [
    {
     "data": {
      "text/latex": [
       "$\\displaystyle \\left[\\begin{matrix}1.0 & 0 & -1.0 & 0 & 0\\\\0 & 0 & 0 & 0 & 0\\\\0 & 1.0 & -2.32989618316274 & 0 & 0.664948091581372\\\\0 & 0 & 0 & -1.0 & 0\\\\0 & 0 & 0.914948091581372 & 0 & -0.8014663450262\\end{matrix}\\right]$"
      ],
      "text/plain": [
       "Matrix([\n",
       "[1.0,   0,              -1.0,    0,                 0],\n",
       "[  0,   0,                 0,    0,                 0],\n",
       "[  0, 1.0, -2.32989618316274,    0, 0.664948091581372],\n",
       "[  0,   0,                 0, -1.0,                 0],\n",
       "[  0,   0, 0.914948091581372,    0,  -0.8014663450262]])"
      ]
     },
     "execution_count": 91,
     "metadata": {},
     "output_type": "execute_result"
    }
   ],
   "source": [
    "for i in [0,4]:\n",
    "    P_calc[i] = P_calc[i] - P_calc[2] * P_calc[i,1] / P_calc[2,1]\n",
    "P_calc[2] /= P_calc[2,1]\n",
    "Matrix(P_calc)"
   ]
  },
  {
   "cell_type": "code",
   "execution_count": 92,
   "id": "expired-turning",
   "metadata": {},
   "outputs": [
    {
     "data": {
      "text/latex": [
       "$\\displaystyle \\left[\\begin{matrix}1.0 & 0 & -1.0 & 0 & 0\\\\0 & 0 & 0 & 0 & 0\\\\0 & 1.0 & 0 & 0 & -1.37596919694205\\\\0 & 0 & 0 & -1.0 & 0\\\\0 & 0 & 1.0 & 0 & -0.875969196942055\\end{matrix}\\right]$"
      ],
      "text/plain": [
       "Matrix([\n",
       "[1.0,   0, -1.0,    0,                  0],\n",
       "[  0,   0,    0,    0,                  0],\n",
       "[  0, 1.0,    0,    0,  -1.37596919694205],\n",
       "[  0,   0,    0, -1.0,                  0],\n",
       "[  0,   0,  1.0,    0, -0.875969196942055]])"
      ]
     },
     "execution_count": 92,
     "metadata": {},
     "output_type": "execute_result"
    }
   ],
   "source": [
    "for i in [2]:\n",
    "    P_calc[i] = P_calc[i] - P_calc[4] * P_calc[i,2] / P_calc[4,2]\n",
    "P_calc[4] /= P_calc[4,2]\n",
    "Matrix(P_calc)"
   ]
  },
  {
   "cell_type": "code",
   "execution_count": 48,
   "id": "supreme-photograph",
   "metadata": {},
   "outputs": [
    {
     "data": {
      "text/plain": [
       "0.19003745745894696"
      ]
     },
     "execution_count": 48,
     "metadata": {},
     "output_type": "execute_result"
    }
   ],
   "source": [
    "2 - 3 * P1 - 2 * P2"
   ]
  },
  {
   "cell_type": "code",
   "execution_count": 58,
   "id": "italic-timber",
   "metadata": {},
   "outputs": [
    {
     "data": {
      "text/plain": [
       "array([[0.36477068, 0.25      , 0.05275528, 0.        , 0.16623702],\n",
       "       [0.        , 1.        , 0.        , 0.        , 0.        ],\n",
       "       [0.05275528, 0.25      , 0.36477068, 0.        , 0.16623702],\n",
       "       [0.        , 0.        , 0.        , 0.        , 0.        ],\n",
       "       [0.16623702, 0.25      , 0.16623702, 0.        , 0.36477068]])"
      ]
     },
     "execution_count": 58,
     "metadata": {},
     "output_type": "execute_result"
    }
   ],
   "source": [
    "P_real"
   ]
  },
  {
   "cell_type": "code",
   "execution_count": 62,
   "id": "weekly-specification",
   "metadata": {},
   "outputs": [],
   "source": [
    "D, P = np.linalg.eig(P_real)"
   ]
  },
  {
   "cell_type": "code",
   "execution_count": 63,
   "id": "adapted-berry",
   "metadata": {},
   "outputs": [
    {
     "data": {
      "text/latex": [
       "$\\displaystyle \\left[\\begin{matrix}0.627718126787864\\\\0.312015401528973\\\\0.154578505290593\\\\1.0\\\\0\\end{matrix}\\right]$"
      ],
      "text/plain": [
       "Matrix([\n",
       "[0.627718126787864],\n",
       "[0.312015401528973],\n",
       "[0.154578505290593],\n",
       "[              1.0],\n",
       "[                0]])"
      ]
     },
     "execution_count": 63,
     "metadata": {},
     "output_type": "execute_result"
    }
   ],
   "source": [
    "Matrix(D)"
   ]
  },
  {
   "cell_type": "code",
   "execution_count": 64,
   "id": "undefined-resistance",
   "metadata": {},
   "outputs": [],
   "source": [
    "D_inf = np.array([0,0,0,1,0])"
   ]
  },
  {
   "cell_type": "code",
   "execution_count": 65,
   "id": "private-surprise",
   "metadata": {},
   "outputs": [
    {
     "data": {
      "text/latex": [
       "$\\displaystyle \\left[\\begin{matrix}-0.527138606242386 & -0.707106781186547 & 0.471301272869949 & 0.416282545466032 & 0\\\\0 & 0 & 0 & 0.653895093326874 & 0\\\\-0.527138606242386 & 0.707106781186548 & 0.47130127286995 & 0.416282545466032 & 0\\\\0 & 0 & 0 & 0 & 1.0\\\\-0.666520652056385 & -3.32627339492276 \\cdot 10^{-16} & -0.745486566198433 & 0.475225095721681 & 0\\end{matrix}\\right]$"
      ],
      "text/plain": [
       "Matrix([\n",
       "[-0.527138606242386,    -0.707106781186547,  0.471301272869949, 0.416282545466032,   0],\n",
       "[                 0,                     0,                  0, 0.653895093326874,   0],\n",
       "[-0.527138606242386,     0.707106781186548,   0.47130127286995, 0.416282545466032,   0],\n",
       "[                 0,                     0,                  0,                 0, 1.0],\n",
       "[-0.666520652056385, -3.32627339492276e-16, -0.745486566198433, 0.475225095721681,   0]])"
      ]
     },
     "execution_count": 65,
     "metadata": {},
     "output_type": "execute_result"
    }
   ],
   "source": [
    "Matrix(P)"
   ]
  },
  {
   "cell_type": "code",
   "execution_count": 93,
   "id": "front-liver",
   "metadata": {},
   "outputs": [
    {
     "data": {
      "text/plain": [
       "array([[0.36477068, 0.25      , 0.05275528, 0.        , 0.16623702],\n",
       "       [0.        , 1.        , 0.        , 0.        , 0.        ],\n",
       "       [0.05275528, 0.25      , 0.36477068, 0.        , 0.16623702],\n",
       "       [0.        , 0.        , 0.        , 0.        , 0.        ],\n",
       "       [0.16623702, 0.25      , 0.16623702, 0.        , 0.36477068]])"
      ]
     },
     "execution_count": 93,
     "metadata": {},
     "output_type": "execute_result"
    }
   ],
   "source": [
    "P @ np.diag(D) @ P_inv"
   ]
  },
  {
   "cell_type": "code",
   "execution_count": 67,
   "id": "necessary-technical",
   "metadata": {},
   "outputs": [],
   "source": [
    "P_inv = np.linalg.inv(P)"
   ]
  },
  {
   "cell_type": "code",
   "execution_count": 94,
   "id": "described-franklin",
   "metadata": {},
   "outputs": [
    {
     "data": {
      "text/plain": [
       "array([[0.        , 0.63661977, 0.        , 0.        , 0.        ],\n",
       "       [0.        , 1.        , 0.        , 0.        , 0.        ],\n",
       "       [0.        , 0.63661977, 0.        , 0.        , 0.        ],\n",
       "       [0.        , 0.        , 0.        , 0.        , 0.        ],\n",
       "       [0.        , 0.72676046, 0.        , 0.        , 0.        ]])"
      ]
     },
     "execution_count": 94,
     "metadata": {},
     "output_type": "execute_result"
    }
   ],
   "source": [
    "P @ np.diag(D_inf) @ P_inv"
   ]
  },
  {
   "cell_type": "markdown",
   "id": "stunning-skill",
   "metadata": {},
   "source": [
    "# Моделирование"
   ]
  },
  {
   "cell_type": "code",
   "execution_count": 54,
   "id": "painful-death",
   "metadata": {},
   "outputs": [],
   "source": [
    "from numba import njit\n",
    "from time import time\n",
    "\n",
    "@njit\n",
    "def experiment(phi, R, N):\n",
    "    x = np.array([round(R * np.cos(phi)), round(R * np.sin(phi))], dtype=np.int_)\n",
    "    neig = np.zeros(9, dtype=np.short)\n",
    "    steps = np.array([[1,0],[-1,0],[0,1],[0,-1]], dtype=np.int_)\n",
    "    k = 0\n",
    "    while True:\n",
    "        walk_directions = np.random.randint(0,4, size=N)\n",
    "        for i in range(1,N):\n",
    "            x = x + steps[walk_directions[i]]\n",
    "            if (np.abs(x) <= 1).all():\n",
    "                if (x == 0).all():\n",
    "                    return neig[1] + neig[3] + neig[5] + neig[7], k\n",
    "                else:\n",
    "                    neig[4 + 3 * x[1] + x[0]] = 1\n",
    "        k += N\n",
    "        if k > 1e6:\n",
    "            return 0, 0\n",
    "        \n",
    "@njit            \n",
    "def complex_experiment(R, N, Ni):\n",
    "    res_log = np.zeros(6, dtype=np.int_)\n",
    "    for i in range(Ni):\n",
    "        phi = 2 * np.pi * np.random.rand()\n",
    "        res = experiment(phi, R, N)\n",
    "        res_log[res[0]] += 1\n",
    "    res_log[5] = Ni\n",
    "    return res_log"
   ]
  },
  {
   "cell_type": "code",
   "execution_count": 74,
   "id": "according-oxide",
   "metadata": {},
   "outputs": [],
   "source": [
    "def write_out(res, R):\n",
    "    res_float = np.array([R, 0, 0, 0, 0, 0, res[-1]], dtype=np.float_)\n",
    "    res_float[1:-1] = res[:-1] / res[-1]\n",
    "    np.savetxt('Spitser_R_' + str(R) + '.txt', \n",
    "               [res_float], \n",
    "               delimiter=' ', \n",
    "               fmt=['%d', '%1.6f', '%1.6f', '%1.6f', '%1.6f', '%1.6f','%d'], \n",
    "               newline=' ', \n",
    "               header=' R  pError  p_N1  p_N2  p_N3  p_N4  steps\\n',\n",
    "               comments='')\n",
    "\n",
    "def main_func(R, Nmem, Ntime):\n",
    "    result_log = np.zeros(6, dtype=np.ulonglong)\n",
    "    k = 0\n",
    "    while True:\n",
    "        result_log = result_log + complex_experiment(R, Nmem, Ntime)\n",
    "        write_out(result_log, R)"
   ]
  },
  {
   "cell_type": "code",
   "execution_count": 75,
   "id": "postal-referral",
   "metadata": {},
   "outputs": [
    {
     "data": {
      "text/plain": [
       "0"
      ]
     },
     "execution_count": 75,
     "metadata": {},
     "output_type": "execute_result"
    }
   ],
   "source": [
    "main_func(10, 100000, 100)"
   ]
  },
  {
   "cell_type": "code",
   "execution_count": 33,
   "id": "twelve-faculty",
   "metadata": {},
   "outputs": [
    {
     "name": "stdout",
     "output_type": "stream",
     "text": [
      "CPU times: total: 406 ms\n",
      "Wall time: 409 ms\n"
     ]
    },
    {
     "data": {
      "text/plain": [
       "(0, 0)"
      ]
     },
     "execution_count": 33,
     "metadata": {},
     "output_type": "execute_result"
    }
   ],
   "source": [
    "%time experiment(0,100, int(1e5))"
   ]
  },
  {
   "cell_type": "markdown",
   "id": "clear-senate",
   "metadata": {},
   "source": [
    "# Умное моделирование)"
   ]
  },
  {
   "cell_type": "code",
   "execution_count": 65,
   "id": "filled-rendering",
   "metadata": {},
   "outputs": [],
   "source": [
    "from numba import njit, jit, prange\n",
    "\n",
    "@jit(parallel=True)\n",
    "def create_walk():\n",
    "    Pb = np.array([\n",
    "        [0.36477068, 0.05275528, 0.16623702, 0.16623702, 0.25      ],\n",
    "        [0.05275528, 0.36477068, 0.16623702, 0.16623702, 0.25      ],\n",
    "        [0.16623702, 0.16623702, 0.36477068, 0.05275528, 0.25      ],\n",
    "        [0.16623702, 0.16623702, 0.05275528, 0.36477068, 0.25      ],\n",
    "        [0      , 0        , 0      , 0      , 1.      ]], dtype=np.float_)\n",
    "    Xs = np.zeros(100, dtype=np.uint8)\n",
    "    Xs[0] = np.random.choice(4)\n",
    "    X_end = 0\n",
    "    for i in range(1,100):\n",
    "        Xs[i] = np.random.choice(5, None, True, Pb[Xs[i-1]])\n",
    "        if Xs[i] == 4:\n",
    "            return Xs[:i]\n",
    "    return Xs\n",
    "\n",
    "@njit\n",
    "def linear_unique(X):\n",
    "    count = np.zeros(4, dtype=np.uint8)\n",
    "    for i in range(X.shape[0]):\n",
    "        count[X[i]] += 1\n",
    "    return (count > 0).sum()\n",
    "        \n",
    "\n",
    "@jit\n",
    "def experiment():\n",
    "    Xs = create_walk()\n",
    "    return linear_unique(Xs)\n",
    "\n",
    "@jit            \n",
    "def complex_experiment(Ni):\n",
    "    res_log = np.zeros(5, dtype=np.int_)\n",
    "    for i in range(Ni):\n",
    "        res = experiment()\n",
    "        res_log[res - 1] += 1\n",
    "    res_log[4] = Ni\n",
    "    return res_log\n",
    "\n",
    "def write_out(res):\n",
    "    res_float = np.array([0, 0, 0, 0, res[-1]], dtype=np.float64)\n",
    "    res_float[:-1] = res[:-1] / res[-1]\n",
    "    np.savetxt('Spitser_simpler.txt', \n",
    "               [res_float], \n",
    "               delimiter=' ', \n",
    "               fmt=['%1.6f', '%1.6f', '%1.6f', '%1.6f','%d'], \n",
    "               newline=' ', \n",
    "               header='p_N1  p_N2  p_N3  p_N4  steps\\n',\n",
    "               comments='')\n",
    "\n",
    "def main_func(Ni, Nstop):\n",
    "    result_log = np.zeros(5, dtype=np.ulonglong)\n",
    "    k = 0\n",
    "    while k < Nstop:\n",
    "        result_log = result_log + complex_experiment(Ni)\n",
    "        write_out(result_log)\n",
    "        k += 1"
   ]
  },
  {
   "cell_type": "code",
   "execution_count": 68,
   "id": "executed-promotion",
   "metadata": {},
   "outputs": [],
   "source": [
    "main_func(100, 1000)"
   ]
  }
 ],
 "metadata": {
  "kernelspec": {
   "display_name": "Python 3",
   "language": "python",
   "name": "python3"
  },
  "language_info": {
   "codemirror_mode": {
    "name": "ipython",
    "version": 3
   },
   "file_extension": ".py",
   "mimetype": "text/x-python",
   "name": "python",
   "nbconvert_exporter": "python",
   "pygments_lexer": "ipython3",
   "version": "3.8.5"
  }
 },
 "nbformat": 4,
 "nbformat_minor": 5
}
