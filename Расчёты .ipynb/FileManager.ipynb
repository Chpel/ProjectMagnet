{
 "cells": [
  {
   "cell_type": "code",
   "execution_count": 15,
   "id": "short-supply",
   "metadata": {},
   "outputs": [],
   "source": [
    "from pathlib import Path\n",
    "import numpy as np"
   ]
  },
  {
   "cell_type": "code",
   "execution_count": 23,
   "id": "commercial-height",
   "metadata": {},
   "outputs": [
    {
     "data": {
      "text/plain": [
       "[WindowsPath('C:/Users/user/Documents/GitHub/ProjectMagnet/Simulation Results/Geo_Is_4D_All/Geometry_Ising_hypercubic 0.000000_0.000000_100in55.txt'),\n",
       " WindowsPath('C:/Users/user/Documents/GitHub/ProjectMagnet/Simulation Results/Geo_Is_4D_All/Geometry_Ising_hypercubic 0.000000_0.000000_1200in212.txt'),\n",
       " WindowsPath('C:/Users/user/Documents/GitHub/ProjectMagnet/Simulation Results/Geo_Is_4D_All/Geometry_Ising_hypercubic 0.000000_0.000000_200.txt'),\n",
       " WindowsPath('C:/Users/user/Documents/GitHub/ProjectMagnet/Simulation Results/Geo_Is_4D_All/Geometry_Ising_hypercubic 0.000000_0.000000_300in91.txt'),\n",
       " WindowsPath('C:/Users/user/Documents/GitHub/ProjectMagnet/Simulation Results/Geo_Is_4D_All/Geometry_Ising_hypercubic 0.000000_0.000000_600in127.txt'),\n",
       " WindowsPath('C:/Users/user/Documents/GitHub/ProjectMagnet/Simulation Results/Geo_Is_4D_All/Geometry_Ising_hypercubic 0.000000_0.000000_900in155.txt')]"
      ]
     },
     "execution_count": 23,
     "metadata": {},
     "output_type": "execute_result"
    }
   ],
   "source": [
    "DIR = Path.cwd().parent / \"Simulation Results\" / \"Geo_Is_4D_All\"\n",
    "list(DIR.glob('*'))"
   ]
  },
  {
   "cell_type": "code",
   "execution_count": 26,
   "id": "referenced-bicycle",
   "metadata": {},
   "outputs": [
    {
     "data": {
      "text/plain": [
       "'Geo_Is_4D_All.txt'"
      ]
     },
     "execution_count": 26,
     "metadata": {},
     "output_type": "execute_result"
    }
   ],
   "source": [
    "DIR.stem+\".txt\""
   ]
  },
  {
   "cell_type": "code",
   "execution_count": 31,
   "id": "sublime-malaysia",
   "metadata": {},
   "outputs": [],
   "source": [
    "output = DIR.parent / (DIR.stem+\".txt\")\n",
    "fout = open(output,'w')\n",
    "for name in DIR.glob('*'):\n",
    "    with open(name, 'r') as f:\n",
    "        i = 0\n",
    "        for line in f:\n",
    "            i += 1\n",
    "            if (i == 2):\n",
    "                fout.write(line)\n",
    "fout.close()\n"
   ]
  },
  {
   "cell_type": "code",
   "execution_count": 39,
   "id": "polished-migration",
   "metadata": {},
   "outputs": [
    {
     "data": {
      "text/plain": [
       "array([[1.00000e+02, 0.00000e+00, 0.00000e+00, 7.21195e-01, 4.43501e-05,\n",
       "        2.15133e-01, 3.41037e-05, 4.12373e-02, 1.62808e-05, 5.61158e-03,\n",
       "        6.25724e-06, 5.33897e-04, 1.75460e-06, 3.24129e-05, 4.57773e-07,\n",
       "        1.02395e-06, 7.87149e-08, 2.49300e+11, 0.00000e+00],\n",
       "       [1.20000e+03, 0.00000e+00, 0.00000e+00, 7.19753e-01, 4.63330e-05,\n",
       "        2.26158e-01, 3.24127e-05, 4.55487e-02, 1.75901e-05, 6.49924e-03,\n",
       "        5.42604e-06, 6.48220e-04, 1.48126e-06, 4.06524e-05, 3.44554e-07,\n",
       "        1.12732e-06, 5.77604e-08, 2.16000e+11, 1.21080e+06],\n",
       "       [2.00000e+02, 0.00000e+00, 0.00000e+00, 7.20881e-01, 7.91302e-05,\n",
       "        2.20804e-01, 5.84710e-05, 4.35053e-02, 3.00864e-05, 6.07101e-03,\n",
       "        1.14719e-05, 5.90010e-04, 3.02567e-06, 3.51304e-05, 9.75328e-07,\n",
       "        1.24418e-06, 1.21094e-07, 4.50000e+10, 0.00000e+00],\n",
       "       [3.00000e+02, 0.00000e+00, 0.00000e+00, 7.20411e-01, 3.12749e-05,\n",
       "        2.22997e-01, 2.34709e-05, 4.42923e-02, 1.19076e-05, 6.23969e-03,\n",
       "        3.78887e-06, 6.11690e-04, 1.02594e-06, 3.80916e-05, 2.91904e-07,\n",
       "        1.08756e-06, 4.53515e-08, 2.30500e+11, 0.00000e+00],\n",
       "       [6.00000e+02, 0.00000e+00, 0.00000e+00, 7.20042e-01, 3.55610e-05,\n",
       "        2.25069e-01, 2.59632e-05, 4.51088e-02, 1.24041e-05, 6.40092e-03,\n",
       "        4.40030e-06, 6.35059e-04, 1.11144e-06, 4.00885e-05, 2.29723e-07,\n",
       "        1.12613e-06, 5.01494e-08, 2.21300e+11, 3.12000e+04],\n",
       "       [9.00000e+02, 0.00000e+00, 0.00000e+00, 7.19840e-01, 4.15396e-05,\n",
       "        2.25804e-01, 2.86974e-05, 4.54041e-02, 1.56680e-05, 6.46563e-03,\n",
       "        6.08882e-06, 6.42369e-04, 1.41367e-06, 4.04098e-05, 3.27347e-07,\n",
       "        1.28322e-06, 5.31756e-08, 2.16400e+11, 4.19589e+07]])"
      ]
     },
     "execution_count": 39,
     "metadata": {},
     "output_type": "execute_result"
    }
   ],
   "source": [
    "data=np.loadtxt(output)\n",
    "data"
   ]
  },
  {
   "cell_type": "code",
   "execution_count": 40,
   "id": "medical-emphasis",
   "metadata": {},
   "outputs": [],
   "source": [
    "data.sort(axis=0)"
   ]
  },
  {
   "cell_type": "code",
   "execution_count": 41,
   "id": "favorite-friendship",
   "metadata": {},
   "outputs": [
    {
     "data": {
      "text/plain": [
       "array([[1.00000e+02, 0.00000e+00, 0.00000e+00, 7.19753e-01, 3.12749e-05,\n",
       "        2.15133e-01, 2.34709e-05, 4.12373e-02, 1.19076e-05, 5.61158e-03,\n",
       "        3.78887e-06, 5.33897e-04, 1.02594e-06, 3.24129e-05, 2.29723e-07,\n",
       "        1.02395e-06, 4.53515e-08, 4.50000e+10, 0.00000e+00],\n",
       "       [2.00000e+02, 0.00000e+00, 0.00000e+00, 7.19840e-01, 3.55610e-05,\n",
       "        2.20804e-01, 2.59632e-05, 4.35053e-02, 1.24041e-05, 6.07101e-03,\n",
       "        4.40030e-06, 5.90010e-04, 1.11144e-06, 3.51304e-05, 2.91904e-07,\n",
       "        1.08756e-06, 5.01494e-08, 2.16000e+11, 0.00000e+00],\n",
       "       [3.00000e+02, 0.00000e+00, 0.00000e+00, 7.20042e-01, 4.15396e-05,\n",
       "        2.22997e-01, 2.86974e-05, 4.42923e-02, 1.56680e-05, 6.23969e-03,\n",
       "        5.42604e-06, 6.11690e-04, 1.41367e-06, 3.80916e-05, 3.27347e-07,\n",
       "        1.12613e-06, 5.31756e-08, 2.16400e+11, 0.00000e+00],\n",
       "       [6.00000e+02, 0.00000e+00, 0.00000e+00, 7.20411e-01, 4.43501e-05,\n",
       "        2.25069e-01, 3.24127e-05, 4.51088e-02, 1.62808e-05, 6.40092e-03,\n",
       "        6.08882e-06, 6.35059e-04, 1.48126e-06, 4.00885e-05, 3.44554e-07,\n",
       "        1.12732e-06, 5.77604e-08, 2.21300e+11, 3.12000e+04],\n",
       "       [9.00000e+02, 0.00000e+00, 0.00000e+00, 7.20881e-01, 4.63330e-05,\n",
       "        2.25804e-01, 3.41037e-05, 4.54041e-02, 1.75901e-05, 6.46563e-03,\n",
       "        6.25724e-06, 6.42369e-04, 1.75460e-06, 4.04098e-05, 4.57773e-07,\n",
       "        1.24418e-06, 7.87149e-08, 2.30500e+11, 1.21080e+06],\n",
       "       [1.20000e+03, 0.00000e+00, 0.00000e+00, 7.21195e-01, 7.91302e-05,\n",
       "        2.26158e-01, 5.84710e-05, 4.55487e-02, 3.00864e-05, 6.49924e-03,\n",
       "        1.14719e-05, 6.48220e-04, 3.02567e-06, 4.06524e-05, 9.75328e-07,\n",
       "        1.28322e-06, 1.21094e-07, 2.49300e+11, 4.19589e+07]])"
      ]
     },
     "execution_count": 41,
     "metadata": {},
     "output_type": "execute_result"
    }
   ],
   "source": [
    "data"
   ]
  },
  {
   "cell_type": "code",
   "execution_count": null,
   "id": "received-honolulu",
   "metadata": {},
   "outputs": [],
   "source": []
  }
 ],
 "metadata": {
  "kernelspec": {
   "display_name": "Python 3",
   "language": "python",
   "name": "python3"
  },
  "language_info": {
   "codemirror_mode": {
    "name": "ipython",
    "version": 3
   },
   "file_extension": ".py",
   "mimetype": "text/x-python",
   "name": "python",
   "nbconvert_exporter": "python",
   "pygments_lexer": "ipython3",
   "version": "3.8.5"
  }
 },
 "nbformat": 4,
 "nbformat_minor": 5
}
