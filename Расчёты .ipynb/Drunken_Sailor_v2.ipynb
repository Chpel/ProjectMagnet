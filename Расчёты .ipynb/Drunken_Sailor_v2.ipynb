{
 "cells": [
  {
   "cell_type": "code",
   "execution_count": 2,
   "id": "09d9ce19",
   "metadata": {},
   "outputs": [],
   "source": [
    "import numpy as np\n",
    "import pandas as pd\n",
    "import matplotlib.pyplot as plt\n",
    "from pathlib import Path\n",
    "import numpy as np\n",
    "from numba import jit, njit, prange"
   ]
  },
  {
   "cell_type": "code",
   "execution_count": 81,
   "id": "72e3dce9",
   "metadata": {},
   "outputs": [],
   "source": [
    "@njit\n",
    "def create_walk(N):\n",
    "    x0 = np.array([0,0])\n",
    "    steps = np.array([[1,0],[-1,0],[0,1],[0,-1]])\n",
    "    walk_directions = np.random.randint(0,4, size=N)\n",
    "    walk_dots = np.zeros((N, 2), dtype=np.int16)\n",
    "    walk_dots[0] = x0\n",
    "    for i in range(1,N):\n",
    "        walk_dots[i] = walk_dots[i-1] + steps[walk_directions[i]]\n",
    "    return walk_dots\n",
    "    \n",
    "@njit\n",
    "def calc_fractions(dots, N):\n",
    "    steps = np.array([[1,0],[-1,0],[0,1],[0,-1]])\n",
    "    N_new = dots.shape[0]\n",
    "    walk_neighbors = 0\n",
    "    neigh_fract_0 = np.zeros(4, dtype=np.float_)\n",
    "    for i in range(N_new):\n",
    "        walk_neighbors = 0\n",
    "        for step in steps:\n",
    "            potential_n = dots[i] + step\n",
    "            for j in range(N_new):\n",
    "                if (dots[j] == potential_n).all():\n",
    "                    walk_neighbors += 1\n",
    "        neigh_fract_0[walk_neighbors-1] += 1\n",
    "    neigh_fract_0 /= N_new\n",
    "    return np.append(neigh_fract_0, N_new / N)\n",
    "\n",
    "@jit\n",
    "def experiment(N: int):\n",
    "    walk = create_walk(N)    \n",
    "    unique_dots = np.unique(walk, axis=0)\n",
    "    return calc_fractions(unique_dots,N)\n",
    "    \n",
    "@jit(parallel=True)\n",
    "def complex_experiment(N, di):\n",
    "    n1_new, n2_new, n3_new, n4_new, nU_new = np.zeros((5,di), dtype=np.float_)\n",
    "    for i in prange(di):\n",
    "        n1_new[i], n2_new[i], n3_new[i], n4_new[i], nU_new[i] = experiment(N)\n",
    "    return n1_new, n2_new, n3_new, n4_new, nU_new\n",
    "    \n",
    "@njit\n",
    "def stats(*args):\n",
    "    n = len(args)\n",
    "    means = np.zeros(n)\n",
    "    stds = np.zeros(n)\n",
    "    \n",
    "    i=0\n",
    "    for a in args:\n",
    "        means[i], stds[i] = a.mean(), a.std()\n",
    "        i+=1\n",
    "    return means, stds"
   ]
  },
  {
   "cell_type": "code",
   "execution_count": 82,
   "id": "94404187",
   "metadata": {},
   "outputs": [],
   "source": [
    "def write_results(N, obs_mean, obs_std, steps):\n",
    "    res_array = np.array([N])\n",
    "    res_array = np.append(res_array, obs_mean)\n",
    "    res_array = np.append(res_array, obs_std)\n",
    "    res_array = np.append(res_array, steps)\n",
    "    np.savetxt('Drunk_Sailor_N_' + str(N) + '.txt', \n",
    "               [res_array], \n",
    "               delimiter=' ', \n",
    "               fmt=['%d', '%1.6f', '%1.6f', '%1.6f', '%1.6f', '%1.6f', '%1.6f', '%1.6f', '%1.6f', '%1.6f', '%1.6f', '%d'], \n",
    "               newline=' ', \n",
    "               header='N  n1_mean  n2_mean  n3_mean  n4_mean  uni_mean  n1_std  n2_std  n3_std  n4_std  uni_std  steps\\n',\n",
    "               comments='')"
   ]
  },
  {
   "cell_type": "code",
   "execution_count": 83,
   "id": "0ced8072",
   "metadata": {},
   "outputs": [],
   "source": [
    "def main_func(N, di, stop_i):\n",
    "    n1 = np.array([])\n",
    "    n2 = np.array([])\n",
    "    n3 = np.array([])\n",
    "    n4 = np.array([])\n",
    "    nU = np.array([])\n",
    "    means = np.array([])\n",
    "    stds = np.array([])\n",
    "\n",
    "    iters = 0\n",
    "    while iters < stop_i:\n",
    "        n1_n, n2_n, n3_n, n4_n, nU_n = complex_experiment(N, di)   \n",
    "        n1 = np.append(n1, n1_n)\n",
    "        n2 = np.append(n2, n2_n)\n",
    "        n3 = np.append(n3, n3_n)\n",
    "        n4 = np.append(n4, n4_n)\n",
    "        nU = np.append(nU, nU_n)\n",
    "        obs_mean, obs_std = stats(n1,n2,n3,n4,nU)\n",
    "        if iters == 0:\n",
    "            means = np.array([obs_mean])\n",
    "            stds = np.array([obs_std])\n",
    "        else:\n",
    "            means = np.append(means, [obs_mean], axis=0)\n",
    "            stds = np.append(stds, [obs_std], axis=0)\n",
    "\n",
    "        write_results(N, obs_mean, obs_std, iters * di)\n",
    "        iters += 1"
   ]
  },
  {
   "cell_type": "code",
   "execution_count": 84,
   "id": "60f6960a",
   "metadata": {},
   "outputs": [],
   "source": [
    "from time import time"
   ]
  },
  {
   "cell_type": "code",
   "execution_count": 86,
   "id": "9814dc98",
   "metadata": {},
   "outputs": [
    {
     "name": "stdout",
     "output_type": "stream",
     "text": [
      "CPU times: total: 6.84 s\n",
      "Wall time: 6.85 s\n"
     ]
    }
   ],
   "source": [
    "%time main_func(100, 10000, 1)"
   ]
  },
  {
   "cell_type": "code",
   "execution_count": 48,
   "id": "e8d33bb3",
   "metadata": {},
   "outputs": [
    {
     "ename": "ValueError",
     "evalue": "not enough values to unpack (expected 3, got 2)",
     "output_type": "error",
     "traceback": [
      "\u001b[1;31m---------------------------------------------------------------------------\u001b[0m",
      "\u001b[1;31mValueError\u001b[0m                                Traceback (most recent call last)",
      "Input \u001b[1;32mIn [48]\u001b[0m, in \u001b[0;36m<cell line: 1>\u001b[1;34m()\u001b[0m\n\u001b[1;32m----> 1\u001b[0m a, b, c \u001b[38;5;241m=\u001b[39m np\u001b[38;5;241m.\u001b[39marray([\u001b[38;5;241m1\u001b[39m,\u001b[38;5;241m2\u001b[39m]), \u001b[38;5;241m3\u001b[39m\n",
      "\u001b[1;31mValueError\u001b[0m: not enough values to unpack (expected 3, got 2)"
     ]
    }
   ],
   "source": [
    "a, b, c = np.array([1,2]), 3"
   ]
  },
  {
   "cell_type": "code",
   "execution_count": null,
   "id": "ca77a2e2",
   "metadata": {},
   "outputs": [],
   "source": []
  }
 ],
 "metadata": {
  "kernelspec": {
   "display_name": "Python 3 (ipykernel)",
   "language": "python",
   "name": "python3"
  },
  "language_info": {
   "codemirror_mode": {
    "name": "ipython",
    "version": 3
   },
   "file_extension": ".py",
   "mimetype": "text/x-python",
   "name": "python",
   "nbconvert_exporter": "python",
   "pygments_lexer": "ipython3",
   "version": "3.9.12"
  }
 },
 "nbformat": 4,
 "nbformat_minor": 5
}
